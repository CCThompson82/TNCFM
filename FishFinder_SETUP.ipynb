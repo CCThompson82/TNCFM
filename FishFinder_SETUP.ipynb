{
 "cells": [
  {
   "cell_type": "markdown",
   "metadata": {},
   "source": [
    "# Nature Conservancy Fisheries Kaggle Competition\n",
    "## Dictionary Generation\n"
   ]
  },
  {
   "cell_type": "markdown",
   "metadata": {},
   "source": [
    "#### Dependencies"
   ]
  },
  {
   "cell_type": "code",
   "execution_count": 1,
   "metadata": {
    "collapsed": true
   },
   "outputs": [],
   "source": [
    "import numpy as np\n",
    "import pandas as pd\n",
    "import pickle\n",
    "from scipy import misc\n",
    "import os \n",
    "import fish_data as fd"
   ]
  },
  {
   "cell_type": "code",
   "execution_count": 2,
   "metadata": {
    "collapsed": false
   },
   "outputs": [
    {
     "name": "stdout",
     "output_type": "stream",
     "text": [
      "Help on module fish_data:\n",
      "\n",
      "NAME\n",
      "    fish_data\n",
      "\n",
      "DESCRIPTION\n",
      "    fish_data module contains the helper functions for the model build of the\n",
      "    Nature Conservancy Fisheries Kaggle Competition.\n",
      "    \n",
      "    Dependencies:\n",
      "        * numpy as np\n",
      "        * os\n",
      "        * scipy.ndimage as ndimage\n",
      "        * scipy.misc as misc\n",
      "        * scipy.special as special\n",
      "        * matplotlib.pyplot as plt\n",
      "        * tensorflow as tf\n",
      "        * pickle\n",
      "\n",
      "FUNCTIONS\n",
      "    annote_fovea_manager(f, image_dictionary, fovea_dictionary, validation_dictionary, fov_size=224, scale=[2.0, 1.0, 0.5], y_bins=10, x_bins=10, pixel_norm='standard', verdir=None)\n",
      "        Converts a high-resolution RGB image into an array stack for fovea prediction\n",
      "        in the FISHFINDER model.\n",
      "    \n",
      "    generate_filenames_list(subdirectory='data/train/', subfolders=True)\n",
      "        Iterates through the default 'data/train' folders of the working directory to\n",
      "        generate a list of filenames\n",
      "    \n",
      "    generate_fovea(f, fov_size=224, scale=[2.0, 1.0, 0.5], y_bins=10, x_bins=10, pixel_norm='standard')\n",
      "        Converts a high-resolution RGB image into an array stack for fovea prediction\n",
      "        in the FISHFINDER model.\n",
      "    \n",
      "    process_fovea(fovea, pixel_norm='standard', mutation=False)\n",
      "        Fn preprocesses a single fovea array.\n",
      "        \n",
      "        If mutation == True, modifications to input images will be made, each with 0.5\n",
      "        probability:\n",
      "        \n",
      "            * smallest dimension resized to standard height and width supplied in size param\n",
      "            * each channel centered to mean near zero.  Deviation is not normalized.\n",
      "            * if mutate == True :\n",
      "                * random flip left right\n",
      "                * random flip up down\n",
      "                * random rotation 90 degrees\n",
      "                * TODO : random colour adjustment\n",
      "        \n",
      "        Pixel value normalization is under development.\n",
      "    \n",
      "    show_panel(image)\n",
      "        Convenience function for showing an inline montage of the colour and merged channels\n",
      "\n",
      "FILE\n",
      "    /Users/ccthomps/Documents/Python Files/Kaggle Competitions/Nature Conservancy Fisheries/fish_data.py\n",
      "\n",
      "\n"
     ]
    }
   ],
   "source": [
    "help(fd)"
   ]
  },
  {
   "cell_type": "markdown",
   "metadata": {},
   "source": [
    "## Generate image_dictionary.pickle\n",
    "### Retrieve lists of filenames from data/"
   ]
  },
  {
   "cell_type": "code",
   "execution_count": 3,
   "metadata": {
    "collapsed": false
   },
   "outputs": [
    {
     "name": "stdout",
     "output_type": "stream",
     "text": [
      "Help on function generate_filenames_list in module fish_data:\n",
      "\n",
      "generate_filenames_list(subdirectory='data/train/', subfolders=True)\n",
      "    Iterates through the default 'data/train' folders of the working directory to\n",
      "    generate a list of filenames\n",
      "\n"
     ]
    }
   ],
   "source": [
    "help(fd.generate_filenames_list)"
   ]
  },
  {
   "cell_type": "code",
   "execution_count": 4,
   "metadata": {
    "collapsed": false
   },
   "outputs": [
    {
     "name": "stdout",
     "output_type": "stream",
     "text": [
      "3777 files in the training set list\n",
      "1000 files in the test set list\n"
     ]
    }
   ],
   "source": [
    "tr_list = fd.generate_filenames_list(subdirectory = 'data/train/', subfolders = True)\n",
    "te_list = fd.generate_filenames_list(subdirectory = 'data/test_stg1/', subfolders = False) \n",
    "print(\"{} files in the training set list\".format(len(tr_list)))\n",
    "print(\"{} files in the test set list\".format(len(te_list)))"
   ]
  },
  {
   "cell_type": "markdown",
   "metadata": {},
   "source": [
    "### Load and record image specs into image_dictionary"
   ]
  },
  {
   "cell_type": "code",
   "execution_count": 5,
   "metadata": {
    "collapsed": true
   },
   "outputs": [],
   "source": [
    "image_dictionary = {'train' : {}, \n",
    "                    'test_stg1' : {}\n",
    "                   }\n",
    "\n",
    "for f in tr_list :\n",
    "    img_lab = f[f.find('train/')+6:f.find('/img_')]\n",
    "    shape = misc.imread(f, mode = 'RGB').shape\n",
    "    image_dictionary['train'][f] = {'f': f, 'image_label' : img_lab, 'y_size' : shape[0], 'x_size' : shape[1]}"
   ]
  },
  {
   "cell_type": "code",
   "execution_count": 6,
   "metadata": {
    "collapsed": false
   },
   "outputs": [],
   "source": [
    "for f in te_list :\n",
    "    img_lab = 'TEST'\n",
    "    shape = misc.imread(f, mode = 'RGB').shape\n",
    "    image_dictionary['test_stg1'][f] = {'f': f, 'image_label' : img_lab, 'y_size' : shape[0], 'x_size' : shape[1]}"
   ]
  },
  {
   "cell_type": "code",
   "execution_count": 7,
   "metadata": {
    "collapsed": false
   },
   "outputs": [
    {
     "name": "stdout",
     "output_type": "stream",
     "text": [
      "4777 images in the image_dictionary\n"
     ]
    }
   ],
   "source": [
    "print(\"{} images in the image_dictionary\".format(len(image_dictionary.get('train'))+len(image_dictionary.get('test_stg1'))))\n"
   ]
  },
  {
   "cell_type": "markdown",
   "metadata": {},
   "source": [
    "### Pickle image_dictionary to local directory"
   ]
  },
  {
   "cell_type": "code",
   "execution_count": 8,
   "metadata": {
    "collapsed": true
   },
   "outputs": [],
   "source": [
    "with open('image_dictionary.pickle', 'wb') as fid:\n",
    "    pickle.dump(image_dictionary, fid)"
   ]
  },
  {
   "cell_type": "code",
   "execution_count": 9,
   "metadata": {
    "collapsed": false
   },
   "outputs": [
    {
     "name": "stdout",
     "output_type": "stream",
     "text": [
      "Dictionary of training set examples loaded correctly: True\n"
     ]
    }
   ],
   "source": [
    "with open('image_dictionary.pickle', 'rb') as handle :\n",
    "    test_open = pickle.load(handle)\n",
    "print(\"Dictionary of training set examples loaded correctly: {}\".format(len(test_open) == len(image_dictionary)))"
   ]
  },
  {
   "cell_type": "markdown",
   "metadata": {
    "collapsed": true
   },
   "source": [
    "## Initiate Fovea_set_dictionary (FishFinder training set)\n",
    "Will be empty for now."
   ]
  },
  {
   "cell_type": "code",
   "execution_count": 10,
   "metadata": {
    "collapsed": false
   },
   "outputs": [
    {
     "name": "stdout",
     "output_type": "stream",
     "text": [
      "Fovea dictionary initiated as empty and pickled.\n"
     ]
    }
   ],
   "source": [
    "fovea_dictionary = {'NoF' : {},\n",
    "                    'ALB' : {}, \n",
    "                    'BET' : {}, \n",
    "                    'DOL' : {},\n",
    "                    'LAG' : {},\n",
    "                    'OTHER' : {}, \n",
    "                    'SHARK' : {}, \n",
    "                    'YFT' : {}\n",
    "                   }\n",
    "with open('fovea_dictionary.pickle', 'wb') as ffd :\n",
    "    pickle.dump(fovea_dictionary, ffd)\n",
    "print(\"Fovea dictionary initiated as empty and pickled.\")"
   ]
  },
  {
   "cell_type": "markdown",
   "metadata": {
    "collapsed": true
   },
   "source": [
    "## Initiate Fovea validation set\n",
    "(empty)"
   ]
  },
  {
   "cell_type": "code",
   "execution_count": 11,
   "metadata": {
    "collapsed": false
   },
   "outputs": [
    {
     "name": "stdout",
     "output_type": "stream",
     "text": [
      "Validation dictionary initiated as empty and pickled.\n"
     ]
    }
   ],
   "source": [
    "validation_dictionary = {   'NoF' : {},\n",
    "                            'ALB' : {}, \n",
    "                            'BET' : {}, \n",
    "                            'DOL' : {},\n",
    "                            'LAG' : {},\n",
    "                            'OTHER' : {}, \n",
    "                            'SHARK' : {}, \n",
    "                            'YFT' : {}\n",
    "                        }\n",
    "with open('validation_dictionary.pickle', 'wb') as fvd :\n",
    "    pickle.dump(validation_dictionary, fvd)\n",
    "print(\"Validation dictionary initiated as empty and pickled.\")"
   ]
  },
  {
   "cell_type": "code",
   "execution_count": null,
   "metadata": {
    "collapsed": true
   },
   "outputs": [],
   "source": []
  }
 ],
 "metadata": {
  "kernelspec": {
   "display_name": "Python [conda root]",
   "language": "python",
   "name": "conda-root-py"
  },
  "language_info": {
   "codemirror_mode": {
    "name": "ipython",
    "version": 3
   },
   "file_extension": ".py",
   "mimetype": "text/x-python",
   "name": "python",
   "nbconvert_exporter": "python",
   "pygments_lexer": "ipython3",
   "version": "3.5.2"
  }
 },
 "nbformat": 4,
 "nbformat_minor": 2
}
