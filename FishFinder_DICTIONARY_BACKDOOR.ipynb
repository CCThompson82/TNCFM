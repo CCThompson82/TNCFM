{
 "cells": [
  {
   "cell_type": "markdown",
   "metadata": {},
   "source": [
    "# Nature Conservancy Fisheries Kaggle Competition\n",
    "## Backdoor for manual additions to the fovea_dictionary for FishFinder training\n",
    "This script can be used prior to, or during training of FishFinder NN, in order to manually annotate randomly generated fovea.\n",
    "#### Dependencies"
   ]
  },
  {
   "cell_type": "code",
   "execution_count": null,
   "metadata": {
    "collapsed": false
   },
   "outputs": [],
   "source": [
    "import numpy as np\n",
    "import pandas as pd\n",
    "import pickle\n",
    "from scipy import misc\n",
    "import os\n",
    "import fish_data as fd\n",
    "import matplotlib.pyplot as plt\n",
    "%matplotlib inline"
   ]
  },
  {
   "cell_type": "code",
   "execution_count": null,
   "metadata": {
    "collapsed": true
   },
   "outputs": [],
   "source": [
    "version_ID = 'v1.0'\n",
    "\n",
    "wd = os.getcwd()\n",
    "verdir = wd+'/FishFinder_v2/'+version_ID\n",
    "if not os.path.exists(verdir) :\n",
    "    os.makedirs(verdir)"
   ]
  },
  {
   "cell_type": "code",
   "execution_count": null,
   "metadata": {
    "collapsed": true
   },
   "outputs": [],
   "source": [
    "fov_size = 128\n",
    "from_empty = True "
   ]
  },
  {
   "cell_type": "markdown",
   "metadata": {},
   "source": [
    "#### Load dictionaries\n",
    "Generated in `FishFinder_SETUP.ipynb`"
   ]
  },
  {
   "cell_type": "code",
   "execution_count": null,
   "metadata": {
    "collapsed": false
   },
   "outputs": [],
   "source": [
    "if from_empty == True :\n",
    "\n",
    "    with open('image_dictionary.pickle', 'rb') as handle : \n",
    "        image_dictionary = pickle.load(handle)\n",
    "\n",
    "    with open('fovea_dictionary.pickle', 'rb') as handle : \n",
    "        fovea_dictionary = pickle.load(handle)\n",
    "\n",
    "    with open('validation_dictionary.pickle', 'rb') as handle : \n",
    "        validation_dictionary = pickle.load(handle)\n",
    "\n",
    "elif from_empty == False :\n",
    "    with open('image_dictionary.pickle', 'rb') as handle : \n",
    "        image_dictionary = pickle.load(handle)\n",
    "\n",
    "    with open(verdir+'/fovea_dictionary.pickle', 'rb') as handle : \n",
    "        fovea_dictionary = pickle.load(handle)\n",
    "\n",
    "    with open(verdir+'/validation_dictionary.pickle', 'rb') as handle : \n",
    "        validation_dictionary = pickle.load(handle)\n",
    "    \n",
    "    \n",
    "print(\"Fovea Training Set\")\n",
    "for fish_class in fovea_dictionary :\n",
    "    print(\"{} : {} images\".format(fish_class, len(fovea_dictionary.get(fish_class))))\n",
    "print(\"\\nFovea Validation Set\")\n",
    "for fish_class in fovea_dictionary :\n",
    "    print(\"{} : {} images\".format(fish_class, len(fovea_dictionary.get(fish_class))))"
   ]
  },
  {
   "cell_type": "markdown",
   "metadata": {},
   "source": [
    "## Annotate Fovea and stage"
   ]
  },
  {
   "cell_type": "code",
   "execution_count": null,
   "metadata": {
    "collapsed": true
   },
   "outputs": [],
   "source": [
    "f_list = [f for f in image_dictionary.get('train')]\n"
   ]
  },
  {
   "cell_type": "code",
   "execution_count": null,
   "metadata": {
    "collapsed": false
   },
   "outputs": [],
   "source": [
    "key = np.random.choice(f_list)\n",
    "print(key)"
   ]
  },
  {
   "cell_type": "code",
   "execution_count": null,
   "metadata": {
    "collapsed": false,
    "scrolled": false
   },
   "outputs": [],
   "source": [
    "img_working = misc.imread(key, mode = 'RGB')\n",
    "fd.show_panel(img_working)"
   ]
  },
  {
   "cell_type": "markdown",
   "metadata": {},
   "source": [
    "### Write annote function"
   ]
  },
  {
   "cell_type": "code",
   "execution_count": null,
   "metadata": {
    "collapsed": false,
    "scrolled": false
   },
   "outputs": [],
   "source": [
    "fd.annote_fovea_manager(key, image_dictionary = image_dictionary, fovea_dictionary = fovea_dictionary, \n",
    "                        validation_dictionary = validation_dictionary,\n",
    "                            fov_size = fov_size, scale = [1.5, 1.25, 1.0, 0.75, 0.5], \n",
    "                            y_bins = 6, x_bins = 10, pixel_norm = None, verdir = verdir) "
   ]
  },
  {
   "cell_type": "code",
   "execution_count": null,
   "metadata": {
    "collapsed": true
   },
   "outputs": [],
   "source": []
  },
  {
   "cell_type": "code",
   "execution_count": null,
   "metadata": {
    "collapsed": true
   },
   "outputs": [],
   "source": []
  },
  {
   "cell_type": "code",
   "execution_count": null,
   "metadata": {
    "collapsed": true
   },
   "outputs": [],
   "source": []
  },
  {
   "cell_type": "code",
   "execution_count": null,
   "metadata": {
    "collapsed": true
   },
   "outputs": [],
   "source": []
  }
 ],
 "metadata": {
  "kernelspec": {
   "display_name": "Python [conda root]",
   "language": "python",
   "name": "conda-root-py"
  },
  "language_info": {
   "codemirror_mode": {
    "name": "ipython",
    "version": 3
   },
   "file_extension": ".py",
   "mimetype": "text/x-python",
   "name": "python",
   "nbconvert_exporter": "python",
   "pygments_lexer": "ipython3",
   "version": "3.5.2"
  }
 },
 "nbformat": 4,
 "nbformat_minor": 2
}
