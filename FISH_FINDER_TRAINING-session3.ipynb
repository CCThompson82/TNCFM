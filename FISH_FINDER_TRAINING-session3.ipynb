{
 "cells": [
  {
   "cell_type": "markdown",
   "metadata": {},
   "source": [
    "# Nature Conservancy Fisheries Kaggle Competition\n",
    "## Train fishfinder model \n",
    "\n",
    "This is the second training session which will be picked up from the model and storage dictionaries left from the training in `FISH_FINDER_TRAINING.ipynb`.  Training should pick up from Epoch 218.\n",
    "\n",
    "#### Dependencies"
   ]
  },
  {
   "cell_type": "code",
   "execution_count": 1,
   "metadata": {
    "collapsed": false
   },
   "outputs": [],
   "source": [
    "import tensorflow as tf\n",
    "import numpy as np\n",
    "import pandas as pd\n",
    "import pickle\n",
    "from scipy import misc\n",
    "import os\n",
    "import fish_data as fd"
   ]
  },
  {
   "cell_type": "code",
   "execution_count": 2,
   "metadata": {
    "collapsed": false
   },
   "outputs": [],
   "source": [
    "%run -i 'FISH_FINDER_PARAMS.py'"
   ]
  },
  {
   "cell_type": "code",
   "execution_count": 3,
   "metadata": {
    "collapsed": false,
    "scrolled": false
   },
   "outputs": [],
   "source": [
    "%run -i 'FISH_FINDER_GRAPH.py'"
   ]
  },
  {
   "cell_type": "code",
   "execution_count": 4,
   "metadata": {
    "collapsed": true
   },
   "outputs": [],
   "source": [
    "version_ID = 'PILOT_RUN_v5'\n",
    "initiate_model = False #  Important to change to False or old model will be saved over.  "
   ]
  },
  {
   "cell_type": "code",
   "execution_count": 5,
   "metadata": {
    "collapsed": false,
    "scrolled": false
   },
   "outputs": [
    {
     "name": "stdout",
     "output_type": "stream",
     "text": [
      "Loading FISHFINDER version PILOT_RUN_v5\n",
      "Metadata dictionary loaded!\n",
      "Initializing restorer...\n",
      "Weights and biases retrieved!  Picking up at 218 epochs completed : 3249856 training images observed\n",
      "Checkpoint saver initialized!\n",
      "\n",
      "Tensorboard initialized!\n",
      "To view your tensorboard dashboard summary, run the following on the command line:\n",
      "\n",
      "tensorboard --logdir='/Users/ccthomps/Documents/Python Files/Kaggle Competitions/Nature Conservancy Fisheries/FISHFINDER_MODELS/PILOT_RUN_v5/Tensorboard_logs'\n",
      "\n",
      "Loading high-resolution image dictionary...\n",
      "`image_dictionary` loaded!\n",
      "\n",
      "TRAINING FISHFINDER...\n",
      "Epoch 219 completed : 3267072 fovea observed. Model checkpoint created!\n",
      "Epoch 220 completed : 3284288 fovea observed. Model checkpoint created!\n",
      "Epoch 221 completed : 3301504 fovea observed. Model checkpoint created!\n",
      "Epoch 222 completed : 3318720 fovea observed. Model checkpoint created!\n",
      "Epoch 223 completed : 3335936 fovea observed. Model checkpoint created!\n",
      "Epoch 224 completed : 3353152 fovea observed. Model checkpoint created!\n",
      "Epoch 225 completed : 3370368 fovea observed. Model checkpoint created!\n",
      "Epoch 226 completed : 3387584 fovea observed. Model checkpoint created!\n",
      "Epoch 227 completed : 3404800 fovea observed. Model checkpoint created!\n",
      "Epoch 228 completed : 3422016 fovea observed. Model checkpoint created!\n",
      "Epoch 229 completed : 3439232 fovea observed. Model checkpoint created!\n"
     ]
    }
   ],
   "source": [
    "%run -i 'FISH_FINDER_SESSION.py'"
   ]
  },
  {
   "cell_type": "code",
   "execution_count": null,
   "metadata": {
    "collapsed": true
   },
   "outputs": [],
   "source": []
  }
 ],
 "metadata": {
  "kernelspec": {
   "display_name": "Python [conda root]",
   "language": "python",
   "name": "conda-root-py"
  },
  "language_info": {
   "codemirror_mode": {
    "name": "ipython",
    "version": 3
   },
   "file_extension": ".py",
   "mimetype": "text/x-python",
   "name": "python",
   "nbconvert_exporter": "python",
   "pygments_lexer": "ipython3",
   "version": "3.5.2"
  }
 },
 "nbformat": 4,
 "nbformat_minor": 2
}
