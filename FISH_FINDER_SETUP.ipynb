{
 "cells": [
  {
   "cell_type": "markdown",
   "metadata": {},
   "source": [
    "# Nature Conservancy Fisheries Kaggle Competition\n",
    "## Starter Dictionary Generation\n"
   ]
  },
  {
   "cell_type": "markdown",
   "metadata": {},
   "source": [
    "#### Dependencies"
   ]
  },
  {
   "cell_type": "code",
   "execution_count": 1,
   "metadata": {
    "collapsed": true
   },
   "outputs": [],
   "source": [
    "import tensorflow as tf\n",
    "import numpy as np\n",
    "import pandas as pd\n",
    "import json\n",
    "import pickle\n",
    "import matplotlib.pyplot as plt\n",
    "% matplotlib inline\n",
    "from scipy import misc\n",
    "import os \n",
    "import fish_data as fd"
   ]
  },
  {
   "cell_type": "markdown",
   "metadata": {},
   "source": [
    "### Training set df from csv file\n",
    "csv file stored from `PROPIGATE_NoF.ipynb` "
   ]
  },
  {
   "cell_type": "code",
   "execution_count": 2,
   "metadata": {
    "collapsed": true
   },
   "outputs": [],
   "source": [
    "pre_training_df = pd.read_csv('fovea_labels_NoF_prop.csv', index_col = 0)"
   ]
  },
  {
   "cell_type": "code",
   "execution_count": 3,
   "metadata": {
    "collapsed": false
   },
   "outputs": [
    {
     "data": {
      "text/html": [
       "<div>\n",
       "<table border=\"1\" class=\"dataframe\">\n",
       "  <thead>\n",
       "    <tr style=\"text-align: right;\">\n",
       "      <th></th>\n",
       "      <th>filename</th>\n",
       "      <th>fovea_coordinates</th>\n",
       "      <th>fovea_label</th>\n",
       "      <th>image_label</th>\n",
       "    </tr>\n",
       "  </thead>\n",
       "  <tbody>\n",
       "    <tr>\n",
       "      <th>0</th>\n",
       "      <td>data/train/ALB/img_07377.jpg</td>\n",
       "      <td>(0, 0)</td>\n",
       "      <td>Unknown</td>\n",
       "      <td>ALB</td>\n",
       "    </tr>\n",
       "    <tr>\n",
       "      <th>1</th>\n",
       "      <td>data/train/ALB/img_07377.jpg</td>\n",
       "      <td>(0, 246)</td>\n",
       "      <td>Unknown</td>\n",
       "      <td>ALB</td>\n",
       "    </tr>\n",
       "    <tr>\n",
       "      <th>2</th>\n",
       "      <td>data/train/ALB/img_07377.jpg</td>\n",
       "      <td>(0, 492)</td>\n",
       "      <td>Unknown</td>\n",
       "      <td>ALB</td>\n",
       "    </tr>\n",
       "    <tr>\n",
       "      <th>3</th>\n",
       "      <td>data/train/ALB/img_07377.jpg</td>\n",
       "      <td>(0, 736)</td>\n",
       "      <td>Unknown</td>\n",
       "      <td>ALB</td>\n",
       "    </tr>\n",
       "    <tr>\n",
       "      <th>4</th>\n",
       "      <td>data/train/ALB/img_07377.jpg</td>\n",
       "      <td>(112, 0)</td>\n",
       "      <td>Unknown</td>\n",
       "      <td>ALB</td>\n",
       "    </tr>\n",
       "  </tbody>\n",
       "</table>\n",
       "</div>"
      ],
      "text/plain": [
       "                       filename fovea_coordinates fovea_label image_label\n",
       "0  data/train/ALB/img_07377.jpg            (0, 0)     Unknown         ALB\n",
       "1  data/train/ALB/img_07377.jpg          (0, 246)     Unknown         ALB\n",
       "2  data/train/ALB/img_07377.jpg          (0, 492)     Unknown         ALB\n",
       "3  data/train/ALB/img_07377.jpg          (0, 736)     Unknown         ALB\n",
       "4  data/train/ALB/img_07377.jpg          (112, 0)     Unknown         ALB"
      ]
     },
     "execution_count": 3,
     "metadata": {},
     "output_type": "execute_result"
    }
   ],
   "source": [
    "pre_training_df.head()"
   ]
  },
  {
   "cell_type": "code",
   "execution_count": 4,
   "metadata": {
    "collapsed": true
   },
   "outputs": [],
   "source": [
    "training_df = pre_training_df.ix[ pre_training_df['fovea_label'] != 'Unknown'].copy()"
   ]
  },
  {
   "cell_type": "code",
   "execution_count": 5,
   "metadata": {
    "collapsed": false
   },
   "outputs": [
    {
     "name": "stdout",
     "output_type": "stream",
     "text": [
      "Shape of training_df: (13370, 4)\n",
      "Unique fovea labels: ['NoF' 'BET' 'YFT' 'OTHER' 'DOL' 'ALB' 'LAG' 'SHARK']\n"
     ]
    }
   ],
   "source": [
    "print(\"Shape of training_df: {}\".format(training_df.shape))\n",
    "print(\"Unique fovea labels: {}\".format(training_df['fovea_label'].unique()))"
   ]
  },
  {
   "cell_type": "code",
   "execution_count": 6,
   "metadata": {
    "collapsed": false
   },
   "outputs": [
    {
     "data": {
      "text/html": [
       "<div>\n",
       "<table border=\"1\" class=\"dataframe\">\n",
       "  <thead>\n",
       "    <tr style=\"text-align: right;\">\n",
       "      <th></th>\n",
       "      <th>filename</th>\n",
       "      <th>fovea_coordinates</th>\n",
       "      <th>fovea_label</th>\n",
       "      <th>image_label</th>\n",
       "    </tr>\n",
       "  </thead>\n",
       "  <tbody>\n",
       "    <tr>\n",
       "      <th>0</th>\n",
       "      <td>data/train/ALB/img_07377.jpg</td>\n",
       "      <td>(224, 736)</td>\n",
       "      <td>NoF</td>\n",
       "      <td>ALB</td>\n",
       "    </tr>\n",
       "    <tr>\n",
       "      <th>1</th>\n",
       "      <td>data/train/NoF/img_00673.jpg</td>\n",
       "      <td>(0, 0)</td>\n",
       "      <td>NoF</td>\n",
       "      <td>NoF</td>\n",
       "    </tr>\n",
       "    <tr>\n",
       "      <th>2</th>\n",
       "      <td>data/train/NoF/img_00673.jpg</td>\n",
       "      <td>(0, 223)</td>\n",
       "      <td>NoF</td>\n",
       "      <td>NoF</td>\n",
       "    </tr>\n",
       "    <tr>\n",
       "      <th>3</th>\n",
       "      <td>data/train/NoF/img_00673.jpg</td>\n",
       "      <td>(0, 446)</td>\n",
       "      <td>NoF</td>\n",
       "      <td>NoF</td>\n",
       "    </tr>\n",
       "    <tr>\n",
       "      <th>4</th>\n",
       "      <td>data/train/NoF/img_00673.jpg</td>\n",
       "      <td>(0, 669)</td>\n",
       "      <td>NoF</td>\n",
       "      <td>NoF</td>\n",
       "    </tr>\n",
       "  </tbody>\n",
       "</table>\n",
       "</div>"
      ],
      "text/plain": [
       "                       filename fovea_coordinates fovea_label image_label\n",
       "0  data/train/ALB/img_07377.jpg        (224, 736)         NoF         ALB\n",
       "1  data/train/NoF/img_00673.jpg            (0, 0)         NoF         NoF\n",
       "2  data/train/NoF/img_00673.jpg          (0, 223)         NoF         NoF\n",
       "3  data/train/NoF/img_00673.jpg          (0, 446)         NoF         NoF\n",
       "4  data/train/NoF/img_00673.jpg          (0, 669)         NoF         NoF"
      ]
     },
     "execution_count": 6,
     "metadata": {},
     "output_type": "execute_result"
    }
   ],
   "source": [
    "training_df = training_df.reset_index(drop = True)\n",
    "training_df.head()"
   ]
  },
  {
   "cell_type": "markdown",
   "metadata": {},
   "source": [
    "### Generate training_set dictionary"
   ]
  },
  {
   "cell_type": "code",
   "execution_count": 7,
   "metadata": {
    "collapsed": false
   },
   "outputs": [],
   "source": [
    "training_dict = {}\n",
    "\n",
    "for ix in training_df.index :\n",
    "    yx = training_df.ix[ix, 'fovea_coordinates']\n",
    "    y_off = int(yx[1:yx.find(',')].strip())\n",
    "    x_off = int(yx[yx.find(',')+1:-1].strip())\n",
    "    key = training_df.ix[ix,'filename']+';_yx_'+str(y_off)+'_'+str(x_off)\n",
    "    training_dict[key] = {'f' :  training_df.ix[ix,'filename'] , \n",
    "                          'fovea_label' :  training_df.ix[ix,'fovea_label'] , \n",
    "                          'image_label' :   training_df.ix[ix,'image_label'], \n",
    "                          'coordinates' : {'y_offset' : y_off, 'x_offset' : x_off}, \n",
    "                          'scale' : 0.75 }"
   ]
  },
  {
   "cell_type": "code",
   "execution_count": 8,
   "metadata": {
    "collapsed": false
   },
   "outputs": [
    {
     "name": "stdout",
     "output_type": "stream",
     "text": [
      "13370\n"
     ]
    }
   ],
   "source": [
    "print(len(training_dict))"
   ]
  },
  {
   "cell_type": "code",
   "execution_count": 9,
   "metadata": {
    "collapsed": true
   },
   "outputs": [],
   "source": [
    "with open('training_dictionary.pickle', 'wb') as ftd:\n",
    "    pickle.dump(training_dict, ftd)"
   ]
  },
  {
   "cell_type": "code",
   "execution_count": 10,
   "metadata": {
    "collapsed": false
   },
   "outputs": [
    {
     "name": "stdout",
     "output_type": "stream",
     "text": [
      "Dictionary of training set examples loaded correctly: True\n"
     ]
    }
   ],
   "source": [
    "with open('training_dictionary.pickle', 'rb') as handle :\n",
    "    test_open = pickle.load(handle)\n",
    "print(\"Dictionary of training set examples loaded correctly: {}\".format(len(test_open) == len(training_dict)))"
   ]
  },
  {
   "cell_type": "markdown",
   "metadata": {},
   "source": [
    "### Generate high-resolution image dictionary"
   ]
  },
  {
   "cell_type": "code",
   "execution_count": 11,
   "metadata": {
    "collapsed": false
   },
   "outputs": [],
   "source": [
    "f_list = fd.generate_filenames_list(subdirectory = 'data/train/', subfolders = True)\n",
    "f_list = f_list + fd.generate_filenames_list(subdirectory = 'data/test_stg1/', subfolders = False) "
   ]
  },
  {
   "cell_type": "code",
   "execution_count": 12,
   "metadata": {
    "collapsed": false
   },
   "outputs": [
    {
     "data": {
      "text/plain": [
       "4777"
      ]
     },
     "execution_count": 12,
     "metadata": {},
     "output_type": "execute_result"
    }
   ],
   "source": [
    "len(f_list)"
   ]
  },
  {
   "cell_type": "code",
   "execution_count": 13,
   "metadata": {
    "collapsed": false
   },
   "outputs": [
    {
     "data": {
      "text/plain": [
       "['data/train/ALB/img_00003.jpg',\n",
       " 'data/train/ALB/img_00010.jpg',\n",
       " 'data/train/ALB/img_00012.jpg',\n",
       " 'data/train/ALB/img_00015.jpg',\n",
       " 'data/train/ALB/img_00019.jpg',\n",
       " 'data/train/ALB/img_00020.jpg',\n",
       " 'data/train/ALB/img_00029.jpg',\n",
       " 'data/train/ALB/img_00032.jpg',\n",
       " 'data/train/ALB/img_00037.jpg',\n",
       " 'data/train/ALB/img_00038.jpg']"
      ]
     },
     "execution_count": 13,
     "metadata": {},
     "output_type": "execute_result"
    }
   ],
   "source": [
    "f_list[0:10]"
   ]
  },
  {
   "cell_type": "code",
   "execution_count": 14,
   "metadata": {
    "collapsed": false
   },
   "outputs": [
    {
     "data": {
      "text/plain": [
       "['data/test_stg1/img_07833.jpg',\n",
       " 'data/test_stg1/img_07859.jpg',\n",
       " 'data/test_stg1/img_07872.jpg',\n",
       " 'data/test_stg1/img_07893.jpg',\n",
       " 'data/test_stg1/img_07895.jpg',\n",
       " 'data/test_stg1/img_07905.jpg',\n",
       " 'data/test_stg1/img_07906.jpg',\n",
       " 'data/test_stg1/img_07908.jpg',\n",
       " 'data/test_stg1/img_07910.jpg',\n",
       " 'data/test_stg1/img_07921.jpg']"
      ]
     },
     "execution_count": 14,
     "metadata": {},
     "output_type": "execute_result"
    }
   ],
   "source": [
    "f_list[-10:]"
   ]
  },
  {
   "cell_type": "code",
   "execution_count": 15,
   "metadata": {
    "collapsed": true
   },
   "outputs": [],
   "source": [
    "image_dictionary = {}\n",
    "\n",
    "for f in f_list :\n",
    "    if f.find('test_stg1') != -1 :\n",
    "        img_lab = 'TEST'\n",
    "    else :\n",
    "        img_lab = f[f.find('train/')+6:f.find('/img_')]\n",
    "    \n",
    "    shape = misc.imread(f, mode = 'RGB').shape\n",
    "    image_dictionary[f] = {'f': f, 'image_label' : img_lab, 'y_size' : shape[0], 'x_size' : shape[1]}"
   ]
  },
  {
   "cell_type": "code",
   "execution_count": 16,
   "metadata": {
    "collapsed": false
   },
   "outputs": [
    {
     "name": "stdout",
     "output_type": "stream",
     "text": [
      "4777\n"
     ]
    }
   ],
   "source": [
    "print(len(image_dictionary))"
   ]
  },
  {
   "cell_type": "code",
   "execution_count": 17,
   "metadata": {
    "collapsed": false
   },
   "outputs": [
    {
     "data": {
      "text/plain": [
       "{'f': 'data/train/ALB/img_00003.jpg',\n",
       " 'image_label': 'ALB',\n",
       " 'x_size': 1280,\n",
       " 'y_size': 720}"
      ]
     },
     "execution_count": 17,
     "metadata": {},
     "output_type": "execute_result"
    }
   ],
   "source": [
    "image_dictionary.get(f_list[0])"
   ]
  },
  {
   "cell_type": "code",
   "execution_count": 18,
   "metadata": {
    "collapsed": false
   },
   "outputs": [
    {
     "data": {
      "text/plain": [
       "{'f': 'data/test_stg1/img_07921.jpg',\n",
       " 'image_label': 'TEST',\n",
       " 'x_size': 1280,\n",
       " 'y_size': 720}"
      ]
     },
     "execution_count": 18,
     "metadata": {},
     "output_type": "execute_result"
    }
   ],
   "source": [
    "image_dictionary.get(f_list[-1])"
   ]
  },
  {
   "cell_type": "code",
   "execution_count": 19,
   "metadata": {
    "collapsed": true
   },
   "outputs": [],
   "source": [
    "with open('image_dictionary.pickle', 'wb') as fid:\n",
    "    pickle.dump(image_dictionary, fid)"
   ]
  },
  {
   "cell_type": "code",
   "execution_count": 20,
   "metadata": {
    "collapsed": false
   },
   "outputs": [
    {
     "name": "stdout",
     "output_type": "stream",
     "text": [
      "Dictionary of training set examples loaded correctly: True\n"
     ]
    }
   ],
   "source": [
    "with open('image_dictionary.pickle', 'rb') as handle :\n",
    "    test_open = pickle.load(handle)\n",
    "print(\"Dictionary of training set examples loaded correctly: {}\".format(len(test_open) == len(image_dictionary)))"
   ]
  },
  {
   "cell_type": "code",
   "execution_count": null,
   "metadata": {
    "collapsed": true
   },
   "outputs": [],
   "source": []
  }
 ],
 "metadata": {
  "kernelspec": {
   "display_name": "Python [conda root]",
   "language": "python",
   "name": "conda-root-py"
  },
  "language_info": {
   "codemirror_mode": {
    "name": "ipython",
    "version": 3
   },
   "file_extension": ".py",
   "mimetype": "text/x-python",
   "name": "python",
   "nbconvert_exporter": "python",
   "pygments_lexer": "ipython3",
   "version": "3.5.2"
  }
 },
 "nbformat": 4,
 "nbformat_minor": 2
}
