{
 "cells": [
  {
   "cell_type": "markdown",
   "metadata": {},
   "source": [
    "# Model for Nature Conservancy Fisheries Kaggle Competition"
   ]
  },
  {
   "cell_type": "markdown",
   "metadata": {},
   "source": [
    "#### Dependencies"
   ]
  },
  {
   "cell_type": "code",
   "execution_count": null,
   "metadata": {
    "collapsed": false
   },
   "outputs": [],
   "source": [
    "import fish_data as fd\n",
    "import numpy as np\n",
    "import tensorflow as tf\n",
    "from sklearn.model_selection import train_test_split\n",
    "import matplotlib.pyplot as plt\n",
    "%matplotlib inline\n",
    "import os"
   ]
  },
  {
   "cell_type": "markdown",
   "metadata": {},
   "source": [
    "#### Helper functions"
   ]
  },
  {
   "cell_type": "code",
   "execution_count": null,
   "metadata": {
    "collapsed": false
   },
   "outputs": [],
   "source": [
    "help(fd)"
   ]
  },
  {
   "cell_type": "markdown",
   "metadata": {},
   "source": [
    "#### Generate the list of filenames for balanced training batch collections with corresponding label array"
   ]
  },
  {
   "cell_type": "code",
   "execution_count": null,
   "metadata": {
    "collapsed": false
   },
   "outputs": [],
   "source": [
    "min_each = 2000\n",
    "pre_X, pre_y = fd.generate_epoch_set_list_and_label_array(min_each)"
   ]
  },
  {
   "cell_type": "markdown",
   "metadata": {},
   "source": [
    "#### Split into training and validation sets"
   ]
  },
  {
   "cell_type": "code",
   "execution_count": null,
   "metadata": {
    "collapsed": true
   },
   "outputs": [],
   "source": [
    "valid_size = 500\n",
    "X_train_filenames, X_valid_filenames, y_train, y_valid = train_test_split(pre_X, pre_y, test_size = valid_size)"
   ]
  },
  {
   "cell_type": "code",
   "execution_count": null,
   "metadata": {
    "collapsed": false
   },
   "outputs": [],
   "source": [
    "print(\"File names in 'X_train_filenames: {}\".format(len(X_train_filenames)))\n",
    "print(\"Shape of y_train: {}\".format(y_train.shape))\n",
    "print(\"File names in 'X_valid_filenames: {}\".format(len(X_valid_filenames)))\n",
    "print(\"Shape of y_valid: {}\".format(y_valid.shape))\n",
    "\n"
   ]
  },
  {
   "cell_type": "markdown",
   "metadata": {},
   "source": [
    "#### Set the master standardize parameters"
   ]
  },
  {
   "cell_type": "code",
   "execution_count": null,
   "metadata": {
    "collapsed": false
   },
   "outputs": [],
   "source": [
    "std_y = 200\n",
    "std_x = 330\n",
    "print(\"Aspect ratio: {}\".format(std_x/std_y))"
   ]
  },
  {
   "cell_type": "markdown",
   "metadata": {},
   "source": [
    "#### Download and standardize the validation image set into the environment."
   ]
  },
  {
   "cell_type": "code",
   "execution_count": null,
   "metadata": {
    "collapsed": false
   },
   "outputs": [],
   "source": [
    "X_test = fd.make_batch(X_valid_filenames, len(X_valid_filenames)-2, 4, std_y, std_x, mutate = False) #make_batch to straddle the end of epoch\n",
    "print(\"Fn `make_batch` spans the end of an epoch correctly: {}\".format(X_test.shape == (4,std_y, std_x, 3)))\n",
    "y_test = fd.make_label(y_valid, y_valid.shape[0]-2,4)\n",
    "print(\"Fn `make_label` spans the end of an epoch correctly: {}\".format(y_test.shape == (4, 8)))"
   ]
  },
  {
   "cell_type": "code",
   "execution_count": null,
   "metadata": {
    "collapsed": false
   },
   "outputs": [],
   "source": [
    "\n",
    "X_valid = fd.make_batch(X_valid_filenames, 0, len(X_valid_filenames), std_y, std_x, mutate = True)"
   ]
  },
  {
   "cell_type": "code",
   "execution_count": null,
   "metadata": {
    "collapsed": false
   },
   "outputs": [],
   "source": [
    "print(\"TEST\")\n",
    "print(\"  Shape of validation array is correct: {}\".format(X_valid.shape == (valid_size, std_y, std_x, 3)))\n",
    "print(\"  Average pixel value: {}\".format(np.mean(X_valid)))\n",
    "\n",
    "for i in range(3) :\n",
    "    print(X_valid_filenames[i])\n",
    "    plt.figure(figsize=(10,20))\n",
    "    plt.subplot(1,4,1)\n",
    "    plt.imshow(X_valid[i][:,:,0])\n",
    "    plt.subplot(1,4,2)\n",
    "    plt.imshow(X_valid[i][:,:,1])\n",
    "    plt.subplot(1,4,3)\n",
    "    plt.imshow(X_valid[i][:,:,2])\n",
    "    plt.subplot(1,4,4)\n",
    "    plt.imshow( ((X_valid[i]*255.0) + (255.0/2)).astype(int))\n",
    "    plt.show()"
   ]
  },
  {
   "cell_type": "markdown",
   "metadata": {},
   "source": [
    "## Graph and Session Runs"
   ]
  },
  {
   "cell_type": "markdown",
   "metadata": {},
   "source": [
    "#### Graph parameters"
   ]
  },
  {
   "cell_type": "code",
   "execution_count": null,
   "metadata": {
    "collapsed": false
   },
   "outputs": [],
   "source": [
    "# General\n",
    "num_channels = 3\n",
    "num_labels = 8\n",
    "batch_size = 50\n",
    "stddev = 0.5\n",
    "\n",
    "# convolution\n",
    "kernel_sizes = [3, 2, 3, 2, 3, 2, 3, 2, 3, 2, 3, 2]\n",
    "stride = 1\n",
    "conv_depths = [8, 16, 32, 64, 128, 256, 512, 512, 512, 512, 512, 512]\n",
    "final_depth = conv_depths[-1]\n",
    "\n",
    "\n",
    "#dropout\n",
    "kp_convs = 1.\n",
    "kp_hidden = 0.75\n",
    "\n",
    "# fully connected\n",
    "fc1_depth = 256\n",
    "fc2_depth = 64\n",
    "\n",
    "#regularization\n",
    "beta = 1e-1\n",
    "\n",
    "# Learning rate\n",
    "init_rate = 1e-2\n"
   ]
  },
  {
   "cell_type": "code",
   "execution_count": null,
   "metadata": {
    "collapsed": false
   },
   "outputs": [],
   "source": [
    "nodes = []\n",
    "for i in range(12) :\n",
    "    nodes.append(fd.count_nodes(std_y, std_x, i//2, conv_depths[i]))\n",
    "nodes = nodes + [fc1_depth, fc2_depth]\n",
    "\n",
    "plt.figure()\n",
    "plt.plot(range(1,15), nodes, '-')\n",
    "plt.xlabel('Layer')\n",
    "plt.ylabel('Num of Nodes')\n",
    "plt.yscale('log')\n",
    "plt.xlim(0, 15)\n",
    "plt.show()\n",
    "    "
   ]
  },
  {
   "cell_type": "markdown",
   "metadata": {},
   "source": [
    "#### Session parameters"
   ]
  },
  {
   "cell_type": "code",
   "execution_count": null,
   "metadata": {
    "collapsed": false
   },
   "outputs": [],
   "source": [
    "# epochs\n",
    "num_epochs = 5\n",
    "# path for tensorboard summary file to be written\n",
    "logs_path = os.getcwd()+'/TB_logs'\n",
    "valid_every = 50"
   ]
  },
  {
   "cell_type": "code",
   "execution_count": null,
   "metadata": {
    "collapsed": false
   },
   "outputs": [],
   "source": [
    "%run -i 'GRAPH.py'"
   ]
  },
  {
   "cell_type": "code",
   "execution_count": null,
   "metadata": {
    "collapsed": false
   },
   "outputs": [],
   "source": [
    "%run -i 'SESSION.py'"
   ]
  },
  {
   "cell_type": "code",
   "execution_count": null,
   "metadata": {
    "collapsed": true
   },
   "outputs": [],
   "source": []
  },
  {
   "cell_type": "code",
   "execution_count": null,
   "metadata": {
    "collapsed": true
   },
   "outputs": [],
   "source": []
  }
 ],
 "metadata": {
  "anaconda-cloud": {},
  "kernelspec": {
   "display_name": "Python [default]",
   "language": "python",
   "name": "python3"
  },
  "language_info": {
   "codemirror_mode": {
    "name": "ipython",
    "version": 3
   },
   "file_extension": ".py",
   "mimetype": "text/x-python",
   "name": "python",
   "nbconvert_exporter": "python",
   "pygments_lexer": "ipython3",
   "version": "3.5.2"
  }
 },
 "nbformat": 4,
 "nbformat_minor": 1
}
