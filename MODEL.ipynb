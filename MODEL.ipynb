{
 "cells": [
  {
   "cell_type": "markdown",
   "metadata": {},
   "source": [
    "# Model for Nature Conservancy Fisheries Kaggle Competition"
   ]
  },
  {
   "cell_type": "markdown",
   "metadata": {},
   "source": [
    "#### Dependencies"
   ]
  },
  {
   "cell_type": "code",
   "execution_count": 1,
   "metadata": {
    "collapsed": false
   },
   "outputs": [],
   "source": [
    "import fish_data as fd\n",
    "import numpy as np\n",
    "import tensorflow as tf\n",
    "from sklearn.model_selection import train_test_split\n",
    "import matplotlib.pyplot as plt\n",
    "%matplotlib inline\n",
    "import os\n",
    "import pandas as pd"
   ]
  },
  {
   "cell_type": "markdown",
   "metadata": {},
   "source": [
    "#### Helper functions"
   ]
  },
  {
   "cell_type": "code",
   "execution_count": 2,
   "metadata": {
    "collapsed": false
   },
   "outputs": [
    {
     "name": "stdout",
     "output_type": "stream",
     "text": [
      "Help on module fish_data:\n",
      "\n",
      "NAME\n",
      "    fish_data\n",
      "\n",
      "DESCRIPTION\n",
      "    fish_data module contains the helper functions for the model build of the\n",
      "    Nature Conservancy Fisheries Kaggle Competition.\n",
      "    \n",
      "    Dependencies:\n",
      "        * numpy as np\n",
      "        * os\n",
      "        * scipy.ndimage as ndimage\n",
      "        * scipy.misc as misc\n",
      "        * scipy.special as special\n",
      "        * matplotlib.pyplot as plt\n",
      "        * tensorflow as tf\n",
      "\n",
      "FUNCTIONS\n",
      "    count_nodes(y_in, x_in, conv_depths, conv_strides, pool_strides)\n",
      "        Calculates the number of total nodes present in the last layer of a\n",
      "        convolution plus max_pooling architecture.  Calculations assume that\n",
      "        convolution is 'SAME' padded, and pooling is 'VALID' padded.\n",
      "    \n",
      "    decode_image(image_read, size, num_channels=3, mutate=False, brightness_delta=None, contrast_limits=None, hue_delta=None, saturation_limits=None)\n",
      "        Converts a dequeued image read from filename to a single tensor array,\n",
      "        with modifications:\n",
      "            * resized to standard height and width supplied in size param\n",
      "            * normalized to mean near zero, min == -0.5, max ==  0.5\n",
      "            * distortions if mutate == True :\n",
      "                * random flip left right\n",
      "                * random flip up down\n",
      "                * # TODO : random crop and resize to standard size ???\n",
      "                * random brightness\n",
      "                * random contrast\n",
      "                * random hue\n",
      "                * random saturation\n",
      "        \n",
      "        providing distortion if mutate == True\n",
      "    \n",
      "    generate_balanced_filenames_epoch(min_each, shuffle=True)\n",
      "        Function to generate a list of filenames to be used for each training epoch\n",
      "        with a corresponding label array.  Most file names will be used  multiple  times\n",
      "        in order that each fish is drawn into a training batch an equivalent number of\n",
      "        times.\n",
      "    \n",
      "    generate_filenames_list(subdirectory='data/train/', subfolders=True)\n",
      "        Iterates through the default 'data/train' folders of the working directory to\n",
      "        generate a list of filenames\n",
      "    \n",
      "    make_labels(filename_list, directory_string='train/', end_string='/img')\n",
      "        Receives a list of filenames and returns an ordered one-hot label\n",
      "        array by finding the fish species ID within the filename string.\n",
      "    \n",
      "    show_panel(image)\n",
      "\n",
      "FILE\n",
      "    /Users/ccthomps/Documents/Python Files/Kaggle Competitions/Nature Conservancy Fisheries/fish_data.py\n",
      "\n",
      "\n"
     ]
    }
   ],
   "source": [
    "help(fd)"
   ]
  },
  {
   "cell_type": "markdown",
   "metadata": {},
   "source": [
    "#### Generate a list of filenames"
   ]
  },
  {
   "cell_type": "code",
   "execution_count": 3,
   "metadata": {
    "collapsed": false
   },
   "outputs": [
    {
     "name": "stdout",
     "output_type": "stream",
     "text": [
      "There are 3777 filenames in the master set list\n",
      "There are 1000 filenames in the test set list\n"
     ]
    }
   ],
   "source": [
    "fish_filenames = fd.generate_filenames_list('data/train/', subfolders = True)\n",
    "print(\"There are {} filenames in the master set list\".format(len(fish_filenames)))\n",
    "test_filenames = fd.generate_filenames_list('data/test_stg1/', subfolders = False)\n",
    "print(\"There are {} filenames in the test set list\".format(len(test_filenames)))"
   ]
  },
  {
   "cell_type": "markdown",
   "metadata": {},
   "source": [
    "#### Generate the labels for the master set list"
   ]
  },
  {
   "cell_type": "code",
   "execution_count": 4,
   "metadata": {
    "collapsed": false
   },
   "outputs": [
    {
     "name": "stdout",
     "output_type": "stream",
     "text": [
      "One label per row entry: True\n"
     ]
    }
   ],
   "source": [
    "fish_label_arr = fd.make_labels(fish_filenames, 'train/', '/img')\n",
    "fish_label_arr.shape\n",
    "print(\"One label per row entry: {}\".format(all(np.sum(fish_label_arr, 1) == 1) ))"
   ]
  },
  {
   "cell_type": "markdown",
   "metadata": {},
   "source": [
    "#### Shuffle and split the master set list into training and validation sets"
   ]
  },
  {
   "cell_type": "code",
   "execution_count": 5,
   "metadata": {
    "collapsed": false
   },
   "outputs": [
    {
     "name": "stdout",
     "output_type": "stream",
     "text": [
      "Validation set size: 200\n",
      "Training set size: 3577\n"
     ]
    }
   ],
   "source": [
    "valid_size = 200\n",
    "files_train, files_val, y_train, y_val = train_test_split(fish_filenames, fish_label_arr, test_size = valid_size)\n",
    "print(\"Validation set size: {}\".format(y_val.shape[0]))\n",
    "print(\"Training set size: {}\".format(y_train.shape[0]))"
   ]
  },
  {
   "cell_type": "code",
   "execution_count": null,
   "metadata": {
    "collapsed": true
   },
   "outputs": [],
   "source": []
  },
  {
   "cell_type": "markdown",
   "metadata": {},
   "source": [
    "## Graph and Session Runs"
   ]
  },
  {
   "cell_type": "markdown",
   "metadata": {},
   "source": [
    "#### Graph parameters"
   ]
  },
  {
   "cell_type": "code",
   "execution_count": 6,
   "metadata": {
    "collapsed": false
   },
   "outputs": [],
   "source": [
    "num_epochs = 5\n",
    "#Preprocessing\n",
    "std_y = 300\n",
    "std_x = 500\n",
    "\n",
    "# General\n",
    "num_channels = 3\n",
    "num_labels = 8\n",
    "batch_size = 25\n",
    "stddev = 0.2\n",
    "\n",
    "# convolution\n",
    "kernel_sizes = [5, 3, 3, 3, 3, 3]\n",
    "conv_depths = [64, 64, 128, 256, 512, 256] # NOTE : first 64 currently not used with dilation2d\n",
    "conv_strides = [4, 1, 1, 1, 1, 1]\n",
    "\n",
    "pool_strides = [2, 2, 2, 2]\n",
    "\n",
    "final_depth = conv_depths[-1]\n",
    "\n",
    "#dropout\n",
    "kp = 0.75\n",
    "\n",
    "# fully connected\n",
    "fc1_depth = 256\n",
    "fc2_depth = 64\n",
    "\n",
    "#regularization\n",
    "beta = 1e-1 \n",
    "\n",
    "# Learning rate\n",
    "init_rate = 5e-2\n",
    "per_steps = len(files_train)\n",
    "decay_rate = 0.9\n",
    "\n",
    "# Report rate\n",
    "validate_interval = 20\n"
   ]
  },
  {
   "cell_type": "markdown",
   "metadata": {},
   "source": [
    "#### Session parameters"
   ]
  },
  {
   "cell_type": "code",
   "execution_count": 7,
   "metadata": {
    "collapsed": true
   },
   "outputs": [],
   "source": [
    "version_ID = 'v1.3.3.4'\n",
    "logs_path = os.getcwd()+'/TB_logs/'+version_ID"
   ]
  },
  {
   "cell_type": "code",
   "execution_count": 8,
   "metadata": {
    "collapsed": false
   },
   "outputs": [],
   "source": [
    "%run -i 'GRAPH.py'"
   ]
  },
  {
   "cell_type": "code",
   "execution_count": 9,
   "metadata": {
    "collapsed": false
   },
   "outputs": [
    {
     "name": "stdout",
     "output_type": "stream",
     "text": [
      "Initialized!\n",
      "\n",
      "\n",
      "To view your tensorboard dashboard summary, run the following on the command line:\n",
      "tensorboard --logdir='/Users/ccthomps/Documents/Python Files/Kaggle Competitions/Nature Conservancy Fisheries/TB_logs/v1.3.3.4'\n",
      "\n",
      "Batch number: 1\n",
      "     Training_mean_cross_entropy: 354.5852355957031\n",
      "     Valid_mean_cross_entropy: 2155.749755859375\n",
      "Batch number: 5\n",
      "     Training_mean_cross_entropy: 388.77105712890625\n",
      "     Valid_mean_cross_entropy: 1834.689697265625\n",
      "Batch number: 9\n",
      "     Training_mean_cross_entropy: 115.6520767211914\n",
      "     Valid_mean_cross_entropy: 137.90646362304688\n",
      "Batch number: 13\n",
      "     Training_mean_cross_entropy: 90.01799774169922\n",
      "     Valid_mean_cross_entropy: 113.59841918945312\n",
      "Batch number: 17\n",
      "     Training_mean_cross_entropy: 55.11125183105469\n",
      "     Valid_mean_cross_entropy: 38.61949157714844\n",
      "Batch number: 21\n",
      "     Training_mean_cross_entropy: 26.043590545654297\n",
      "     Valid_mean_cross_entropy: 11.075347900390625\n",
      "Batch number: 25\n",
      "     Training_mean_cross_entropy: 11.639993667602539\n",
      "     Valid_mean_cross_entropy: 7.243351936340332\n",
      "Batch number: 29\n",
      "     Training_mean_cross_entropy: 18.33821678161621\n",
      "     Valid_mean_cross_entropy: 19.753164291381836\n",
      "Batch number: 33\n",
      "     Training_mean_cross_entropy: 20.679550170898438\n",
      "     Valid_mean_cross_entropy: 7.272875785827637\n",
      "Batch number: 37\n",
      "     Training_mean_cross_entropy: 24.340150833129883\n",
      "     Valid_mean_cross_entropy: 8.328387260437012\n",
      "Batch number: 41\n",
      "     Training_mean_cross_entropy: 2.0233330726623535\n",
      "     Valid_mean_cross_entropy: 10.400590896606445\n",
      "Batch number: 45\n",
      "     Training_mean_cross_entropy: 1.9547653198242188\n",
      "     Valid_mean_cross_entropy: 3.158250331878662\n",
      "Batch number: 49\n",
      "     Training_mean_cross_entropy: 6.8152241706848145\n",
      "     Valid_mean_cross_entropy: 1.9766926765441895\n",
      "Batch number: 53\n",
      "     Training_mean_cross_entropy: 3.861562490463257\n",
      "     Valid_mean_cross_entropy: 1.9575302600860596\n",
      "Batch number: 57\n",
      "     Training_mean_cross_entropy: 1.9554991722106934\n",
      "     Valid_mean_cross_entropy: 1.9435385465621948\n",
      "Batch number: 61\n",
      "     Training_mean_cross_entropy: 4.152126789093018\n",
      "     Valid_mean_cross_entropy: 1.8777453899383545\n",
      "Batch number: 65\n",
      "     Training_mean_cross_entropy: 1.9103193283081055\n",
      "     Valid_mean_cross_entropy: 1.9188648462295532\n",
      "Batch number: 69\n",
      "     Training_mean_cross_entropy: 1.9597632884979248\n",
      "     Valid_mean_cross_entropy: 1.9072604179382324\n",
      "Batch number: 73\n",
      "     Training_mean_cross_entropy: 1.9292731285095215\n",
      "     Valid_mean_cross_entropy: 1.8942357301712036\n",
      "Batch number: 77\n",
      "     Training_mean_cross_entropy: 1.8984200954437256\n",
      "     Valid_mean_cross_entropy: 1.880348563194275\n",
      "Batch number: 81\n",
      "     Training_mean_cross_entropy: 1.8913480043411255\n",
      "     Valid_mean_cross_entropy: 1.865832805633545\n",
      "Batch number: 85\n",
      "     Training_mean_cross_entropy: 2.328415870666504\n",
      "     Valid_mean_cross_entropy: 1.8501675128936768\n",
      "Batch number: 89\n",
      "     Training_mean_cross_entropy: 1.8867759704589844\n",
      "     Valid_mean_cross_entropy: 1.8370579481124878\n",
      "Batch number: 93\n",
      "     Training_mean_cross_entropy: 1.8593876361846924\n",
      "     Valid_mean_cross_entropy: 1.8248639106750488\n",
      "Batch number: 97\n",
      "     Training_mean_cross_entropy: 1.778019666671753\n",
      "     Valid_mean_cross_entropy: 1.8141595125198364\n",
      "Batch number: 101\n",
      "     Training_mean_cross_entropy: 1.7999948263168335\n",
      "     Valid_mean_cross_entropy: 1.802506685256958\n",
      "Batch number: 121\n",
      "     Training_mean_cross_entropy: 1.837631106376648\n",
      "     Valid_mean_cross_entropy: 1.7908225059509277\n",
      "Batch number: 141\n",
      "     Training_mean_cross_entropy: 1.7968568801879883\n",
      "     Valid_mean_cross_entropy: 44.30149841308594\n",
      "Batch number: 161\n",
      "     Training_mean_cross_entropy: 1.7514337301254272\n",
      "     Valid_mean_cross_entropy: 1.7094310522079468\n",
      "Batch number: 181\n",
      "     Training_mean_cross_entropy: 1.7634177207946777\n",
      "     Valid_mean_cross_entropy: 1.6744439601898193\n",
      "Batch number: 201\n",
      "     Training_mean_cross_entropy: 1.7068918943405151\n",
      "     Valid_mean_cross_entropy: 1.6417362689971924\n",
      "Batch number: 221\n",
      "     Training_mean_cross_entropy: 11.013437271118164\n",
      "     Valid_mean_cross_entropy: 1.5772528648376465\n",
      "Batch number: 241\n",
      "     Training_mean_cross_entropy: 1.7490472793579102\n",
      "     Valid_mean_cross_entropy: 1.5871353149414062\n",
      "Batch number: 261\n",
      "     Training_mean_cross_entropy: 2.046577215194702\n",
      "     Valid_mean_cross_entropy: 1.5813510417938232\n",
      "Batch number: 281\n",
      "     Training_mean_cross_entropy: 1.7241076231002808\n",
      "     Valid_mean_cross_entropy: 1.5725960731506348\n",
      "Batch number: 301\n",
      "     Training_mean_cross_entropy: 1.7752307653427124\n",
      "     Valid_mean_cross_entropy: 1.5617924928665161\n",
      "Batch number: 321\n",
      "     Training_mean_cross_entropy: 1.5673424005508423\n",
      "     Valid_mean_cross_entropy: 1.5526047945022583\n",
      "Batch number: 341\n",
      "     Training_mean_cross_entropy: 2.4155020713806152\n",
      "     Valid_mean_cross_entropy: 1.5447616577148438\n",
      "Batch number: 361\n",
      "     Training_mean_cross_entropy: 1.6620668172836304\n",
      "     Valid_mean_cross_entropy: 1.539576530456543\n",
      "Batch number: 381\n",
      "     Training_mean_cross_entropy: 1.5623544454574585\n",
      "     Valid_mean_cross_entropy: 1.5352511405944824\n",
      "Batch number: 401\n",
      "     Training_mean_cross_entropy: 1.4429932832717896\n",
      "     Valid_mean_cross_entropy: 1.5304532051086426\n",
      "Batch number: 421\n",
      "     Training_mean_cross_entropy: 1.4940173625946045\n",
      "     Valid_mean_cross_entropy: 1.9328444004058838\n",
      "Batch number: 441\n",
      "     Training_mean_cross_entropy: 1.7827658653259277\n",
      "     Valid_mean_cross_entropy: 1.8627769947052002\n",
      "Batch number: 461\n",
      "     Training_mean_cross_entropy: 1.5190664529800415\n",
      "     Valid_mean_cross_entropy: 1.5050121545791626\n",
      "Batch number: 481\n",
      "     Training_mean_cross_entropy: 1.6972720623016357\n",
      "     Valid_mean_cross_entropy: 1.5176632404327393\n",
      "Batch number: 501\n",
      "     Training_mean_cross_entropy: 1.5540947914123535\n",
      "     Valid_mean_cross_entropy: 1.5174144506454468\n",
      "Batch number: 521\n",
      "     Training_mean_cross_entropy: 1.5758224725723267\n",
      "     Valid_mean_cross_entropy: 1.5163954496383667\n",
      "Batch number: 541\n",
      "     Training_mean_cross_entropy: 1.6884443759918213\n",
      "     Valid_mean_cross_entropy: 1.5066304206848145\n",
      "Batch number: 561\n",
      "     Training_mean_cross_entropy: 1.4923592805862427\n",
      "     Valid_mean_cross_entropy: 1.5133616924285889\n",
      "Batch number: 581\n",
      "     Training_mean_cross_entropy: 1.8472844362258911\n",
      "     Valid_mean_cross_entropy: 1.5347046852111816\n",
      "Batch number: 601\n",
      "     Training_mean_cross_entropy: 1.8232824802398682\n",
      "     Valid_mean_cross_entropy: 1.5136163234710693\n",
      "Batch number: 621\n",
      "     Training_mean_cross_entropy: 1.7334201335906982\n",
      "     Valid_mean_cross_entropy: 1.511489748954773\n",
      "Batch number: 641\n",
      "     Training_mean_cross_entropy: 1.6827510595321655\n",
      "     Valid_mean_cross_entropy: 1.5107437372207642\n",
      "Batch number: 661\n",
      "     Training_mean_cross_entropy: 1.51283597946167\n",
      "     Valid_mean_cross_entropy: 1.5090886354446411\n",
      "Batch number: 681\n",
      "     Training_mean_cross_entropy: 1.7108579874038696\n",
      "     Valid_mean_cross_entropy: 1.508479356765747\n",
      "Batch number: 701\n",
      "     Training_mean_cross_entropy: 1.5532100200653076\n",
      "     Valid_mean_cross_entropy: 1.5090240240097046\n",
      "\n",
      "TRAINING FINISHED!\n",
      "\n",
      "Running Test Predictions...\n",
      "Test Predictions retrieved.\n",
      "\n",
      "Coordinator and Queue Runner Threads closed.\n",
      "Test set predictions csv file stored in 'Test_predictions' folder.  Submit file at:\n",
      "\n",
      "       https://www.kaggle.com/c/the-nature-conservancy-fisheries-monitoring/submit\n"
     ]
    }
   ],
   "source": [
    "%run -i 'SESSION.py'"
   ]
  },
  {
   "cell_type": "code",
   "execution_count": 10,
   "metadata": {
    "collapsed": false
   },
   "outputs": [
    {
     "name": "stdout",
     "output_type": "stream",
     "text": [
      "                            image           ALB  BET           DOL  \\\n",
      "0    data/test_stg1/img_00005.jpg  0.000000e+00  0.0  0.000000e+00   \n",
      "1    data/test_stg1/img_00007.jpg  0.000000e+00  0.0  1.186109e-35   \n",
      "2    data/test_stg1/img_00009.jpg  0.000000e+00  0.0  0.000000e+00   \n",
      "3    data/test_stg1/img_00018.jpg  0.000000e+00  0.0  0.000000e+00   \n",
      "4    data/test_stg1/img_00027.jpg  0.000000e+00  0.0  0.000000e+00   \n",
      "5    data/test_stg1/img_00030.jpg  0.000000e+00  0.0  0.000000e+00   \n",
      "6    data/test_stg1/img_00040.jpg  0.000000e+00  0.0  0.000000e+00   \n",
      "7    data/test_stg1/img_00046.jpg  0.000000e+00  0.0  0.000000e+00   \n",
      "8    data/test_stg1/img_00053.jpg  0.000000e+00  0.0  0.000000e+00   \n",
      "9    data/test_stg1/img_00071.jpg  0.000000e+00  0.0  0.000000e+00   \n",
      "10   data/test_stg1/img_00075.jpg  0.000000e+00  0.0  0.000000e+00   \n",
      "11   data/test_stg1/img_00102.jpg  0.000000e+00  0.0  0.000000e+00   \n",
      "12   data/test_stg1/img_00103.jpg  0.000000e+00  0.0  0.000000e+00   \n",
      "13   data/test_stg1/img_00109.jpg  0.000000e+00  0.0  0.000000e+00   \n",
      "14   data/test_stg1/img_00119.jpg  0.000000e+00  0.0  0.000000e+00   \n",
      "15   data/test_stg1/img_00120.jpg  0.000000e+00  0.0  0.000000e+00   \n",
      "16   data/test_stg1/img_00125.jpg  0.000000e+00  0.0  1.485050e-19   \n",
      "17   data/test_stg1/img_00128.jpg  0.000000e+00  0.0  4.799952e-04   \n",
      "18   data/test_stg1/img_00129.jpg  0.000000e+00  0.0  0.000000e+00   \n",
      "19   data/test_stg1/img_00133.jpg  0.000000e+00  0.0  0.000000e+00   \n",
      "20   data/test_stg1/img_00138.jpg  0.000000e+00  0.0  8.325819e-16   \n",
      "21   data/test_stg1/img_00141.jpg  0.000000e+00  0.0  0.000000e+00   \n",
      "22   data/test_stg1/img_00152.jpg  0.000000e+00  0.0  0.000000e+00   \n",
      "23   data/test_stg1/img_00161.jpg  0.000000e+00  0.0  0.000000e+00   \n",
      "24   data/test_stg1/img_00164.jpg  0.000000e+00  0.0  0.000000e+00   \n",
      "25   data/test_stg1/img_00170.jpg  1.000000e+00  0.0  0.000000e+00   \n",
      "26   data/test_stg1/img_00171.jpg  1.000000e+00  0.0  0.000000e+00   \n",
      "27   data/test_stg1/img_00172.jpg  1.000000e+00  0.0  0.000000e+00   \n",
      "28   data/test_stg1/img_00175.jpg  1.000000e+00  0.0  0.000000e+00   \n",
      "29   data/test_stg1/img_00180.jpg  1.000000e+00  0.0  0.000000e+00   \n",
      "..                            ...           ...  ...           ...   \n",
      "970  data/test_stg1/img_07578.jpg  1.458234e-18  0.0  0.000000e+00   \n",
      "971  data/test_stg1/img_07580.jpg  1.458234e-18  0.0  0.000000e+00   \n",
      "972  data/test_stg1/img_07583.jpg  1.458234e-18  0.0  0.000000e+00   \n",
      "973  data/test_stg1/img_07590.jpg  1.458234e-18  0.0  0.000000e+00   \n",
      "974  data/test_stg1/img_07594.jpg  1.458234e-18  0.0  0.000000e+00   \n",
      "975  data/test_stg1/img_07616.jpg  1.458234e-18  0.0  0.000000e+00   \n",
      "976  data/test_stg1/img_07621.jpg  1.458234e-18  0.0  0.000000e+00   \n",
      "977  data/test_stg1/img_07623.jpg  1.458234e-18  0.0  0.000000e+00   \n",
      "978  data/test_stg1/img_07628.jpg  1.458234e-18  0.0  0.000000e+00   \n",
      "979  data/test_stg1/img_07659.jpg  1.458234e-18  0.0  0.000000e+00   \n",
      "980  data/test_stg1/img_07663.jpg  1.458234e-18  0.0  0.000000e+00   \n",
      "981  data/test_stg1/img_07678.jpg  1.458234e-18  0.0  0.000000e+00   \n",
      "982  data/test_stg1/img_07689.jpg  1.458234e-18  0.0  0.000000e+00   \n",
      "983  data/test_stg1/img_07700.jpg  1.458234e-18  0.0  0.000000e+00   \n",
      "984  data/test_stg1/img_07717.jpg  1.458234e-18  0.0  0.000000e+00   \n",
      "985  data/test_stg1/img_07746.jpg  1.458234e-18  0.0  0.000000e+00   \n",
      "986  data/test_stg1/img_07757.jpg  1.458234e-18  0.0  0.000000e+00   \n",
      "987  data/test_stg1/img_07792.jpg  1.458234e-18  0.0  0.000000e+00   \n",
      "988  data/test_stg1/img_07799.jpg  1.458234e-18  0.0  0.000000e+00   \n",
      "989  data/test_stg1/img_07818.jpg  1.458234e-18  0.0  0.000000e+00   \n",
      "990  data/test_stg1/img_07833.jpg  1.458234e-18  0.0  0.000000e+00   \n",
      "991  data/test_stg1/img_07859.jpg  1.458234e-18  0.0  0.000000e+00   \n",
      "992  data/test_stg1/img_07872.jpg  1.458234e-18  0.0  0.000000e+00   \n",
      "993  data/test_stg1/img_07893.jpg  1.458234e-18  0.0  0.000000e+00   \n",
      "994  data/test_stg1/img_07895.jpg  1.458234e-18  0.0  0.000000e+00   \n",
      "995  data/test_stg1/img_07905.jpg  1.458234e-18  0.0  0.000000e+00   \n",
      "996  data/test_stg1/img_07906.jpg  1.458234e-18  0.0  0.000000e+00   \n",
      "997  data/test_stg1/img_07908.jpg  1.458234e-18  0.0  0.000000e+00   \n",
      "998  data/test_stg1/img_07910.jpg  1.458234e-18  0.0  0.000000e+00   \n",
      "999  data/test_stg1/img_07921.jpg  1.458234e-18  0.0  0.000000e+00   \n",
      "\n",
      "              LAG  NoF         OTHER         SHARK  YFT  \n",
      "0    0.000000e+00  0.0  0.000000e+00  1.000000e+00  0.0  \n",
      "1    0.000000e+00  0.0  0.000000e+00  1.000000e+00  0.0  \n",
      "2    0.000000e+00  0.0  0.000000e+00  1.000000e+00  0.0  \n",
      "3    0.000000e+00  0.0  0.000000e+00  1.000000e+00  0.0  \n",
      "4    6.786762e-38  0.0  0.000000e+00  1.000000e+00  0.0  \n",
      "5    0.000000e+00  0.0  0.000000e+00  1.000000e+00  0.0  \n",
      "6    0.000000e+00  0.0  0.000000e+00  1.000000e+00  0.0  \n",
      "7    0.000000e+00  0.0  0.000000e+00  1.000000e+00  0.0  \n",
      "8    0.000000e+00  0.0  0.000000e+00  1.000000e+00  0.0  \n",
      "9    0.000000e+00  0.0  0.000000e+00  1.000000e+00  0.0  \n",
      "10   0.000000e+00  0.0  0.000000e+00  1.000000e+00  0.0  \n",
      "11   0.000000e+00  0.0  0.000000e+00  1.000000e+00  0.0  \n",
      "12   0.000000e+00  0.0  0.000000e+00  1.000000e+00  0.0  \n",
      "13   0.000000e+00  0.0  0.000000e+00  1.000000e+00  0.0  \n",
      "14   0.000000e+00  0.0  0.000000e+00  1.000000e+00  0.0  \n",
      "15   0.000000e+00  0.0  0.000000e+00  1.000000e+00  0.0  \n",
      "16   0.000000e+00  0.0  0.000000e+00  1.000000e+00  0.0  \n",
      "17   1.964353e-32  0.0  0.000000e+00  9.995201e-01  0.0  \n",
      "18   0.000000e+00  0.0  0.000000e+00  1.000000e+00  0.0  \n",
      "19   0.000000e+00  0.0  0.000000e+00  1.000000e+00  0.0  \n",
      "20   0.000000e+00  0.0  0.000000e+00  1.000000e+00  0.0  \n",
      "21   0.000000e+00  0.0  0.000000e+00  1.000000e+00  0.0  \n",
      "22   0.000000e+00  0.0  0.000000e+00  1.000000e+00  0.0  \n",
      "23   0.000000e+00  0.0  0.000000e+00  1.000000e+00  0.0  \n",
      "24   0.000000e+00  0.0  0.000000e+00  1.000000e+00  0.0  \n",
      "25   0.000000e+00  0.0  0.000000e+00  0.000000e+00  0.0  \n",
      "26   0.000000e+00  0.0  0.000000e+00  0.000000e+00  0.0  \n",
      "27   0.000000e+00  0.0  0.000000e+00  0.000000e+00  0.0  \n",
      "28   0.000000e+00  0.0  0.000000e+00  0.000000e+00  0.0  \n",
      "29   0.000000e+00  0.0  0.000000e+00  0.000000e+00  0.0  \n",
      "..            ...  ...           ...           ...  ...  \n",
      "970  0.000000e+00  0.0  1.536544e-28  5.351048e-14  1.0  \n",
      "971  0.000000e+00  0.0  1.536544e-28  5.351048e-14  1.0  \n",
      "972  0.000000e+00  0.0  1.536544e-28  5.351048e-14  1.0  \n",
      "973  0.000000e+00  0.0  1.536544e-28  5.351048e-14  1.0  \n",
      "974  0.000000e+00  0.0  1.536544e-28  5.351048e-14  1.0  \n",
      "975  0.000000e+00  0.0  1.536544e-28  5.351048e-14  1.0  \n",
      "976  0.000000e+00  0.0  1.536544e-28  5.351048e-14  1.0  \n",
      "977  0.000000e+00  0.0  1.536544e-28  5.351048e-14  1.0  \n",
      "978  0.000000e+00  0.0  1.536544e-28  5.351048e-14  1.0  \n",
      "979  0.000000e+00  0.0  1.536544e-28  5.351048e-14  1.0  \n",
      "980  0.000000e+00  0.0  1.536544e-28  5.351048e-14  1.0  \n",
      "981  0.000000e+00  0.0  1.536544e-28  5.351048e-14  1.0  \n",
      "982  0.000000e+00  0.0  1.536544e-28  5.351048e-14  1.0  \n",
      "983  0.000000e+00  0.0  1.536544e-28  5.351048e-14  1.0  \n",
      "984  0.000000e+00  0.0  1.536544e-28  5.351048e-14  1.0  \n",
      "985  0.000000e+00  0.0  1.536544e-28  5.351048e-14  1.0  \n",
      "986  0.000000e+00  0.0  1.536544e-28  5.351048e-14  1.0  \n",
      "987  0.000000e+00  0.0  1.536544e-28  5.351048e-14  1.0  \n",
      "988  0.000000e+00  0.0  1.536544e-28  5.351048e-14  1.0  \n",
      "989  0.000000e+00  0.0  1.536544e-28  5.351048e-14  1.0  \n",
      "990  0.000000e+00  0.0  1.536544e-28  5.351048e-14  1.0  \n",
      "991  0.000000e+00  0.0  1.536544e-28  5.351048e-14  1.0  \n",
      "992  0.000000e+00  0.0  1.536544e-28  5.351048e-14  1.0  \n",
      "993  0.000000e+00  0.0  1.536544e-28  5.351048e-14  1.0  \n",
      "994  0.000000e+00  0.0  1.536544e-28  5.351048e-14  1.0  \n",
      "995  0.000000e+00  0.0  1.536544e-28  5.351048e-14  1.0  \n",
      "996  0.000000e+00  0.0  1.536544e-28  5.351048e-14  1.0  \n",
      "997  0.000000e+00  0.0  1.536544e-28  5.351048e-14  1.0  \n",
      "998  0.000000e+00  0.0  1.536544e-28  5.351048e-14  1.0  \n",
      "999  0.000000e+00  0.0  1.536544e-28  5.351048e-14  1.0  \n",
      "\n",
      "[1000 rows x 9 columns]\n"
     ]
    }
   ],
   "source": [
    "print(test_df)"
   ]
  },
  {
   "cell_type": "code",
   "execution_count": null,
   "metadata": {
    "collapsed": true
   },
   "outputs": [],
   "source": []
  }
 ],
 "metadata": {
  "anaconda-cloud": {},
  "kernelspec": {
   "display_name": "Python [default]",
   "language": "python",
   "name": "python3"
  },
  "language_info": {
   "codemirror_mode": {
    "name": "ipython",
    "version": 3
   },
   "file_extension": ".py",
   "mimetype": "text/x-python",
   "name": "python",
   "nbconvert_exporter": "python",
   "pygments_lexer": "ipython3",
   "version": "3.5.2"
  }
 },
 "nbformat": 4,
 "nbformat_minor": 1
}
