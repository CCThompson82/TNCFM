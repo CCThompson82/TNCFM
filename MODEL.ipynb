{
 "cells": [
  {
   "cell_type": "markdown",
   "metadata": {},
   "source": [
    "# Model for Nature Conservancy Fisheries Kaggle Competition"
   ]
  },
  {
   "cell_type": "markdown",
   "metadata": {},
   "source": [
    "#### Dependencies"
   ]
  },
  {
   "cell_type": "code",
   "execution_count": 1,
   "metadata": {
    "collapsed": false
   },
   "outputs": [],
   "source": [
    "import fish_data as fd\n",
    "import numpy as np\n",
    "import tensorflow as tf"
   ]
  },
  {
   "cell_type": "markdown",
   "metadata": {},
   "source": [
    "#### Helper functions"
   ]
  },
  {
   "cell_type": "code",
   "execution_count": 2,
   "metadata": {
    "collapsed": false
   },
   "outputs": [
    {
     "name": "stdout",
     "output_type": "stream",
     "text": [
      "Help on module fish_data:\n",
      "\n",
      "NAME\n",
      "    fish_data\n",
      "\n",
      "DESCRIPTION\n",
      "    fish_data module contains the helper functions for the model build of the\n",
      "    Nature Conservancy Fisheries Kaggle Competition.\n",
      "    \n",
      "    Dependencies:\n",
      "        * numpy as np\n",
      "        * scipy.ndimage as ndimage\n",
      "        * scipy.misc as misc\n",
      "\n",
      "FUNCTIONS\n",
      "    generate_epoch_set_list_and_label_array(min_each)\n",
      "        Function to generate a list of filenames to be used for each training\n",
      "        epoch.  Some files will be used multiple times in order that each fish is\n",
      "        drawn into a training batch an equivalent number of times.\n",
      "    \n",
      "    mutate_image(image)\n",
      "        Receives an image array and returns an image array with a random set of\n",
      "            distortions.\n",
      "        Distortions include:\n",
      "            * flip horizontally (0.5)\n",
      "            * flip vertically (0.5)\n",
      "            * slight distortion of coloring (0.5 for any distortion at all, plus\n",
      "                random float for amount of distortion)\n",
      "            * random horizontal shift (image is cropped vertically between 1/5-1/15\n",
      "                the image. random top or bottom is cropped.)\n",
      "            * random vertical shift (image is cropped horizontally between 1/10 to\n",
      "                1/20 of the image.  random left or right is cropped.)\n",
      "    \n",
      "    standardize(image, std_y, std_x)\n",
      "        Normalizes and resizes an image array to a standard height, length, and\n",
      "        pixel range\n",
      "\n",
      "FILE\n",
      "    /Users/ccthomps/Documents/Python Files/Kaggle Competitions/Nature Conservancy Fisheries/fish_data.py\n",
      "\n",
      "\n"
     ]
    }
   ],
   "source": [
    "help(fd)"
   ]
  },
  {
   "cell_type": "code",
   "execution_count": null,
   "metadata": {
    "collapsed": true
   },
   "outputs": [],
   "source": []
  }
 ],
 "metadata": {
  "anaconda-cloud": {},
  "kernelspec": {
   "display_name": "Python [default]",
   "language": "python",
   "name": "python3"
  },
  "language_info": {
   "codemirror_mode": {
    "name": "ipython",
    "version": 3
   },
   "file_extension": ".py",
   "mimetype": "text/x-python",
   "name": "python",
   "nbconvert_exporter": "python",
   "pygments_lexer": "ipython3",
   "version": "3.5.2"
  }
 },
 "nbformat": 4,
 "nbformat_minor": 1
}
