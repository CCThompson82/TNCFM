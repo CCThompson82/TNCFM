{
 "cells": [
  {
   "cell_type": "markdown",
   "metadata": {},
   "source": [
    "# Model for Nature Conservancy Fisheries Kaggle Competition"
   ]
  },
  {
   "cell_type": "markdown",
   "metadata": {},
   "source": [
    "#### Dependencies"
   ]
  },
  {
   "cell_type": "code",
   "execution_count": null,
   "metadata": {
    "collapsed": false
   },
   "outputs": [],
   "source": [
    "import fish_data as fd\n",
    "import numpy as np\n",
    "import tensorflow as tf\n",
    "from sklearn.model_selection import train_test_split\n",
    "import matplotlib.pyplot as plt\n",
    "%matplotlib inline\n",
    "import os"
   ]
  },
  {
   "cell_type": "markdown",
   "metadata": {},
   "source": [
    "#### Helper functions"
   ]
  },
  {
   "cell_type": "code",
   "execution_count": null,
   "metadata": {
    "collapsed": false
   },
   "outputs": [],
   "source": [
    "help(fd)"
   ]
  },
  {
   "cell_type": "markdown",
   "metadata": {},
   "source": [
    "#### Generate the list of filenames for balanced training batch collections with corresponding label array"
   ]
  },
  {
   "cell_type": "code",
   "execution_count": null,
   "metadata": {
    "collapsed": false
   },
   "outputs": [],
   "source": [
    "std_y = 500\n",
    "std_x = 750\n",
    "print(\"Aspect ratio: {}\".format(std_x/std_y))"
   ]
  },
  {
   "cell_type": "code",
   "execution_count": null,
   "metadata": {
    "collapsed": true
   },
   "outputs": [],
   "source": [
    "valid_size = 150"
   ]
  },
  {
   "cell_type": "code",
   "execution_count": null,
   "metadata": {
    "collapsed": false
   },
   "outputs": [],
   "source": [
    "valid_filenames = np.random.choice(fd.generate_filenames_list(), valid_size)"
   ]
  },
  {
   "cell_type": "code",
   "execution_count": null,
   "metadata": {
    "collapsed": false
   },
   "outputs": [],
   "source": [
    "y_valid = fd.make_label(valid_filenames, 0, valid_size)\n",
    "print(\"Valid size and num_labels are correct for the valid set: {}\".format(y_valid.shape == (valid_size, 8)))\n",
    "X_valid = fd.make_batch(valid_filenames, 0, valid_size, std_y, std_x, normalize = True, mutate = False)\n",
    "print(\"Valid images have been resized and stacked: {}\".format(X_valid.shape == (valid_size, std_y, std_x, 3)))"
   ]
  },
  {
   "cell_type": "code",
   "execution_count": null,
   "metadata": {
    "collapsed": false
   },
   "outputs": [],
   "source": [
    "for i in range(3) :\n",
    "    print(valid_filenames[i])\n",
    "    print(y_valid[i, :])\n",
    "    fd.show_panel(X_valid[i, :, :, :])"
   ]
  },
  {
   "cell_type": "code",
   "execution_count": null,
   "metadata": {
    "collapsed": false
   },
   "outputs": [],
   "source": [
    "min_each = 1875\n",
    "X_filenames = fd.generate_balanced_epoch(min_each, shuffle = True)\n"
   ]
  },
  {
   "cell_type": "code",
   "execution_count": null,
   "metadata": {
    "collapsed": false
   },
   "outputs": [],
   "source": [
    "print(\"TEST batch generation at the end of an epoch\")\n",
    "X_batch_test = fd.make_batch(X_filenames, offset = len(X_filenames)-1, batch_size = 2, \n",
    "                                            std_y = std_y, std_x= std_x, normalize = True, mutate = True)\n",
    "y_batch_test = fd.make_label(X_filenames, offset = len(X_filenames)-1, \n",
    "                                               batch_size = 2)\n",
    "print(\"  Shape of batch array is correct: {}\".format(X_batch_test.shape == (2, std_y, std_x, 3)))\n",
    "print(\"  Average pixel value is less than 0.1: {}\".format(np.mean(X_valid) <= 0.1))\n",
    "print(\"  End of epoch navigated correctly: {}\".format(all(y_batch_test[-1,:] == fd.make_label(X_filenames, \n",
    "                                                                                         offset = 0, \n",
    "                                                                                         batch_size = 1))  ))\n",
    "print(\"\")\n",
    "for i, ix in enumerate([-1, 0]) :\n",
    "    print(X_filenames[ix])\n",
    "    print(y_batch_test[i])\n",
    "    fd.show_panel(X_batch_test[i])"
   ]
  },
  {
   "cell_type": "markdown",
   "metadata": {},
   "source": [
    "## Graph and Session Runs"
   ]
  },
  {
   "cell_type": "markdown",
   "metadata": {},
   "source": [
    "#### Graph parameters"
   ]
  },
  {
   "cell_type": "code",
   "execution_count": null,
   "metadata": {
    "collapsed": false
   },
   "outputs": [],
   "source": [
    "# General\n",
    "num_channels = 3\n",
    "num_labels = 8\n",
    "batch_size = 25\n",
    "stddev = 0.2\n",
    "\n",
    "# convolution\n",
    "kernel_sizes = [3, 3, 3, 3, 3, 3, 3, 3, 3, 3, 3, 3]\n",
    "stride = 1\n",
    "conv_depths = [8, 8, 16, 16, 32, 32, 64, 64, 128, 128, 256, 256]\n",
    "final_depth = conv_depths[-1]\n",
    "\n",
    "\n",
    "#dropout\n",
    "kp_hidden = 0.50\n",
    "\n",
    "# fully connected\n",
    "fc1_depth = 256\n",
    "fc2_depth = 64\n",
    "\n",
    "#regularization\n",
    "beta = 1e-1 * (1/len(conv_depths))\n",
    "\n",
    "# Learning rate\n",
    "init_rate = 1e-2\n"
   ]
  },
  {
   "cell_type": "code",
   "execution_count": null,
   "metadata": {
    "collapsed": false
   },
   "outputs": [],
   "source": [
    "nodes = []\n",
    "for i in [0,1,2,3,4,4,5,5,6,6,7,7] :\n",
    "    nodes.append(fd.count_nodes(std_y, std_x, i, conv_depths[i]))\n",
    "\n",
    "plt.figure()\n",
    "plt.plot(range(1,13), nodes, '-')\n",
    "plt.xlabel('Layer')\n",
    "plt.ylabel('Num of Nodes')\n",
    "plt.yscale('log')\n",
    "plt.xlim(0, 14)\n",
    "plt.show()\n",
    "    "
   ]
  },
  {
   "cell_type": "markdown",
   "metadata": {},
   "source": [
    "#### Session parameters"
   ]
  },
  {
   "cell_type": "code",
   "execution_count": null,
   "metadata": {
    "collapsed": false
   },
   "outputs": [],
   "source": [
    "# epochs\n",
    "num_epochs = 5\n",
    "# path for tensorboard summary file to be written\n",
    "logs_path = os.getcwd()+'/TB_logs'\n",
    "valid_every = 25"
   ]
  },
  {
   "cell_type": "code",
   "execution_count": null,
   "metadata": {
    "collapsed": false
   },
   "outputs": [],
   "source": [
    "%run -i 'GRAPH.py'"
   ]
  },
  {
   "cell_type": "code",
   "execution_count": null,
   "metadata": {
    "collapsed": false
   },
   "outputs": [],
   "source": [
    "%run -i 'SESSION.py'"
   ]
  },
  {
   "cell_type": "code",
   "execution_count": null,
   "metadata": {
    "collapsed": true
   },
   "outputs": [],
   "source": []
  },
  {
   "cell_type": "code",
   "execution_count": null,
   "metadata": {
    "collapsed": true
   },
   "outputs": [],
   "source": []
  }
 ],
 "metadata": {
  "anaconda-cloud": {},
  "kernelspec": {
   "display_name": "Python [default]",
   "language": "python",
   "name": "python3"
  },
  "language_info": {
   "codemirror_mode": {
    "name": "ipython",
    "version": 3
   },
   "file_extension": ".py",
   "mimetype": "text/x-python",
   "name": "python",
   "nbconvert_exporter": "python",
   "pygments_lexer": "ipython3",
   "version": "3.5.2"
  }
 },
 "nbformat": 4,
 "nbformat_minor": 1
}
