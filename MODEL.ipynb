{
 "cells": [
  {
   "cell_type": "markdown",
   "metadata": {},
   "source": [
    "# Model for Nature Conservancy Fisheries Kaggle Competition"
   ]
  },
  {
   "cell_type": "markdown",
   "metadata": {},
   "source": [
    "#### Dependencies"
   ]
  },
  {
   "cell_type": "code",
   "execution_count": 1,
   "metadata": {
    "collapsed": false
   },
   "outputs": [],
   "source": [
    "import fish_data as fd\n",
    "import numpy as np\n",
    "import tensorflow as tf\n",
    "from sklearn.model_selection import train_test_split\n",
    "import matplotlib.pyplot as plt\n",
    "%matplotlib inline\n",
    "import os\n",
    "import pandas as pd"
   ]
  },
  {
   "cell_type": "markdown",
   "metadata": {},
   "source": [
    "#### Helper functions"
   ]
  },
  {
   "cell_type": "code",
   "execution_count": 2,
   "metadata": {
    "collapsed": false
   },
   "outputs": [
    {
     "name": "stdout",
     "output_type": "stream",
     "text": [
      "Help on module fish_data:\n",
      "\n",
      "NAME\n",
      "    fish_data\n",
      "\n",
      "DESCRIPTION\n",
      "    fish_data module contains the helper functions for the model build of the\n",
      "    Nature Conservancy Fisheries Kaggle Competition.\n",
      "    \n",
      "    Dependencies:\n",
      "        * numpy as np\n",
      "        * os\n",
      "        * scipy.ndimage as ndimage\n",
      "        * scipy.misc as misc\n",
      "        * scipy.special as special\n",
      "        * matplotlib.pyplot as plt\n",
      "        * tensorflow as tf\n",
      "\n",
      "FUNCTIONS\n",
      "    count_nodes(y_in, x_in, conv_depths, conv_strides, pool_strides)\n",
      "        Calculates the number of total nodes present in the last layer of a\n",
      "        convolution plus max_pooling architecture.  Calculations assume that\n",
      "        convolution is 'SAME' padded, and pooling is 'VALID' padded.\n",
      "    \n",
      "    decode_image(image_read, size, num_channels=3, mutate=False, brightness_delta=None, contrast_limits=None, hue_delta=None, saturation_limits=None)\n",
      "        Converts a dequeued image read from filename to a single tensor array,\n",
      "        with modifications:\n",
      "            * resized to standard height and width supplied in size param\n",
      "            * normalized to mean near zero, min == -0.5, max ==  0.5\n",
      "            * distortions if mutate == True :\n",
      "                * random flip left right\n",
      "                * random flip up down\n",
      "                * # TODO : random crop and resize to standard size ???\n",
      "                * random brightness\n",
      "                * random contrast\n",
      "                * random hue\n",
      "                * random saturation\n",
      "        \n",
      "        providing distortion if mutate == True\n",
      "    \n",
      "    generate_balanced_filenames_epoch(min_each, shuffle=True)\n",
      "        Function to generate a list of filenames to be used for each training epoch\n",
      "        with a corresponding label array.  Most file names will be used  multiple  times\n",
      "        in order that each fish is drawn into a training batch an equivalent number of\n",
      "        times.\n",
      "    \n",
      "    generate_filenames_list(subdirectory='data/train/', subfolders=True)\n",
      "        Iterates through the default 'data/train' folders of the working directory to\n",
      "        generate a list of filenames\n",
      "    \n",
      "    make_labels(filename_list, directory_string='train/', end_string='/img')\n",
      "        Receives a list of filenames and returns an ordered one-hot label\n",
      "        array by finding the fish species ID within the filename string.\n",
      "    \n",
      "    show_panel(image)\n",
      "\n",
      "FILE\n",
      "    /Users/ccthomps/Documents/Python Files/Kaggle Competitions/Nature Conservancy Fisheries/fish_data.py\n",
      "\n",
      "\n"
     ]
    }
   ],
   "source": [
    "help(fd)"
   ]
  },
  {
   "cell_type": "markdown",
   "metadata": {},
   "source": [
    "#### Generate a list of filenames"
   ]
  },
  {
   "cell_type": "code",
   "execution_count": 3,
   "metadata": {
    "collapsed": false
   },
   "outputs": [
    {
     "name": "stdout",
     "output_type": "stream",
     "text": [
      "There are 3777 filenames in the master set list\n",
      "There are 1000 filenames in the test set list\n"
     ]
    }
   ],
   "source": [
    "fish_filenames = fd.generate_filenames_list('data/train/', subfolders = True)\n",
    "print(\"There are {} filenames in the master set list\".format(len(fish_filenames)))\n",
    "test_filenames = fd.generate_filenames_list('data/test_stg1/', subfolders = False)\n",
    "print(\"There are {} filenames in the test set list\".format(len(test_filenames)))"
   ]
  },
  {
   "cell_type": "markdown",
   "metadata": {},
   "source": [
    "#### Generate the labels for the master set list"
   ]
  },
  {
   "cell_type": "code",
   "execution_count": 4,
   "metadata": {
    "collapsed": false
   },
   "outputs": [
    {
     "name": "stdout",
     "output_type": "stream",
     "text": [
      "One label per row entry: True\n"
     ]
    }
   ],
   "source": [
    "fish_label_arr = fd.make_labels(fish_filenames, 'train/', '/img')\n",
    "fish_label_arr.shape\n",
    "print(\"One label per row entry: {}\".format(all(np.sum(fish_label_arr, 1) == 1) ))"
   ]
  },
  {
   "cell_type": "markdown",
   "metadata": {},
   "source": [
    "#### Shuffle and split the master set list into training and validation sets"
   ]
  },
  {
   "cell_type": "code",
   "execution_count": 5,
   "metadata": {
    "collapsed": false
   },
   "outputs": [
    {
     "name": "stdout",
     "output_type": "stream",
     "text": [
      "Validation set size: 300\n",
      "Training set size: 3477\n"
     ]
    }
   ],
   "source": [
    "valid_size = 300\n",
    "files_train, files_val, y_train, y_val = train_test_split(fish_filenames, fish_label_arr, test_size = valid_size)\n",
    "print(\"Validation set size: {}\".format(y_val.shape[0]))\n",
    "print(\"Training set size: {}\".format(y_train.shape[0]))"
   ]
  },
  {
   "cell_type": "markdown",
   "metadata": {},
   "source": [
    "## Graph and Session Runs"
   ]
  },
  {
   "cell_type": "markdown",
   "metadata": {},
   "source": [
    "#### Graph parameters"
   ]
  },
  {
   "cell_type": "code",
   "execution_count": 6,
   "metadata": {
    "collapsed": false
   },
   "outputs": [],
   "source": [
    "%run -i 'PARAMETERS.py'"
   ]
  },
  {
   "cell_type": "markdown",
   "metadata": {},
   "source": [
    "#### Session parameters"
   ]
  },
  {
   "cell_type": "code",
   "execution_count": 7,
   "metadata": {
    "collapsed": true
   },
   "outputs": [],
   "source": [
    "version_ID = 'v1.3.3.5'"
   ]
  },
  {
   "cell_type": "code",
   "execution_count": 8,
   "metadata": {
    "collapsed": false
   },
   "outputs": [],
   "source": [
    "%run -i 'GRAPH.py'"
   ]
  },
  {
   "cell_type": "code",
   "execution_count": 9,
   "metadata": {
    "collapsed": false
   },
   "outputs": [
    {
     "name": "stdout",
     "output_type": "stream",
     "text": [
      "Initialized!\n",
      "\n",
      "\n",
      "To view your tensorboard dashboard summary, run the following on the command line:\n",
      "tensorboard --logdir='/Users/ccthomps/Documents/Python Files/Kaggle Competitions/Nature Conservancy Fisheries/TB_logs/v1.3.3.5'\n",
      "\n",
      "Batch number: 1\n",
      "     Training_mean_cross_entropy: 435.47113037109375\n",
      "     Valid_mean_cross_entropy: 5430.4384765625\n",
      "Batch number: 5\n",
      "     Training_mean_cross_entropy: 557.7343139648438\n",
      "     Valid_mean_cross_entropy: 864.4822998046875\n",
      "Batch number: 9\n",
      "     Training_mean_cross_entropy: 23.945446014404297\n",
      "     Valid_mean_cross_entropy: 34.095237731933594\n",
      "Batch number: 11\n",
      "     Training_mean_cross_entropy: 20.988630294799805\n",
      "     Valid_mean_cross_entropy: 2.0351929664611816\n",
      "Batch number: 13\n",
      "     Training_mean_cross_entropy: 4.480085849761963\n",
      "     Valid_mean_cross_entropy: 2.0222442150115967\n",
      "Batch number: 17\n",
      "     Training_mean_cross_entropy: 20.67257308959961\n",
      "     Valid_mean_cross_entropy: 2.010714292526245\n",
      "Batch number: 21\n",
      "     Training_mean_cross_entropy: 8.017494201660156\n",
      "     Valid_mean_cross_entropy: 1.9944417476654053\n",
      "Batch number: 25\n",
      "     Training_mean_cross_entropy: 9.851753234863281\n",
      "     Valid_mean_cross_entropy: 1.9749603271484375\n",
      "Batch number: 29\n",
      "     Training_mean_cross_entropy: 4.099930763244629\n",
      "     Valid_mean_cross_entropy: 1.959625244140625\n",
      "Batch number: 31\n",
      "     Training_mean_cross_entropy: 10.475363731384277\n",
      "     Valid_mean_cross_entropy: 1.946150302886963\n",
      "Batch number: 33\n",
      "     Training_mean_cross_entropy: 6.117335319519043\n",
      "     Valid_mean_cross_entropy: 1.9379630088806152\n",
      "Batch number: 37\n",
      "     Training_mean_cross_entropy: 10.361584663391113\n",
      "     Valid_mean_cross_entropy: 1.930093765258789\n",
      "Batch number: 41\n",
      "     Training_mean_cross_entropy: 3.25247859954834\n",
      "     Valid_mean_cross_entropy: 1.9154162406921387\n",
      "Batch number: 45\n",
      "     Training_mean_cross_entropy: 9.923870086669922\n",
      "     Valid_mean_cross_entropy: 1.9008435010910034\n",
      "Batch number: 49\n",
      "     Training_mean_cross_entropy: 5.909829616546631\n",
      "     Valid_mean_cross_entropy: 1.8915241956710815\n",
      "Batch number: 51\n",
      "     Training_mean_cross_entropy: 2.439889907836914\n",
      "     Valid_mean_cross_entropy: 1.8826826810836792\n",
      "Batch number: 53\n",
      "     Training_mean_cross_entropy: 2.089972496032715\n",
      "     Valid_mean_cross_entropy: 1.8773118257522583\n",
      "Batch number: 57\n",
      "     Training_mean_cross_entropy: 3.3078064918518066\n",
      "     Valid_mean_cross_entropy: 1.8710445165634155\n",
      "Batch number: 61\n",
      "     Training_mean_cross_entropy: 1.9216119050979614\n",
      "     Valid_mean_cross_entropy: 1.860939383506775\n",
      "Batch number: 65\n",
      "     Training_mean_cross_entropy: 2.2449111938476562\n",
      "     Valid_mean_cross_entropy: 1.8506078720092773\n",
      "Batch number: 69\n",
      "     Training_mean_cross_entropy: 2.703028917312622\n",
      "     Valid_mean_cross_entropy: 1.8399522304534912\n",
      "Batch number: 71\n",
      "     Training_mean_cross_entropy: 1.9566699266433716\n",
      "     Valid_mean_cross_entropy: 1.8318216800689697\n",
      "Batch number: 73\n",
      "     Training_mean_cross_entropy: 2.8647937774658203\n",
      "     Valid_mean_cross_entropy: 1.8264540433883667\n",
      "Batch number: 77\n",
      "     Training_mean_cross_entropy: 1.8588916063308716\n",
      "     Valid_mean_cross_entropy: 1.8206433057785034\n",
      "Batch number: 81\n",
      "     Training_mean_cross_entropy: 1.652564287185669\n",
      "     Valid_mean_cross_entropy: 1.8136694431304932\n",
      "Batch number: 85\n",
      "     Training_mean_cross_entropy: 1.7329192161560059\n",
      "     Valid_mean_cross_entropy: 1.8047289848327637\n",
      "Batch number: 89\n",
      "     Training_mean_cross_entropy: 1.8347499370574951\n",
      "     Valid_mean_cross_entropy: 1.7977997064590454\n",
      "Batch number: 91\n",
      "     Training_mean_cross_entropy: 2.176445722579956\n",
      "     Valid_mean_cross_entropy: 1.792656660079956\n",
      "Batch number: 93\n",
      "     Training_mean_cross_entropy: 2.223557233810425\n",
      "     Valid_mean_cross_entropy: 1.7876347303390503\n",
      "Batch number: 97\n",
      "     Training_mean_cross_entropy: 2.3265624046325684\n",
      "     Valid_mean_cross_entropy: 1.7842645645141602\n",
      "Batch number: 101\n",
      "     Training_mean_cross_entropy: 2.7677245140075684\n",
      "     Valid_mean_cross_entropy: 1.7787296772003174\n",
      "Batch number: 111\n",
      "     Training_mean_cross_entropy: 3.562986373901367\n",
      "     Valid_mean_cross_entropy: 1.7704154253005981\n",
      "Batch number: 121\n",
      "     Training_mean_cross_entropy: 1.7424603700637817\n",
      "     Valid_mean_cross_entropy: 1.7589099407196045\n",
      "Batch number: 131\n",
      "     Training_mean_cross_entropy: 2.5686838626861572\n",
      "     Valid_mean_cross_entropy: 1.7472378015518188\n",
      "Batch number: 141\n",
      "     Training_mean_cross_entropy: 1.9773144721984863\n",
      "     Valid_mean_cross_entropy: 1.73487389087677\n",
      "Batch number: 151\n",
      "     Training_mean_cross_entropy: 1.717155933380127\n",
      "     Valid_mean_cross_entropy: 1.726141333580017\n",
      "Batch number: 161\n",
      "     Training_mean_cross_entropy: 1.5817523002624512\n",
      "     Valid_mean_cross_entropy: 1.7244970798492432\n",
      "Batch number: 171\n",
      "     Training_mean_cross_entropy: 2.6153740882873535\n",
      "     Valid_mean_cross_entropy: 1.7235749959945679\n",
      "Batch number: 181\n",
      "     Training_mean_cross_entropy: 3.3658885955810547\n",
      "     Valid_mean_cross_entropy: 1.7227314710617065\n",
      "Batch number: 191\n",
      "     Training_mean_cross_entropy: 1.8036248683929443\n",
      "     Valid_mean_cross_entropy: 1.7220487594604492\n",
      "Batch number: 201\n",
      "     Training_mean_cross_entropy: 3.1249845027923584\n",
      "     Valid_mean_cross_entropy: 1.721113681793213\n",
      "Batch number: 211\n",
      "     Training_mean_cross_entropy: 2.0203051567077637\n",
      "     Valid_mean_cross_entropy: 1.7201354503631592\n",
      "Batch number: 221\n",
      "     Training_mean_cross_entropy: 1.6068001985549927\n",
      "     Valid_mean_cross_entropy: 1.7193448543548584\n",
      "Batch number: 231\n",
      "     Training_mean_cross_entropy: 2.0179364681243896\n",
      "     Valid_mean_cross_entropy: 1.718587875366211\n",
      "Batch number: 241\n",
      "     Training_mean_cross_entropy: 1.6029441356658936\n",
      "     Valid_mean_cross_entropy: 1.7179728746414185\n",
      "Batch number: 251\n",
      "     Training_mean_cross_entropy: 2.0185396671295166\n",
      "     Valid_mean_cross_entropy: 1.7172356843948364\n",
      "Batch number: 261\n",
      "     Training_mean_cross_entropy: 1.6169123649597168\n",
      "     Valid_mean_cross_entropy: 1.7166070938110352\n",
      "Batch number: 271\n",
      "     Training_mean_cross_entropy: 1.720529317855835\n",
      "     Valid_mean_cross_entropy: 1.7159423828125\n",
      "Batch number: 281\n",
      "     Training_mean_cross_entropy: 1.6580445766448975\n",
      "     Valid_mean_cross_entropy: 1.7153092622756958\n",
      "Batch number: 291\n",
      "     Training_mean_cross_entropy: 1.8270237445831299\n",
      "     Valid_mean_cross_entropy: 1.714850664138794\n",
      "Batch number: 301\n",
      "     Training_mean_cross_entropy: 1.5644557476043701\n",
      "     Valid_mean_cross_entropy: 1.714759111404419\n",
      "Batch number: 311\n",
      "     Training_mean_cross_entropy: 1.7826581001281738\n",
      "     Valid_mean_cross_entropy: 1.7146825790405273\n",
      "Batch number: 321\n",
      "     Training_mean_cross_entropy: 3.3300719261169434\n",
      "     Valid_mean_cross_entropy: 1.7146137952804565\n",
      "Batch number: 331\n",
      "     Training_mean_cross_entropy: 1.6400659084320068\n",
      "     Valid_mean_cross_entropy: 1.7145483493804932\n",
      "Batch number: 341\n",
      "     Training_mean_cross_entropy: 2.8082244396209717\n",
      "     Valid_mean_cross_entropy: 1.7144778966903687\n",
      "Batch number: 351\n",
      "     Training_mean_cross_entropy: 2.349128484725952\n",
      "     Valid_mean_cross_entropy: 1.714414119720459\n",
      "Batch number: 361\n",
      "     Training_mean_cross_entropy: 1.6850062608718872\n",
      "     Valid_mean_cross_entropy: 1.7143532037734985\n",
      "Batch number: 371\n",
      "     Training_mean_cross_entropy: 4.055709362030029\n",
      "     Valid_mean_cross_entropy: 1.7142809629440308\n",
      "Batch number: 381\n",
      "     Training_mean_cross_entropy: 1.8146589994430542\n",
      "     Valid_mean_cross_entropy: 1.7142192125320435\n",
      "Batch number: 391\n",
      "     Training_mean_cross_entropy: 1.8988903760910034\n",
      "     Valid_mean_cross_entropy: 1.7141602039337158\n",
      "Batch number: 401\n",
      "     Training_mean_cross_entropy: 1.8012434244155884\n",
      "     Valid_mean_cross_entropy: 1.7141026258468628\n",
      "Batch number: 411\n",
      "     Training_mean_cross_entropy: 1.675146460533142\n",
      "     Valid_mean_cross_entropy: 1.7140620946884155\n",
      "Batch number: 421\n",
      "     Training_mean_cross_entropy: 2.1634879112243652\n",
      "     Valid_mean_cross_entropy: 1.7140065431594849\n",
      "Batch number: 431\n",
      "     Training_mean_cross_entropy: 1.6264140605926514\n",
      "     Valid_mean_cross_entropy: 1.7139722108840942\n",
      "Batch number: 441\n",
      "     Training_mean_cross_entropy: 2.0276031494140625\n",
      "     Valid_mean_cross_entropy: 1.7139636278152466\n",
      "Batch number: 451\n",
      "     Training_mean_cross_entropy: 1.8671249151229858\n",
      "     Valid_mean_cross_entropy: 1.7139556407928467\n",
      "Batch number: 461\n",
      "     Training_mean_cross_entropy: 1.7689472436904907\n",
      "     Valid_mean_cross_entropy: 1.7139486074447632\n",
      "Batch number: 471\n",
      "     Training_mean_cross_entropy: 1.7065259218215942\n",
      "     Valid_mean_cross_entropy: 1.7139428853988647\n",
      "Batch number: 481\n",
      "     Training_mean_cross_entropy: 1.708580732345581\n",
      "     Valid_mean_cross_entropy: 1.7139371633529663\n",
      "Batch number: 491\n",
      "     Training_mean_cross_entropy: 1.9478402137756348\n",
      "     Valid_mean_cross_entropy: 1.7139304876327515\n",
      "Batch number: 501\n",
      "     Training_mean_cross_entropy: 1.7544368505477905\n",
      "     Valid_mean_cross_entropy: 1.7139235734939575\n",
      "Batch number: 511\n",
      "     Training_mean_cross_entropy: 1.9297369718551636\n",
      "     Valid_mean_cross_entropy: 1.7139188051223755\n",
      "Batch number: 521\n",
      "     Training_mean_cross_entropy: 1.9685940742492676\n",
      "     Valid_mean_cross_entropy: 1.7139137983322144\n",
      "Batch number: 531\n",
      "     Training_mean_cross_entropy: 2.0181663036346436\n",
      "     Valid_mean_cross_entropy: 1.7139071226119995\n",
      "Batch number: 541\n",
      "     Training_mean_cross_entropy: 1.7551705837249756\n",
      "     Valid_mean_cross_entropy: 1.713901400566101\n",
      "Batch number: 551\n",
      "     Training_mean_cross_entropy: 3.1363205909729004\n",
      "     Valid_mean_cross_entropy: 1.7138960361480713\n",
      "Batch number: 561\n",
      "     Training_mean_cross_entropy: 1.7101240158081055\n",
      "     Valid_mean_cross_entropy: 1.7138913869857788\n",
      "Batch number: 571\n",
      "     Training_mean_cross_entropy: 1.4774593114852905\n",
      "     Valid_mean_cross_entropy: 1.713887333869934\n",
      "Batch number: 581\n",
      "     Training_mean_cross_entropy: 1.7799113988876343\n",
      "     Valid_mean_cross_entropy: 1.7138867378234863\n",
      "Batch number: 591\n",
      "     Training_mean_cross_entropy: 2.184445858001709\n",
      "     Valid_mean_cross_entropy: 1.7138862609863281\n",
      "Batch number: 601\n",
      "     Training_mean_cross_entropy: 2.00565505027771\n",
      "     Valid_mean_cross_entropy: 1.7138862609863281\n",
      "Batch number: 611\n",
      "     Training_mean_cross_entropy: 1.7254910469055176\n",
      "     Valid_mean_cross_entropy: 1.7138862609863281\n",
      "Batch number: 621\n",
      "     Training_mean_cross_entropy: 1.748042345046997\n",
      "     Valid_mean_cross_entropy: 1.713884711265564\n",
      "Batch number: 631\n",
      "     Training_mean_cross_entropy: 1.7484627962112427\n",
      "     Valid_mean_cross_entropy: 1.7138848304748535\n",
      "Batch number: 641\n",
      "     Training_mean_cross_entropy: 1.8978739976882935\n",
      "     Valid_mean_cross_entropy: 1.7138844728469849\n",
      "Batch number: 651\n",
      "     Training_mean_cross_entropy: 1.807347059249878\n",
      "     Valid_mean_cross_entropy: 1.7138841152191162\n",
      "Batch number: 661\n",
      "     Training_mean_cross_entropy: 1.6269667148590088\n",
      "     Valid_mean_cross_entropy: 1.7138841152191162\n",
      "Batch number: 671\n",
      "     Training_mean_cross_entropy: 2.153209686279297\n",
      "     Valid_mean_cross_entropy: 1.713883638381958\n",
      "Batch number: 681\n",
      "     Training_mean_cross_entropy: 1.8951290845870972\n",
      "     Valid_mean_cross_entropy: 1.7138820886611938\n",
      "Batch number: 691\n",
      "     Training_mean_cross_entropy: 1.7203936576843262\n",
      "     Valid_mean_cross_entropy: 1.7138818502426147\n",
      "\n",
      "TRAINING FINISHED!\n",
      "\n",
      "Running Test Predictions...\n",
      "Test Predictions retrieved.\n",
      "\n",
      "Coordinator and Queue Runner Threads closed.\n",
      "Test set predictions csv file stored in 'Test_predictions' folder.  Submit file at:\n",
      "\n",
      "       https://www.kaggle.com/c/the-nature-conservancy-fisheries-monitoring/submit\n"
     ]
    }
   ],
   "source": [
    "%run -i 'SESSION.py'"
   ]
  },
  {
   "cell_type": "code",
   "execution_count": null,
   "metadata": {
    "collapsed": true
   },
   "outputs": [],
   "source": []
  }
 ],
 "metadata": {
  "anaconda-cloud": {},
  "kernelspec": {
   "display_name": "Python [default]",
   "language": "python",
   "name": "python3"
  },
  "language_info": {
   "codemirror_mode": {
    "name": "ipython",
    "version": 3
   },
   "file_extension": ".py",
   "mimetype": "text/x-python",
   "name": "python",
   "nbconvert_exporter": "python",
   "pygments_lexer": "ipython3",
   "version": "3.5.2"
  }
 },
 "nbformat": 4,
 "nbformat_minor": 1
}
