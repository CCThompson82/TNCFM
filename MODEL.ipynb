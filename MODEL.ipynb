{
 "cells": [
  {
   "cell_type": "markdown",
   "metadata": {},
   "source": [
    "# Model for Nature Conservancy Fisheries Kaggle Competition"
   ]
  },
  {
   "cell_type": "markdown",
   "metadata": {},
   "source": [
    "#### Dependencies"
   ]
  },
  {
   "cell_type": "code",
   "execution_count": 1,
   "metadata": {
    "collapsed": false
   },
   "outputs": [],
   "source": [
    "import fish_data as fd\n",
    "import numpy as np\n",
    "import tensorflow as tf\n",
    "from sklearn.model_selection import train_test_split\n",
    "import matplotlib.pyplot as plt\n",
    "%matplotlib inline\n",
    "import os\n",
    "import pandas as pd"
   ]
  },
  {
   "cell_type": "markdown",
   "metadata": {},
   "source": [
    "#### Helper functions"
   ]
  },
  {
   "cell_type": "code",
   "execution_count": 2,
   "metadata": {
    "collapsed": false
   },
   "outputs": [
    {
     "name": "stdout",
     "output_type": "stream",
     "text": [
      "Help on module fish_data:\n",
      "\n",
      "NAME\n",
      "    fish_data\n",
      "\n",
      "DESCRIPTION\n",
      "    fish_data module contains the helper functions for the model build of the\n",
      "    Nature Conservancy Fisheries Kaggle Competition.\n",
      "    \n",
      "    Dependencies:\n",
      "        * numpy as np\n",
      "        * os\n",
      "        * scipy.ndimage as ndimage\n",
      "        * scipy.misc as misc\n",
      "        * scipy.special as special\n",
      "        * matplotlib.pyplot as plt\n",
      "        * tensorflow as tf\n",
      "\n",
      "FUNCTIONS\n",
      "    count_nodes(y_in, x_in, conv_depths, conv_strides, pool_strides)\n",
      "        Calculates the number of total nodes present in the last layer of a\n",
      "        convolution plus max_pooling architecture.  Calculations assume that\n",
      "        convolution is 'SAME' padded, and pooling is 'VALID' padded.\n",
      "    \n",
      "    decode_image(image_read, size, num_channels=3, mutate=False, brightness_delta=None, contrast_limits=None, hue_delta=None, saturation_limits=None)\n",
      "        Converts a dequeued image read from filename to a single tensor array,\n",
      "        with modifications:\n",
      "            * resized to standard height and width supplied in size param\n",
      "            * normalized to mean near zero, min == -0.5, max ==  0.5\n",
      "            * distortions if mutate == True :\n",
      "                * random flip left right\n",
      "                * random flip up down\n",
      "                * # TODO : random crop and resize to standard size ???\n",
      "                * random brightness\n",
      "                * random contrast\n",
      "                * random hue\n",
      "                * random saturation\n",
      "        \n",
      "        providing distortion if mutate == True\n",
      "    \n",
      "    generate_balanced_filenames_epoch(min_each, shuffle=True)\n",
      "        Function to generate a list of filenames to be used for each training epoch\n",
      "        with a corresponding label array.  Most file names will be used  multiple  times\n",
      "        in order that each fish is drawn into a training batch an equivalent number of\n",
      "        times.\n",
      "    \n",
      "    generate_filenames_list(subdirectory='data/train/', subfolders=True)\n",
      "        Iterates through the default 'data/train' folders of the working directory to\n",
      "        generate a list of filenames\n",
      "    \n",
      "    make_labels(filename_list, directory_string='train/', end_string='/img')\n",
      "        Receives a list of filenames and returns an ordered one-hot label\n",
      "        array by finding the fish species ID within the filename string.\n",
      "    \n",
      "    show_panel(image)\n",
      "\n",
      "FILE\n",
      "    /Users/ccthomps/Documents/Python Files/Kaggle Competitions/Nature Conservancy Fisheries/fish_data.py\n",
      "\n",
      "\n"
     ]
    }
   ],
   "source": [
    "help(fd)"
   ]
  },
  {
   "cell_type": "markdown",
   "metadata": {},
   "source": [
    "#### Generate a list of filenames"
   ]
  },
  {
   "cell_type": "code",
   "execution_count": 3,
   "metadata": {
    "collapsed": false
   },
   "outputs": [
    {
     "name": "stdout",
     "output_type": "stream",
     "text": [
      "There are 3777 filenames in the master set list\n",
      "There are 1000 filenames in the test set list\n"
     ]
    }
   ],
   "source": [
    "fish_filenames = fd.generate_filenames_list('data/train/', subfolders = True)\n",
    "print(\"There are {} filenames in the master set list\".format(len(fish_filenames)))\n",
    "test_filenames = fd.generate_filenames_list('data/test_stg1/', subfolders = False)\n",
    "print(\"There are {} filenames in the test set list\".format(len(test_filenames)))"
   ]
  },
  {
   "cell_type": "markdown",
   "metadata": {},
   "source": [
    "#### Generate the labels for the master set list"
   ]
  },
  {
   "cell_type": "code",
   "execution_count": 4,
   "metadata": {
    "collapsed": false
   },
   "outputs": [
    {
     "name": "stdout",
     "output_type": "stream",
     "text": [
      "One label per row entry: True\n"
     ]
    }
   ],
   "source": [
    "fish_label_arr = fd.make_labels(fish_filenames, 'train/', '/img')\n",
    "fish_label_arr.shape\n",
    "print(\"One label per row entry: {}\".format(all(np.sum(fish_label_arr, 1) == 1) ))"
   ]
  },
  {
   "cell_type": "markdown",
   "metadata": {},
   "source": [
    "#### Shuffle and split the master set list into training and validation sets"
   ]
  },
  {
   "cell_type": "code",
   "execution_count": 5,
   "metadata": {
    "collapsed": false
   },
   "outputs": [
    {
     "name": "stdout",
     "output_type": "stream",
     "text": [
      "Validation set size: 200\n",
      "Training set size: 3577\n"
     ]
    }
   ],
   "source": [
    "valid_size = 200\n",
    "files_train, files_val, y_train, y_val = train_test_split(fish_filenames, fish_label_arr, test_size = valid_size)\n",
    "print(\"Validation set size: {}\".format(y_val.shape[0]))\n",
    "print(\"Training set size: {}\".format(y_train.shape[0]))"
   ]
  },
  {
   "cell_type": "markdown",
   "metadata": {},
   "source": [
    "## Graph and Session Runs"
   ]
  },
  {
   "cell_type": "markdown",
   "metadata": {},
   "source": [
    "#### Graph parameters"
   ]
  },
  {
   "cell_type": "code",
   "execution_count": 6,
   "metadata": {
    "collapsed": false
   },
   "outputs": [],
   "source": [
    "num_epochs = 30\n",
    "#Preprocessing\n",
    "std_y = 300\n",
    "std_x = 500\n",
    "\n",
    "# General\n",
    "num_channels = 3\n",
    "num_labels = 8\n",
    "batch_size = 25\n",
    "stddev = 0.2\n",
    "\n",
    "# convolution\n",
    "kernel_sizes = [3, 3, 3, 3, 3, 3]\n",
    "conv_depths = [64, 128, 256, 512, 256, 128] # NOTE : 64 currently not used with dilation2d\n",
    "conv_strides = [4, 1, 1, 1, 1, 1]\n",
    "\n",
    "pool_strides = [2, 2, 2, 2]\n",
    "\n",
    "final_depth = conv_depths[-1]\n",
    "\n",
    "#dropout\n",
    "kp = 0.75\n",
    "\n",
    "# fully connected\n",
    "fc1_depth = 256\n",
    "fc2_depth = 64\n",
    "\n",
    "#regularization\n",
    "beta = 1e-1 \n",
    "\n",
    "# Learning rate\n",
    "init_rate = 5e-4\n",
    "\n",
    "# Report rate\n",
    "validate_interval = 25\n"
   ]
  },
  {
   "cell_type": "markdown",
   "metadata": {},
   "source": [
    "#### Session parameters"
   ]
  },
  {
   "cell_type": "code",
   "execution_count": 7,
   "metadata": {
    "collapsed": true
   },
   "outputs": [],
   "source": [
    "version_ID = 'v1.3.3.1'\n",
    "logs_path = os.getcwd()+'/TB_logs/'+version_ID"
   ]
  },
  {
   "cell_type": "code",
   "execution_count": null,
   "metadata": {
    "collapsed": false
   },
   "outputs": [],
   "source": [
    "%run -i 'GRAPH.py'"
   ]
  },
  {
   "cell_type": "code",
   "execution_count": null,
   "metadata": {
    "collapsed": false
   },
   "outputs": [
    {
     "name": "stdout",
     "output_type": "stream",
     "text": [
      "Initialized!\n",
      "\n",
      "\n",
      "To view your tensorboard dashboard summary, run the following on the command line:\n",
      "tensorboard --logdir='/Users/ccthomps/Documents/Python Files/Kaggle Competitions/Nature Conservancy Fisheries/TB_logs/v1.3.3.1'\n",
      "\n",
      "Batch number: 1\n",
      "     Training_mean_cross_entropy: 45665.49609375\n",
      "     Valid_mean_cross_entropy: 17714.8359375\n"
     ]
    }
   ],
   "source": [
    "%run -i 'SESSION.py'"
   ]
  },
  {
   "cell_type": "code",
   "execution_count": null,
   "metadata": {
    "collapsed": true
   },
   "outputs": [],
   "source": []
  }
 ],
 "metadata": {
  "anaconda-cloud": {},
  "kernelspec": {
   "display_name": "Python [default]",
   "language": "python",
   "name": "python3"
  },
  "language_info": {
   "codemirror_mode": {
    "name": "ipython",
    "version": 3
   },
   "file_extension": ".py",
   "mimetype": "text/x-python",
   "name": "python",
   "nbconvert_exporter": "python",
   "pygments_lexer": "ipython3",
   "version": "3.5.2"
  }
 },
 "nbformat": 4,
 "nbformat_minor": 1
}
