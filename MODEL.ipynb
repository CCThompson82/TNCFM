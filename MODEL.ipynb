{
 "cells": [
  {
   "cell_type": "markdown",
   "metadata": {},
   "source": [
    "# Model for Nature Conservancy Fisheries Kaggle Competition"
   ]
  },
  {
   "cell_type": "markdown",
   "metadata": {},
   "source": [
    "#### Dependencies"
   ]
  },
  {
   "cell_type": "code",
   "execution_count": 1,
   "metadata": {
    "collapsed": false
   },
   "outputs": [],
   "source": [
    "import fish_data as fd\n",
    "import numpy as np\n",
    "import tensorflow as tf\n",
    "from sklearn.model_selection import train_test_split\n",
    "import matplotlib.pyplot as plt\n",
    "%matplotlib inline\n",
    "import os"
   ]
  },
  {
   "cell_type": "markdown",
   "metadata": {},
   "source": [
    "#### Helper functions"
   ]
  },
  {
   "cell_type": "code",
   "execution_count": 2,
   "metadata": {
    "collapsed": false
   },
   "outputs": [
    {
     "name": "stdout",
     "output_type": "stream",
     "text": [
      "Help on module fish_data:\n",
      "\n",
      "NAME\n",
      "    fish_data\n",
      "\n",
      "DESCRIPTION\n",
      "    fish_data module contains the helper functions for the model build of the\n",
      "    Nature Conservancy Fisheries Kaggle Competition.\n",
      "    \n",
      "    Dependencies:\n",
      "        * numpy as np\n",
      "        * os\n",
      "        * scipy.ndimage as ndimage\n",
      "        * scipy.misc as misc\n",
      "        * scipy.special as special\n",
      "        * matplotlib.pyplot as plt\n",
      "        * tensorflow as tf\n",
      "\n",
      "FUNCTIONS\n",
      "    count_nodes(std_y, std_x, pool_steps, final_depth)\n",
      "        Calculates the number of flattened nodes after a number of 'VALID' pool\n",
      "        steps of strides = [1,2,2,1]\n",
      "    \n",
      "    decode_image(image_read, size, num_channels=3, mutate=False, brightness_delta=None, contrast_limits=None, hue_delta=None, saturation_limits=None)\n",
      "        Converts a dequeued image read from filename to a single tensor array,\n",
      "        with modifications:\n",
      "            * resized to standard height and width supplied in size param\n",
      "            * normalized to mean near zero, min == -0.5, max ==  0.5\n",
      "            * distortions if mutate == True :\n",
      "                * random flip left right\n",
      "                * random flip up down\n",
      "                * # TODO : random crop and resize to standard size ???\n",
      "                * random brightness\n",
      "                * random contrast\n",
      "                * random hue\n",
      "                * random saturation\n",
      "        \n",
      "        providing distortion if mutate == True\n",
      "    \n",
      "    generate_balanced_epoch(min_each, shuffle=True)\n",
      "        Function to generate a list of filenames to be used for each training epoch\n",
      "        with a corresponding label array.  Most file names will be used  multiple  times\n",
      "        in order that each fish is drawn into a training batch an equivalent number of\n",
      "        times.\n",
      "    \n",
      "    generate_filenames_list()\n",
      "        Iterates through the 'data/train' folders of the working directory to\n",
      "        generate a list of filenames\n",
      "    \n",
      "    make_batch(filename_list, offset, batch_size, std_y, std_x, normalize=True, mutate=True)\n",
      "        Iterates through a filename list to load an RGB image of any pixel\n",
      "        dimensions, mutate the image using the `mutate_image` function, normalize\n",
      "        the pixel values and pixel dimensions using the `standardize` function, and\n",
      "        return an array for concatenation into a 4D array.  The function can be used\n",
      "        to assemble training batches or to bring the validation array into the\n",
      "        kernel environment.\n",
      "    \n",
      "    make_label(filename_list, offset, batch_size)\n",
      "        Returns the label associated with a training batch generation.  Fn also\n",
      "        navigates the ends of the epoch list.\n",
      "    \n",
      "    mutate_image(image)\n",
      "        Receives an image array and returns an image array with a random set of\n",
      "            distortions.\n",
      "        Distortions include:\n",
      "            * flip horizontally (p = 0.5)\n",
      "            * flip vertically (p = 0.5)\n",
      "            * slight distortion of coloring (random sigma for each channel - see\n",
      "                shift_colour fn in this module)\n",
      "            * random horizontal shift (image is cropped vertically between 1/15 to\n",
      "                1/20 the image. top or bottom is randomly chosen for chop.)\n",
      "            * random vertical shift (image is cropped horizontally between 1/15 to\n",
      "                1/20 of the image.  left or right is randomly chosen for chop.)\n",
      "    \n",
      "    shift_colour(image, channel, sigma)\n",
      "        Shifts the colour of an RGB image by sigma\n",
      "    \n",
      "    show_panel(image)\n",
      "    \n",
      "    standardize(image, std_y, std_x, normalize=True)\n",
      "        Normalizes and resizes an image array to a standard height, length, and\n",
      "        pixel range.\n",
      "\n",
      "FILE\n",
      "    /Users/ccthomps/Documents/Python Files/Kaggle Competitions/Nature Conservancy Fisheries/fish_data.py\n",
      "\n",
      "\n"
     ]
    }
   ],
   "source": [
    "help(fd)"
   ]
  },
  {
   "cell_type": "markdown",
   "metadata": {},
   "source": [
    "#### Generate a list of filenames"
   ]
  },
  {
   "cell_type": "code",
   "execution_count": 3,
   "metadata": {
    "collapsed": false
   },
   "outputs": [
    {
     "name": "stdout",
     "output_type": "stream",
     "text": [
      "There are 3777 filenames in the master set list\n"
     ]
    }
   ],
   "source": [
    "fish_filenames = fd.generate_filenames_list()\n",
    "print(\"There are {} filenames in the master set list\".format(len(fish_filenames)))"
   ]
  },
  {
   "cell_type": "code",
   "execution_count": 4,
   "metadata": {
    "collapsed": false
   },
   "outputs": [
    {
     "data": {
      "text/plain": [
       "array([[1, 0, 0, 0, 0, 0, 0, 0],\n",
       "       [1, 0, 0, 0, 0, 0, 0, 0],\n",
       "       [1, 0, 0, 0, 0, 0, 0, 0],\n",
       "       [1, 0, 0, 0, 0, 0, 0, 0],\n",
       "       [1, 0, 0, 0, 0, 0, 0, 0]])"
      ]
     },
     "execution_count": 4,
     "metadata": {},
     "output_type": "execute_result"
    }
   ],
   "source": [
    "fish_label_arr = fd.make_label(fish_filenames, 0, len(fish_filenames))\n",
    "fish_label_arr.shape\n",
    "fish_label_arr[0:5,:]"
   ]
  },
  {
   "cell_type": "code",
   "execution_count": 5,
   "metadata": {
    "collapsed": false
   },
   "outputs": [
    {
     "name": "stdout",
     "output_type": "stream",
     "text": [
      "[(3477, 8), (300, 8)]\n"
     ]
    }
   ],
   "source": [
    "valid_size = 300\n",
    "files_train, files_val, y_train, y_val = train_test_split(fish_filenames, fish_label_arr, test_size = valid_size)\n",
    "print([x.shape for x in [y_train, y_val]])"
   ]
  },
  {
   "cell_type": "markdown",
   "metadata": {},
   "source": [
    "#### Debugging Graph and session calls with input pipeline"
   ]
  },
  {
   "cell_type": "markdown",
   "metadata": {},
   "source": [
    "## Graph and Session Runs"
   ]
  },
  {
   "cell_type": "markdown",
   "metadata": {},
   "source": [
    "#### Graph parameters"
   ]
  },
  {
   "cell_type": "code",
   "execution_count": 6,
   "metadata": {
    "collapsed": false
   },
   "outputs": [],
   "source": [
    "#Preprocessing\n",
    "std_y = 300\n",
    "std_x = 500\n",
    "\n",
    "# General\n",
    "num_channels = 3\n",
    "num_labels = 8\n",
    "batch_size = 30\n",
    "stddev = 0.2\n",
    "\n",
    "# convolution\n",
    "kernel_sizes = [12, 3, 3, 3, 3, 3]\n",
    "conv_depths = [64, 128, 256, 512, 256, 128]\n",
    "final_depth = conv_depths[-1]\n",
    "\n",
    "\n",
    "#dropout\n",
    "kp = 0.75\n",
    "\n",
    "# fully connected\n",
    "fc1_depth = 256\n",
    "fc2_depth = 64\n",
    "\n",
    "#regularization\n",
    "beta = 1e-1 \n",
    "\n",
    "# Learning rate\n",
    "init_rate = 5e-3\n",
    "per_steps = 6000\n",
    "decay_rate = 0.75\n"
   ]
  },
  {
   "cell_type": "markdown",
   "metadata": {},
   "source": [
    "#### Session parameters"
   ]
  },
  {
   "cell_type": "code",
   "execution_count": 7,
   "metadata": {
    "collapsed": false
   },
   "outputs": [],
   "source": [
    "# epochs\n",
    "num_epochs = 5\n",
    "# path for tensorboard summary file to be written\n",
    "logs_path = os.getcwd()+'/TB_logs'\n",
    "valid_every = 25"
   ]
  },
  {
   "cell_type": "code",
   "execution_count": 8,
   "metadata": {
    "collapsed": false
   },
   "outputs": [],
   "source": [
    "%run -i 'GRAPH.py'"
   ]
  },
  {
   "cell_type": "code",
   "execution_count": 9,
   "metadata": {
    "collapsed": false
   },
   "outputs": [
    {
     "name": "stdout",
     "output_type": "stream",
     "text": [
      "Initialized!\n",
      "\n"
     ]
    },
    {
     "ename": "NameError",
     "evalue": "name 'train_img1' is not defined",
     "output_type": "error",
     "traceback": [
      "\u001b[0;31m---------------------------------------------------------------------------\u001b[0m",
      "\u001b[0;31mNameError\u001b[0m                                 Traceback (most recent call last)",
      "\u001b[0;32m/Users/ccthomps/Documents/Python Files/Kaggle Competitions/Nature Conservancy Fisheries/SESSION.py\u001b[0m in \u001b[0;36m<module>\u001b[0;34m()\u001b[0m\n\u001b[1;32m      9\u001b[0m \u001b[0;34m\u001b[0m\u001b[0m\n\u001b[1;32m     10\u001b[0m     \u001b[0;32mfor\u001b[0m \u001b[0mi\u001b[0m \u001b[0;32min\u001b[0m \u001b[0mrange\u001b[0m\u001b[0;34m(\u001b[0m\u001b[0;36m10\u001b[0m\u001b[0;34m)\u001b[0m \u001b[0;34m:\u001b[0m\u001b[0;34m\u001b[0m\u001b[0m\n\u001b[0;32m---> 11\u001b[0;31m         \u001b[0ma\u001b[0m\u001b[0;34m,\u001b[0m\u001b[0mb\u001b[0m\u001b[0;34m,\u001b[0m\u001b[0mc\u001b[0m\u001b[0;34m,\u001b[0m\u001b[0md\u001b[0m \u001b[0;34m=\u001b[0m \u001b[0msession\u001b[0m\u001b[0;34m.\u001b[0m\u001b[0mrun\u001b[0m\u001b[0;34m(\u001b[0m\u001b[0;34m[\u001b[0m\u001b[0mtrain_img1\u001b[0m\u001b[0;34m,\u001b[0m \u001b[0mtrain_label\u001b[0m\u001b[0;34m,\u001b[0m \u001b[0mval_img1\u001b[0m\u001b[0;34m,\u001b[0m \u001b[0mval_label\u001b[0m\u001b[0;34m]\u001b[0m\u001b[0;34m)\u001b[0m\u001b[0;34m\u001b[0m\u001b[0m\n\u001b[0m\u001b[1;32m     12\u001b[0m         \u001b[0mprint\u001b[0m\u001b[0;34m(\u001b[0m\u001b[0ma\u001b[0m\u001b[0;34m.\u001b[0m\u001b[0mshape\u001b[0m\u001b[0;34m,\u001b[0m \u001b[0mb\u001b[0m\u001b[0;34m,\u001b[0m \u001b[0mc\u001b[0m\u001b[0;34m.\u001b[0m\u001b[0mshape\u001b[0m\u001b[0;34m,\u001b[0m \u001b[0md\u001b[0m\u001b[0;34m)\u001b[0m\u001b[0;34m\u001b[0m\u001b[0m\n\u001b[1;32m     13\u001b[0m \u001b[0;34m\u001b[0m\u001b[0m\n",
      "\u001b[0;31mNameError\u001b[0m: name 'train_img1' is not defined"
     ]
    },
    {
     "name": "stdout",
     "output_type": "stream",
     "text": [
      "INFO:tensorflow:Error reported to Coordinator: <class 'tensorflow.python.framework.errors_impl.CancelledError'>, Enqueue operation was cancelled\n",
      "\t [[Node: Valid_input/input_producer/input_producer/fraction_of_32_full/fraction_of_32_full_EnqueueMany = QueueEnqueueMany[Tcomponents=[DT_INT32], _class=[\"loc:@Valid_input/input_producer/input_producer/fraction_of_32_full/fraction_of_32_full\"], timeout_ms=-1, _device=\"/job:localhost/replica:0/task:0/cpu:0\"](Valid_input/input_producer/input_producer/fraction_of_32_full/fraction_of_32_full, Valid_input/input_producer/input_producer/range)]]\n",
      "\n",
      "Caused by op 'Valid_input/input_producer/input_producer/fraction_of_32_full/fraction_of_32_full_EnqueueMany', defined at:\n",
      "  File \"/Users/ccthomps/anaconda/lib/python3.5/runpy.py\", line 184, in _run_module_as_main\n",
      "    \"__main__\", mod_spec)\n",
      "  File \"/Users/ccthomps/anaconda/lib/python3.5/runpy.py\", line 85, in _run_code\n",
      "    exec(code, run_globals)\n",
      "  File \"/Users/ccthomps/anaconda/lib/python3.5/site-packages/ipykernel/__main__.py\", line 3, in <module>\n",
      "    app.launch_new_instance()\n",
      "  File \"/Users/ccthomps/anaconda/lib/python3.5/site-packages/traitlets/config/application.py\", line 653, in launch_instance\n",
      "    app.start()\n",
      "  File \"/Users/ccthomps/anaconda/lib/python3.5/site-packages/ipykernel/kernelapp.py\", line 474, in start\n",
      "    ioloop.IOLoop.instance().start()\n",
      "  File \"/Users/ccthomps/anaconda/lib/python3.5/site-packages/zmq/eventloop/ioloop.py\", line 162, in start\n",
      "    super(ZMQIOLoop, self).start()\n",
      "  File \"/Users/ccthomps/anaconda/lib/python3.5/site-packages/tornado/ioloop.py\", line 887, in start\n",
      "    handler_func(fd_obj, events)\n",
      "  File \"/Users/ccthomps/anaconda/lib/python3.5/site-packages/tornado/stack_context.py\", line 275, in null_wrapper\n",
      "    return fn(*args, **kwargs)\n",
      "  File \"/Users/ccthomps/anaconda/lib/python3.5/site-packages/zmq/eventloop/zmqstream.py\", line 440, in _handle_events\n",
      "    self._handle_recv()\n",
      "  File \"/Users/ccthomps/anaconda/lib/python3.5/site-packages/zmq/eventloop/zmqstream.py\", line 472, in _handle_recv\n",
      "    self._run_callback(callback, msg)\n",
      "  File \"/Users/ccthomps/anaconda/lib/python3.5/site-packages/zmq/eventloop/zmqstream.py\", line 414, in _run_callback\n",
      "    callback(*args, **kwargs)\n",
      "  File \"/Users/ccthomps/anaconda/lib/python3.5/site-packages/tornado/stack_context.py\", line 275, in null_wrapper\n",
      "    return fn(*args, **kwargs)\n",
      "  File \"/Users/ccthomps/anaconda/lib/python3.5/site-packages/ipykernel/kernelbase.py\", line 276, in dispatcher\n",
      "    return self.dispatch_shell(stream, msg)\n",
      "  File \"/Users/ccthomps/anaconda/lib/python3.5/site-packages/ipykernel/kernelbase.py\", line 228, in dispatch_shell\n",
      "    handler(stream, idents, msg)\n",
      "  File \"/Users/ccthomps/anaconda/lib/python3.5/site-packages/ipykernel/kernelbase.py\", line 390, in execute_request\n",
      "    user_expressions, allow_stdin)\n",
      "  File \"/Users/ccthomps/anaconda/lib/python3.5/site-packages/ipykernel/ipkernel.py\", line 196, in do_execute\n",
      "    res = shell.run_cell(code, store_history=store_history, silent=silent)\n",
      "  File \"/Users/ccthomps/anaconda/lib/python3.5/site-packages/ipykernel/zmqshell.py\", line 501, in run_cell\n",
      "    return super(ZMQInteractiveShell, self).run_cell(*args, **kwargs)\n",
      "  File \"/Users/ccthomps/anaconda/lib/python3.5/site-packages/IPython/core/interactiveshell.py\", line 2717, in run_cell\n",
      "    interactivity=interactivity, compiler=compiler, result=result)\n",
      "  File \"/Users/ccthomps/anaconda/lib/python3.5/site-packages/IPython/core/interactiveshell.py\", line 2827, in run_ast_nodes\n",
      "    if self.run_code(code, result):\n",
      "  File \"/Users/ccthomps/anaconda/lib/python3.5/site-packages/IPython/core/interactiveshell.py\", line 2881, in run_code\n",
      "    exec(code_obj, self.user_global_ns, self.user_ns)\n",
      "  File \"<ipython-input-8-2c40248c668b>\", line 1, in <module>\n",
      "    get_ipython().magic(\"run -i 'GRAPH.py'\")\n",
      "  File \"/Users/ccthomps/anaconda/lib/python3.5/site-packages/IPython/core/interactiveshell.py\", line 2158, in magic\n",
      "    return self.run_line_magic(magic_name, magic_arg_s)\n",
      "  File \"/Users/ccthomps/anaconda/lib/python3.5/site-packages/IPython/core/interactiveshell.py\", line 2079, in run_line_magic\n",
      "    result = fn(*args,**kwargs)\n",
      "  File \"<decorator-gen-57>\", line 2, in run\n",
      "  File \"/Users/ccthomps/anaconda/lib/python3.5/site-packages/IPython/core/magic.py\", line 188, in <lambda>\n",
      "    call = lambda f, *a, **k: f(*a, **k)\n",
      "  File \"/Users/ccthomps/anaconda/lib/python3.5/site-packages/IPython/core/magics/execution.py\", line 742, in run\n",
      "    run()\n",
      "  File \"/Users/ccthomps/anaconda/lib/python3.5/site-packages/IPython/core/magics/execution.py\", line 728, in run\n",
      "    exit_ignore=exit_ignore)\n",
      "  File \"/Users/ccthomps/anaconda/lib/python3.5/site-packages/IPython/core/pylabtools.py\", line 168, in mpl_execfile\n",
      "    safe_execfile(fname,*where,**kw)\n",
      "  File \"/Users/ccthomps/anaconda/lib/python3.5/site-packages/IPython/core/interactiveshell.py\", line 2481, in safe_execfile\n",
      "    self.compile if kw['shell_futures'] else None)\n",
      "  File \"/Users/ccthomps/anaconda/lib/python3.5/site-packages/IPython/utils/py3compat.py\", line 186, in execfile\n",
      "    exec(compiler(f.read(), fname, 'exec'), glob, loc)\n",
      "  File \"/Users/ccthomps/Documents/Python Files/Kaggle Competitions/Nature Conservancy Fisheries/GRAPH.py\", line 24, in <module>\n",
      "    val_q = tf.train.slice_input_producer([files_val, y_val], shuffle = False)\n",
      "  File \"/Users/ccthomps/anaconda/lib/python3.5/site-packages/tensorflow/python/training/input.py\", line 305, in slice_input_producer\n",
      "    shared_name=shared_name)\n",
      "  File \"/Users/ccthomps/anaconda/lib/python3.5/site-packages/tensorflow/python/training/input.py\", line 262, in range_input_producer\n",
      "    shared_name, name, \"fraction_of_%d_full\" % capacity)\n",
      "  File \"/Users/ccthomps/anaconda/lib/python3.5/site-packages/tensorflow/python/training/input.py\", line 162, in input_producer\n",
      "    enq = q.enqueue_many([input_tensor])\n",
      "  File \"/Users/ccthomps/anaconda/lib/python3.5/site-packages/tensorflow/python/ops/data_flow_ops.py\", line 371, in enqueue_many\n",
      "    self._queue_ref, vals, name=scope)\n",
      "  File \"/Users/ccthomps/anaconda/lib/python3.5/site-packages/tensorflow/python/ops/gen_data_flow_ops.py\", line 1212, in _queue_enqueue_many\n",
      "    name=name)\n",
      "  File \"/Users/ccthomps/anaconda/lib/python3.5/site-packages/tensorflow/python/framework/op_def_library.py\", line 759, in apply_op\n",
      "    op_def=op_def)\n",
      "  File \"/Users/ccthomps/anaconda/lib/python3.5/site-packages/tensorflow/python/framework/ops.py\", line 2240, in create_op\n",
      "    original_op=self._default_original_op, op_def=op_def)\n",
      "  File \"/Users/ccthomps/anaconda/lib/python3.5/site-packages/tensorflow/python/framework/ops.py\", line 1128, in __init__\n",
      "    self._traceback = _extract_stack()\n",
      "\n",
      "CancelledError (see above for traceback): Enqueue operation was cancelled\n",
      "\t [[Node: Valid_input/input_producer/input_producer/fraction_of_32_full/fraction_of_32_full_EnqueueMany = QueueEnqueueMany[Tcomponents=[DT_INT32], _class=[\"loc:@Valid_input/input_producer/input_producer/fraction_of_32_full/fraction_of_32_full\"], timeout_ms=-1, _device=\"/job:localhost/replica:0/task:0/cpu:0\"](Valid_input/input_producer/input_producer/fraction_of_32_full/fraction_of_32_full, Valid_input/input_producer/input_producer/range)]]\n",
      "\n"
     ]
    }
   ],
   "source": [
    "%run -i 'SESSION.py'"
   ]
  },
  {
   "cell_type": "code",
   "execution_count": null,
   "metadata": {
    "collapsed": false
   },
   "outputs": [],
   "source": []
  },
  {
   "cell_type": "code",
   "execution_count": null,
   "metadata": {
    "collapsed": true
   },
   "outputs": [],
   "source": []
  }
 ],
 "metadata": {
  "anaconda-cloud": {},
  "kernelspec": {
   "display_name": "Python [default]",
   "language": "python",
   "name": "python3"
  },
  "language_info": {
   "codemirror_mode": {
    "name": "ipython",
    "version": 3
   },
   "file_extension": ".py",
   "mimetype": "text/x-python",
   "name": "python",
   "nbconvert_exporter": "python",
   "pygments_lexer": "ipython3",
   "version": "3.5.2"
  }
 },
 "nbformat": 4,
 "nbformat_minor": 1
}
