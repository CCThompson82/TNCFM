{
 "cells": [
  {
   "cell_type": "markdown",
   "metadata": {},
   "source": [
    "# Model for Nature Conservancy Fisheries Kaggle Competition"
   ]
  },
  {
   "cell_type": "markdown",
   "metadata": {},
   "source": [
    "#### Dependencies"
   ]
  },
  {
   "cell_type": "code",
   "execution_count": 1,
   "metadata": {
    "collapsed": false
   },
   "outputs": [],
   "source": [
    "import fish_data as fd\n",
    "import numpy as np\n",
    "import tensorflow as tf\n",
    "from sklearn.model_selection import train_test_split\n",
    "import matplotlib.pyplot as plt\n",
    "%matplotlib inline\n",
    "import os\n",
    "import pandas as pd\n",
    "import json"
   ]
  },
  {
   "cell_type": "markdown",
   "metadata": {},
   "source": [
    "#### Helper functions"
   ]
  },
  {
   "cell_type": "code",
   "execution_count": 2,
   "metadata": {
    "collapsed": false
   },
   "outputs": [
    {
     "name": "stdout",
     "output_type": "stream",
     "text": [
      "Help on module fish_data:\n",
      "\n",
      "NAME\n",
      "    fish_data\n",
      "\n",
      "DESCRIPTION\n",
      "    fish_data module contains the helper functions for the model build of the\n",
      "    Nature Conservancy Fisheries Kaggle Competition.\n",
      "    \n",
      "    Dependencies:\n",
      "        * numpy as np\n",
      "        * os\n",
      "        * scipy.ndimage as ndimage\n",
      "        * scipy.misc as misc\n",
      "        * scipy.special as special\n",
      "        * matplotlib.pyplot as plt\n",
      "        * tensorflow as tf\n",
      "\n",
      "FUNCTIONS\n",
      "    count_nodes(x, y, kernel, stride, conv_depth, pad='SAME')\n",
      "        Calculates the number of total nodes present in the next layer of a\n",
      "        convolution OR max_pooling event.\n",
      "    \n",
      "    decode_image(image_name, size, num_channels=3, mean_channel_vals=[155.0, 155.0, 155.0], mutate=False, crop='random', crop_size=224)\n",
      "        Converts a dequeued image read from filename to a single tensor array,\n",
      "        with modifications:\n",
      "            * smallest dimension resized to standard height and width supplied in size param\n",
      "            * each channel centered to mean near zero.  Deviation is not normalized.\n",
      "            * if mutate == True :\n",
      "                * random flip left right\n",
      "                * random flip up down\n",
      "                * TODO : random colour adjustment\n",
      "                * random crop from standard size to crop size (e.g. 256x256 to 224x224)\n",
      "    \n",
      "    generate_balanced_filenames_epoch(min_each, shuffle=True)\n",
      "        Function to generate a list of filenames to be used for each training epoch\n",
      "        with a corresponding label array.  Most file names will be used  multiple  times\n",
      "        in order that each fish is drawn into a training batch an equivalent number of\n",
      "        times.\n",
      "    \n",
      "    generate_filenames_list(subdirectory='data/train/', subfolders=True)\n",
      "        Iterates through the default 'data/train' folders of the working directory to\n",
      "        generate a list of filenames\n",
      "    \n",
      "    make_labels(filename_list, directory_string='train/', end_string='/img')\n",
      "        Receives a list of filenames and returns an ordered one-hot label\n",
      "        array by finding the fish species ID within the filename string.\n",
      "    \n",
      "    show_panel(image)\n",
      "        Convenience function for showing an inline montage of the colour and merged channels\n",
      "\n",
      "FILE\n",
      "    /Users/ccthomps/Documents/Python Files/Kaggle Competitions/Nature Conservancy Fisheries/fish_data.py\n",
      "\n",
      "\n"
     ]
    }
   ],
   "source": [
    "help(fd)"
   ]
  },
  {
   "cell_type": "markdown",
   "metadata": {},
   "source": [
    "#### Generate a list of filenames"
   ]
  },
  {
   "cell_type": "code",
   "execution_count": 3,
   "metadata": {
    "collapsed": false
   },
   "outputs": [
    {
     "name": "stdout",
     "output_type": "stream",
     "text": [
      "There are 3777 filenames in the master set list\n",
      "There are 1000 filenames in the test set list\n"
     ]
    }
   ],
   "source": [
    "fish_filenames = fd.generate_filenames_list('data/train/', subfolders = True)\n",
    "print(\"There are {} filenames in the master set list\".format(len(fish_filenames)))\n",
    "test_filenames = fd.generate_filenames_list('data/test_stg1/', subfolders = False)\n",
    "print(\"There are {} filenames in the test set list\".format(len(test_filenames)))"
   ]
  },
  {
   "cell_type": "markdown",
   "metadata": {},
   "source": [
    "#### Retrieve Dictionary of image dimensions"
   ]
  },
  {
   "cell_type": "code",
   "execution_count": 4,
   "metadata": {
    "collapsed": false
   },
   "outputs": [
    {
     "name": "stdout",
     "output_type": "stream",
     "text": [
      "Training/Valid set filename dimensions downloaded correctly: True\n",
      "Training/Valid set filename dimensions downloaded correctly: True\n"
     ]
    }
   ],
   "source": [
    "with open('dimensions_dict.json') as f:\n",
    "    dim_dict = json.load(f)\n",
    "    \n",
    "print(\"Training/Valid set filename dimensions downloaded correctly: {}\".format(\n",
    "        dim_dict.get(fish_filenames[0]) == [720, 1280, 3]))\n",
    "print(\"Training/Valid set filename dimensions downloaded correctly: {}\".format(\n",
    "        dim_dict.get(test_filenames[0]) == [720, 1280, 3]))"
   ]
  },
  {
   "cell_type": "markdown",
   "metadata": {},
   "source": [
    "#### Generate the labels for the master set list"
   ]
  },
  {
   "cell_type": "code",
   "execution_count": 5,
   "metadata": {
    "collapsed": false
   },
   "outputs": [
    {
     "name": "stdout",
     "output_type": "stream",
     "text": [
      "One label per row entry: True\n"
     ]
    }
   ],
   "source": [
    "fish_label_arr = fd.make_labels(fish_filenames, 'train/', '/img')\n",
    "fish_label_arr.shape\n",
    "print(\"One label per row entry: {}\".format(all(np.sum(fish_label_arr, 1) == 1) ))"
   ]
  },
  {
   "cell_type": "markdown",
   "metadata": {},
   "source": [
    "#### Shuffle and split the master set list into training and validation sets"
   ]
  },
  {
   "cell_type": "code",
   "execution_count": 6,
   "metadata": {
    "collapsed": false
   },
   "outputs": [
    {
     "name": "stdout",
     "output_type": "stream",
     "text": [
      "Validation set size: 300\n",
      "Training set size: 3477\n"
     ]
    }
   ],
   "source": [
    "valid_size = 300\n",
    "files_train, files_val, y_train, y_val = train_test_split(fish_filenames, fish_label_arr, test_size = valid_size)\n",
    "print(\"Validation set size: {}\".format(y_val.shape[0]))\n",
    "print(\"Training set size: {}\".format(y_train.shape[0]))"
   ]
  },
  {
   "cell_type": "markdown",
   "metadata": {},
   "source": [
    "#### Generate a files_train list that represents each class of fish equally"
   ]
  },
  {
   "cell_type": "code",
   "execution_count": 7,
   "metadata": {
    "collapsed": false
   },
   "outputs": [
    {
     "data": {
      "text/plain": [
       "'Need to refactor generate_balanced_filenames to work from this list, not from scratch.'"
      ]
     },
     "execution_count": 7,
     "metadata": {},
     "output_type": "execute_result"
    }
   ],
   "source": [
    "\"\"\"Need to refactor generate_balanced_filenames to work from this list, not from scratch.\"\"\""
   ]
  },
  {
   "cell_type": "code",
   "execution_count": 8,
   "metadata": {
    "collapsed": false
   },
   "outputs": [],
   "source": [
    "train_dims_list = []\n",
    "for f in files_train :\n",
    "    train_dims_list.append(dim_dict.get(f))"
   ]
  },
  {
   "cell_type": "markdown",
   "metadata": {},
   "source": [
    "## Graph and Session Runs"
   ]
  },
  {
   "cell_type": "markdown",
   "metadata": {},
   "source": [
    "#### Graph parameters"
   ]
  },
  {
   "cell_type": "code",
   "execution_count": 9,
   "metadata": {
    "collapsed": false
   },
   "outputs": [
    {
     "name": "stdout",
     "output_type": "stream",
     "text": [
      "Dimensions for each entry: 224x224x3 = 150528\n",
      "Dimensions after first convolution step (with max pool): 27x27x96 = 69984\n",
      "Dimensions after second convolution step (with max pool): 13x13x256 = 43264\n",
      "Dimensions after third convolution step: 13x13x384 = 64896\n",
      "Dimensions after fourth convolution step: 13x13x384 = 64896\n",
      "Dimensions after fifth convolution step (with max pool): 6x6x256 = 9216\n",
      "Dimensions after first connected layer: 4096\n",
      "Dimensions after second connected layer: 2048\n",
      "Final dimensions for classification: 8\n"
     ]
    }
   ],
   "source": [
    "%run -i 'PARAMETERS.py'"
   ]
  },
  {
   "cell_type": "markdown",
   "metadata": {},
   "source": [
    "#### Session parameters"
   ]
  },
  {
   "cell_type": "code",
   "execution_count": 10,
   "metadata": {
    "collapsed": true
   },
   "outputs": [],
   "source": [
    "version_ID = 'v2.0.0.1'"
   ]
  },
  {
   "cell_type": "code",
   "execution_count": 11,
   "metadata": {
    "collapsed": false
   },
   "outputs": [],
   "source": [
    "%run -i 'GRAPH.py'"
   ]
  },
  {
   "cell_type": "code",
   "execution_count": 12,
   "metadata": {
    "collapsed": false
   },
   "outputs": [
    {
     "name": "stdout",
     "output_type": "stream",
     "text": [
      "Initialized!\n",
      "\n",
      "\n",
      "To view your tensorboard dashboard summary, run the following on the command line:\n",
      "tensorboard --logdir='/Users/ccthomps/Documents/Python Files/Kaggle Competitions/Nature Conservancy Fisheries/TB_logs/v2.0.0.1'\n",
      "\n",
      "Batch number: 1\n",
      "     Training_mean_cross_entropy: 2.266711473464966\n",
      "     Valid_mean_cross_entropy: 332.0978088378906\n",
      "[[-0.24847341 -0.01016879  0.06271344 -0.0140434  -0.14479929  0.22384274\n",
      "   0.14268164 -0.06700601]\n",
      " [-0.25121129 -0.01102956  0.06253181 -0.01350348 -0.14533739  0.22327495\n",
      "   0.14119858 -0.06763093]]\n",
      "Batch number: 5\n",
      "     Training_mean_cross_entropy: 2818615.25\n",
      "     Valid_mean_cross_entropy: 216378512.0\n",
      "[[ 677.42736816 -272.96310425 -290.59313965 -276.8352356   375.97860718\n",
      "  -255.9957428  -154.14704895  193.9108429 ]\n",
      " [ 677.08197021 -272.82354736 -290.44482422 -276.69363403  375.78421021\n",
      "  -255.86460876 -154.06730652  193.81283569]]\n",
      "Batch number: 9\n",
      "     Training_mean_cross_entropy: 84776665088.0\n",
      "     Valid_mean_cross_entropy: 14698386432.0\n",
      "[[  1.32102328e+08   1.79150940e+07   6.13589200e+06   9.03247062e+05\n",
      "   -8.27594320e+07   7.42548750e+06   2.78062820e+07  -1.09528968e+08]\n",
      " [  1.32102328e+08   1.79150940e+07   6.13589200e+06   9.03247062e+05\n",
      "   -8.27594320e+07   7.42548750e+06   2.78062820e+07  -1.09528968e+08]]\n",
      "Batch number: 11\n",
      "     Training_mean_cross_entropy: 5176467968.0\n",
      "     Valid_mean_cross_entropy: 1423747584.0\n",
      "[[  3.91313075e+09   1.34363390e+07   7.06673350e+06   8.81892656e+04\n",
      "    5.93792512e+08   3.63435000e+07   2.30680032e+08  -4.79454003e+09]\n",
      " [  3.91313075e+09   1.34363390e+07   7.06673350e+06   8.81892656e+04\n",
      "    5.93792512e+08   3.63435000e+07   2.30680032e+08  -4.79454003e+09]]\n",
      "Batch number: 13\n",
      "     Training_mean_cross_entropy: 328227.375\n",
      "     Valid_mean_cross_entropy: 61142248.0\n",
      "[[  7.13435520e+08   2.03868920e+07   1.40681720e+07   2.56723672e+04\n",
      "    2.39575456e+08   2.42882280e+07   1.57849080e+07  -1.02756525e+09]\n",
      " [  7.13435520e+08   2.03868920e+07   1.40681720e+07   2.56723672e+04\n",
      "    2.39575456e+08   2.42882280e+07   1.57849080e+07  -1.02756525e+09]]\n",
      "Batch number: 17\n",
      "     Training_mean_cross_entropy: 284880.78125\n",
      "     Valid_mean_cross_entropy: 210442.421875\n",
      "[[-473844.6875      165286.9375      108577.875        19923.046875\n",
      "     -649.72668457  112279.0625       55419.09375      13002.75585938]\n",
      " [-473844.6875      165286.9375      108577.875        19923.046875\n",
      "     -649.72668457  112279.0625       55419.09375      13002.75585938]]\n",
      "Batch number: 21\n",
      "     Training_mean_cross_entropy: 8017.14990234375\n",
      "     Valid_mean_cross_entropy: 34962.859375\n",
      "[[ 258946.96875     -14593.67773438 -132366.21875      42395.9921875\n",
      "   -86452.8359375   -13418.48144531   36129.9921875   -90647.9453125 ]\n",
      " [ 258946.96875     -14593.67773438 -132366.21875      42395.9921875\n",
      "   -86452.8359375   -13418.48144531   36129.9921875   -90647.9453125 ]]\n",
      "Batch number: 25\n",
      "     Training_mean_cross_entropy: 588.0736694335938\n",
      "     Valid_mean_cross_entropy: 2833.098388671875\n",
      "[[ 5461.06396484   787.87402344 -1296.39575195  1514.06518555\n",
      "   -553.82244873  2798.15576172  1267.56201172 -9983.54296875]\n",
      " [ 5461.06396484   787.87402344 -1296.39575195  1514.06518555\n",
      "   -553.82244873  2798.15576172  1267.56201172 -9983.54296875]]\n",
      "Batch number: 29\n",
      "     Training_mean_cross_entropy: 2.946711778640747\n",
      "     Valid_mean_cross_entropy: 89.88964080810547\n",
      "[[ 503.20495605  381.61749268   76.22490692  131.90214539 -492.95019531\n",
      "    36.72154999  159.52894592 -796.7645874 ]\n",
      " [ 503.20495605  381.61749268   76.22490692  131.90214539 -492.95019531\n",
      "    36.72154999  159.52894592 -796.7645874 ]]\n",
      "Batch number: 31\n",
      "     Training_mean_cross_entropy: 2.421157121658325\n",
      "     Valid_mean_cross_entropy: 2.684580087661743\n",
      "[[ 1.52886534  1.24538195 -0.28966308 -0.01215652 -0.90353417  0.84724897\n",
      "   1.33338022 -3.74952221]\n",
      " [ 1.52886534  1.24538195 -0.28966308 -0.01215652 -0.90353417  0.84724897\n",
      "   1.33338022 -3.74952221]]\n",
      "Batch number: 33\n",
      "     Training_mean_cross_entropy: 209.1550750732422\n",
      "     Valid_mean_cross_entropy: 79.59507751464844\n",
      "[[ 2.32474971  0.94783843 -0.27625141 -0.18292204 -0.87981725  0.77009565\n",
      "   0.83332384 -3.53701615]\n",
      " [ 2.32474971  0.94783843 -0.27625141 -0.18292204 -0.87981725  0.77009565\n",
      "   0.83332384 -3.53701615]]\n",
      "Batch number: 37\n",
      "     Training_mean_cross_entropy: 1.6099114418029785\n",
      "     Valid_mean_cross_entropy: 2.493914842605591\n",
      "[[ 2.80773044  0.63491666 -0.29374933 -0.33847883 -0.73542368  0.73256534\n",
      "   0.38393515 -3.19149494]\n",
      " [ 2.80773044  0.63491666 -0.29374933 -0.33847883 -0.73542368  0.73256534\n",
      "   0.38393515 -3.19149494]]\n",
      "Batch number: 41\n",
      "     Training_mean_cross_entropy: 2.564913749694824\n",
      "     Valid_mean_cross_entropy: 2.141495704650879\n",
      "[[ 2.71978569  0.13759902 -0.31342807 -0.57010877 -0.12067203  0.63253736\n",
      "  -0.33079559 -2.15491724]\n",
      " [ 2.71978569  0.13759902 -0.31342807 -0.57010877 -0.12067203  0.63253736\n",
      "  -0.33079559 -2.15491724]]\n",
      "Batch number: 45\n",
      "     Training_mean_cross_entropy: 1.5341088771820068\n",
      "     Valid_mean_cross_entropy: 1.819440484046936\n",
      "[[ 2.00948024 -0.17055261 -0.2818135  -0.75242758  0.43630439  0.47825947\n",
      "  -0.75123835 -0.96801192]\n",
      " [ 2.00948024 -0.17055261 -0.2818135  -0.75242758  0.43630439  0.47825947\n",
      "  -0.75123835 -0.96801192]]\n",
      "Batch number: 49\n",
      "     Training_mean_cross_entropy: 1.5465275049209595\n",
      "     Valid_mean_cross_entropy: 1.7390254735946655\n",
      "[[ 1.17870545 -0.38391319 -0.344625   -0.95811176  0.84994245  0.11658501\n",
      "  -0.93099904  0.47241619]\n",
      " [ 1.17870545 -0.38391319 -0.344625   -0.95811176  0.84994245  0.11658501\n",
      "  -0.93099904  0.47241619]]\n",
      "Batch number: 51\n",
      "     Training_mean_cross_entropy: 1.7046177387237549\n",
      "     Valid_mean_cross_entropy: 1.7597615718841553\n",
      "[[ 1.20453405 -0.56659532 -0.50743389 -1.16513729  0.79814285 -0.18745172\n",
      "  -1.03540087  1.45934188]\n",
      " [ 1.20453405 -0.56659532 -0.50743389 -1.16513729  0.79814285 -0.18745172\n",
      "  -1.03540087  1.45934188]]\n",
      "Batch number: 53\n",
      "     Training_mean_cross_entropy: 2.010246515274048\n",
      "     Valid_mean_cross_entropy: 1.7388468980789185\n",
      "[[ 1.58581161 -0.59712601 -0.6214081  -1.29534328  0.55392933 -0.21722506\n",
      "  -1.06276238  1.65412366]\n",
      " [ 1.58581161 -0.59712601 -0.6214081  -1.29534328  0.55392933 -0.21722506\n",
      "  -1.06276238  1.65412366]]\n",
      "Batch number: 57\n",
      "     Training_mean_cross_entropy: 1.453179955482483\n",
      "     Valid_mean_cross_entropy: 1.7202152013778687\n",
      "[[ 1.8402034  -0.58448052 -0.67760593 -1.37009537  0.44957677 -0.17800175\n",
      "  -1.00980997  1.53021312]\n",
      " [ 1.8402034  -0.58448052 -0.67760593 -1.37009537  0.44957677 -0.17800175\n",
      "  -1.00980997  1.53021312]]\n",
      "Batch number: 61\n",
      "     Training_mean_cross_entropy: 1.613979458808899\n",
      "     Valid_mean_cross_entropy: 1.7403173446655273\n",
      "[[ 2.21417832 -0.51092076 -0.74333483 -1.43588448  0.40961647 -0.15255532\n",
      "  -0.93338478  1.1522851 ]\n",
      " [ 2.21417832 -0.51092076 -0.74333483 -1.43588448  0.40961647 -0.15255532\n",
      "  -0.93338478  1.1522851 ]]\n",
      "Batch number: 65\n",
      "     Training_mean_cross_entropy: 1.342626929283142\n",
      "     Valid_mean_cross_entropy: 1.719993233680725\n",
      "[[ 2.27188587 -0.42395875 -0.82120919 -1.51022744  0.55026615 -0.12955761\n",
      "  -0.79808885  0.86088967]\n",
      " [ 2.27188587 -0.42395875 -0.82120919 -1.51022744  0.55026615 -0.12955761\n",
      "  -0.79808885  0.86088967]]\n",
      "Batch number: 69\n",
      "     Training_mean_cross_entropy: 1.5620872974395752\n",
      "     Valid_mean_cross_entropy: 1.6981070041656494\n",
      "[[ 1.99303877 -0.34541965 -0.87878329 -1.52154672  0.76643252 -0.11418787\n",
      "  -0.65684986  0.75731617]\n",
      " [ 1.99303877 -0.34541965 -0.87878329 -1.52154672  0.76643252 -0.11418787\n",
      "  -0.65684986  0.75731617]]\n",
      "Batch number: 71\n",
      "     Training_mean_cross_entropy: 1.5003259181976318\n",
      "     Valid_mean_cross_entropy: 1.6902189254760742\n",
      "[[ 1.71114767 -0.37116882 -0.91273981 -1.53392541  0.86915714 -0.09863812\n",
      "  -0.55390686  0.89007443]\n",
      " [ 1.71114767 -0.37116882 -0.91273981 -1.53392541  0.86915714 -0.09863812\n",
      "  -0.55390686  0.89007443]]\n",
      "Batch number: 73\n",
      "     Training_mean_cross_entropy: 1.430933952331543\n",
      "     Valid_mean_cross_entropy: 1.6923333406448364\n",
      "[[ 1.63990641 -0.41940311 -0.92144293 -1.51713741  0.84943551 -0.10909381\n",
      "  -0.50399929  0.98173493]\n",
      " [ 1.63990641 -0.41940311 -0.92144293 -1.51713741  0.84943551 -0.10909381\n",
      "  -0.50399929  0.98173493]]\n",
      "Batch number: 77\n",
      "     Training_mean_cross_entropy: 1.6727306842803955\n",
      "     Valid_mean_cross_entropy: 1.6957064867019653\n",
      "[[ 1.58527637 -0.48119411 -0.91738451 -1.49060678  0.7874257  -0.11114572\n",
      "  -0.4395951   1.0672245 ]\n",
      " [ 1.58527637 -0.48119411 -0.91738451 -1.49060678  0.7874257  -0.11114572\n",
      "  -0.4395951   1.0672245 ]]\n",
      "Batch number: 81\n",
      "     Training_mean_cross_entropy: 1.8040111064910889\n",
      "     Valid_mean_cross_entropy: 1.6939170360565186\n",
      "[[ 1.62851238 -0.56253278 -0.95402157 -1.4543314   0.63290185 -0.12783238\n",
      "  -0.33002639  1.16733098]\n",
      " [ 1.62851238 -0.56253278 -0.95402157 -1.4543314   0.63290185 -0.12783238\n",
      "  -0.33002639  1.16733098]]\n",
      "Batch number: 85\n",
      "     Training_mean_cross_entropy: 1.6984022855758667\n",
      "     Valid_mean_cross_entropy: 1.6978641748428345\n",
      "[[ 1.76176059 -0.56690109 -0.9799211  -1.44768131  0.52591121 -0.12531038\n",
      "  -0.26472312  1.09686577]\n",
      " [ 1.76176059 -0.56690109 -0.9799211  -1.44768131  0.52591121 -0.12531038\n",
      "  -0.26472312  1.09686577]]\n",
      "Batch number: 89\n",
      "     Training_mean_cross_entropy: 1.8969110250473022\n",
      "     Valid_mean_cross_entropy: 1.7034611701965332\n",
      "[[ 1.85453308 -0.56734622 -1.00502384 -1.46189153  0.43364349 -0.11749809\n",
      "  -0.21688405  1.08046806]\n",
      " [ 1.85453308 -0.56734622 -1.00502384 -1.46189153  0.43364349 -0.11749809\n",
      "  -0.21688405  1.08046806]]\n",
      "Batch number: 91\n",
      "     Training_mean_cross_entropy: 2.1607725620269775\n",
      "     Valid_mean_cross_entropy: 1.7058459520339966\n",
      "[[ 1.91160619 -0.57752496 -1.01498437 -1.48548448  0.36009011 -0.0441921\n",
      "  -0.19222717  1.0427177 ]\n",
      " [ 1.91160619 -0.57752496 -1.01498437 -1.48548448  0.36009011 -0.0441921\n",
      "  -0.19222717  1.0427177 ]]\n",
      "Batch number: 93\n",
      "     Training_mean_cross_entropy: 1.4354057312011719\n",
      "     Valid_mean_cross_entropy: 1.7029531002044678\n",
      "[[ 1.87572241 -0.56417412 -1.00249612 -1.4974581   0.34126228  0.02677384\n",
      "  -0.20020299  1.02057374]\n",
      " [ 1.87572241 -0.56417412 -1.00249612 -1.4974581   0.34126228  0.02677384\n",
      "  -0.20020299  1.02057374]]\n",
      "Batch number: 97\n",
      "     Training_mean_cross_entropy: 1.4667283296585083\n",
      "     Valid_mean_cross_entropy: 1.7010730504989624\n",
      "[[ 1.8221364  -0.53810883 -0.97012889 -1.51731968  0.29929385  0.11978358\n",
      "  -0.24541278  1.02975714]\n",
      " [ 1.8221364  -0.53810883 -0.97012889 -1.51731968  0.29929385  0.11978358\n",
      "  -0.24541278  1.02975714]]\n",
      "Batch number: 101\n",
      "     Training_mean_cross_entropy: 1.5208754539489746\n",
      "     Valid_mean_cross_entropy: 1.7013827562332153\n",
      "[[ 1.8176657  -0.5012027  -0.94898993 -1.52580786  0.28224614  0.14689967\n",
      "  -0.29854974  1.02773964]\n",
      " [ 1.8176657  -0.5012027  -0.94898993 -1.52580786  0.28224614  0.14689967\n",
      "  -0.29854974  1.02773964]]\n",
      "Batch number: 111\n",
      "     Training_mean_cross_entropy: 1.6098618507385254\n",
      "     Valid_mean_cross_entropy: 1.7046042680740356\n",
      "[[ 1.90427291 -0.47892848 -0.92953002 -1.54078364  0.24360737  0.15167914\n",
      "  -0.36694548  1.0166291 ]\n",
      " [ 1.90427291 -0.47892848 -0.92953002 -1.54078364  0.24360737  0.15167914\n",
      "  -0.36694548  1.0166291 ]]\n",
      "Batch number: 121\n",
      "     Training_mean_cross_entropy: 1.304152250289917\n",
      "     Valid_mean_cross_entropy: 1.6954134702682495\n",
      "[[ 1.95406842 -0.4637042  -0.92044008 -1.54792738  0.26208207  0.14794129\n",
      "  -0.42629525  0.99427611]\n",
      " [ 1.95406842 -0.4637042  -0.92044008 -1.54792738  0.26208207  0.14794129\n",
      "  -0.42629525  0.99427611]]\n",
      "Batch number: 131\n",
      "     Training_mean_cross_entropy: 1.8910349607467651\n",
      "     Valid_mean_cross_entropy: 1.6851394176483154\n",
      "[[ 1.83504653 -0.37346447 -0.8622365  -1.5440141   0.46041507  0.12755688\n",
      "  -0.55036718  0.90706491]\n",
      " [ 1.83504653 -0.37346447 -0.8622365  -1.5440141   0.46041507  0.12755688\n",
      "  -0.55036718  0.90706491]]\n",
      "Batch number: 141\n",
      "     Training_mean_cross_entropy: 1.3769423961639404\n",
      "     Valid_mean_cross_entropy: 1.6839288473129272\n",
      "[[ 1.7141912  -0.35519546 -0.84818691 -1.4928335   0.53434145  0.14343898\n",
      "  -0.61697465  0.92121994]\n",
      " [ 1.7141912  -0.35519546 -0.84818691 -1.4928335   0.53434145  0.14343898\n",
      "  -0.61697465  0.92121994]]\n",
      "Batch number: 151\n",
      "     Training_mean_cross_entropy: 1.459259033203125\n",
      "     Valid_mean_cross_entropy: 1.6887272596359253\n",
      "[[ 1.76753354 -0.33265069 -0.8541075  -1.45872068  0.44558817  0.14672887\n",
      "  -0.67447203  0.96010101]\n",
      " [ 1.76753354 -0.33265069 -0.8541075  -1.45872068  0.44558817  0.14672887\n",
      "  -0.67447203  0.96010101]]\n",
      "Batch number: 161\n",
      "     Training_mean_cross_entropy: 1.523482084274292\n",
      "     Valid_mean_cross_entropy: 1.6918507814407349\n",
      "[[ 1.8500216  -0.36694506 -0.89516479 -1.43349314  0.43357056  0.15360439\n",
      "  -0.69781983  0.95622653]\n",
      " [ 1.8500216  -0.36694506 -0.89516479 -1.43349314  0.43357056  0.15360439\n",
      "  -0.69781983  0.95622653]]\n",
      "Batch number: 171\n",
      "     Training_mean_cross_entropy: 1.7473151683807373\n",
      "     Valid_mean_cross_entropy: 1.6923164129257202\n",
      "[[ 1.90469742 -0.38411385 -0.94113624 -1.41409707  0.4941822   0.09459411\n",
      "  -0.68754983  0.93342346]\n",
      " [ 1.90469742 -0.38411385 -0.94113624 -1.41409707  0.4941822   0.09459411\n",
      "  -0.68754983  0.93342346]]\n",
      "Batch number: 181\n",
      "     Training_mean_cross_entropy: 1.9409898519515991\n",
      "     Valid_mean_cross_entropy: 1.6895049810409546\n",
      "[[ 1.87369668 -0.35014379 -0.97672445 -1.41470039  0.50108409  0.09473185\n",
      "  -0.68196303  0.95401889]\n",
      " [ 1.87369668 -0.35014379 -0.97672445 -1.41470039  0.50108409  0.09473185\n",
      "  -0.68196303  0.95401889]]\n",
      "Batch number: 191\n",
      "     Training_mean_cross_entropy: 1.8325444459915161\n",
      "     Valid_mean_cross_entropy: 1.6886467933654785\n",
      "[[ 1.78919566 -0.31374773 -1.00223517 -1.40199101  0.48799691  0.09009638\n",
      "  -0.62285709  0.97354215]\n",
      " [ 1.78919566 -0.31374773 -1.00223517 -1.40199101  0.48799691  0.09009638\n",
      "  -0.62285709  0.97354215]]\n",
      "Batch number: 201\n",
      "     Training_mean_cross_entropy: 1.6456092596054077\n",
      "     Valid_mean_cross_entropy: 1.6892105340957642\n",
      "[[ 1.77197659 -0.30481109 -1.02660573 -1.38251746  0.44410294  0.08317137\n",
      "  -0.57773197  0.99241543]\n",
      " [ 1.77197659 -0.30481109 -1.02660573 -1.38251746  0.44410294  0.08317137\n",
      "  -0.57773197  0.99241543]]\n",
      "Batch number: 211\n",
      "     Training_mean_cross_entropy: 1.5346815586090088\n",
      "     Valid_mean_cross_entropy: 1.6917660236358643\n",
      "[[ 1.8200407  -0.29917091 -1.03485429 -1.3879981   0.43916768  0.06124778\n",
      "  -0.54773664  0.94930434]\n",
      " [ 1.8200407  -0.29917091 -1.03485429 -1.3879981   0.43916768  0.06124778\n",
      "  -0.54773664  0.94930434]]\n",
      "Batch number: 221\n",
      "     Training_mean_cross_entropy: 1.825554370880127\n",
      "     Valid_mean_cross_entropy: 1.6931052207946777\n",
      "[[ 1.87527335 -0.30778489 -1.02824593 -1.4010154   0.44033676  0.03400128\n",
      "  -0.53351915  0.92095423]\n",
      " [ 1.87527335 -0.30778489 -1.02824593 -1.4010154   0.44033676  0.03400128\n",
      "  -0.53351915  0.92095423]]\n",
      "Batch number: 231\n",
      "     Training_mean_cross_entropy: 1.7101030349731445\n",
      "     Valid_mean_cross_entropy: 1.6910607814788818\n",
      "[[ 1.88379669 -0.30563933 -0.99955213 -1.41386545  0.43312874  0.02024204\n",
      "  -0.5302875   0.91217685]\n",
      " [ 1.88379669 -0.30563933 -0.99955213 -1.41386545  0.43312874  0.02024204\n",
      "  -0.5302875   0.91217685]]\n",
      "Batch number: 241\n",
      "     Training_mean_cross_entropy: 1.6094356775283813\n",
      "     Valid_mean_cross_entropy: 1.688386082649231\n",
      "[[ 1.84330332 -0.30748945 -0.98495275 -1.41898954  0.45383     0.01058571\n",
      "  -0.52415216  0.92786497]\n",
      " [ 1.84330332 -0.30748945 -0.98495275 -1.41898954  0.45383     0.01058571\n",
      "  -0.52415216  0.92786497]]\n",
      "Batch number: 251\n",
      "     Training_mean_cross_entropy: 1.6165748834609985\n",
      "     Valid_mean_cross_entropy: 1.6871163845062256\n",
      "[[ 1.80635226 -0.31456289 -0.9667775  -1.42066896  0.46233884  0.01542305\n",
      "  -0.51687634  0.93477166]\n",
      " [ 1.80635226 -0.31456289 -0.9667775  -1.42066896  0.46233884  0.01542305\n",
      "  -0.51687634  0.93477166]]\n",
      "Batch number: 261\n",
      "     Training_mean_cross_entropy: 1.7215816974639893\n",
      "     Valid_mean_cross_entropy: 1.6858530044555664\n",
      "[[ 1.77798653 -0.31486461 -0.9641431  -1.41666889  0.46747807  0.02369807\n",
      "  -0.5139966   0.94051087]\n",
      " [ 1.77798653 -0.31486461 -0.9641431  -1.41666889  0.46747807  0.02369807\n",
      "  -0.5139966   0.94051087]]\n",
      "Batch number: 271\n",
      "     Training_mean_cross_entropy: 1.225281834602356\n",
      "     Valid_mean_cross_entropy: 1.6853337287902832\n",
      "[[ 1.75616002 -0.31076735 -0.95584834 -1.41762817  0.47525194  0.02182209\n",
      "  -0.51374382  0.94475371]\n",
      " [ 1.75616002 -0.31076735 -0.95584834 -1.41762817  0.47525194  0.02182209\n",
      "  -0.51374382  0.94475371]]\n",
      "Batch number: 281\n",
      "     Training_mean_cross_entropy: 1.5683876276016235\n",
      "     Valid_mean_cross_entropy: 1.685113787651062\n",
      "[[ 1.74745655 -0.29991698 -0.9490214  -1.4197588   0.46990281  0.01776766\n",
      "  -0.52185977  0.95542997]\n",
      " [ 1.74745655 -0.29991698 -0.9490214  -1.4197588   0.46990281  0.01776766\n",
      "  -0.52185977  0.95542997]]\n",
      "Batch number: 291\n",
      "     Training_mean_cross_entropy: 1.4112210273742676\n",
      "     Valid_mean_cross_entropy: 1.6853505373001099\n",
      "[[ 1.75496888 -0.30591917 -0.95390975 -1.41923881  0.47472078  0.02319886\n",
      "  -0.52431357  0.9504931 ]\n",
      " [ 1.75496888 -0.30591917 -0.95390975 -1.41923881  0.47472078  0.02319886\n",
      "  -0.52431357  0.9504931 ]]\n",
      "Batch number: 301\n",
      "     Training_mean_cross_entropy: 1.6446269750595093\n",
      "     Valid_mean_cross_entropy: 1.6855247020721436\n",
      "[[ 1.75912273 -0.31699181 -0.9522242  -1.41863906  0.4796524   0.02103121\n",
      "  -0.52308345  0.95113236]\n",
      " [ 1.75912273 -0.31699181 -0.9522242  -1.41863906  0.4796524   0.02103121\n",
      "  -0.52308345  0.95113236]]\n",
      "Batch number: 311\n",
      "     Training_mean_cross_entropy: 1.5102511644363403\n",
      "     Valid_mean_cross_entropy: 1.6862397193908691\n",
      "[[ 1.76881492 -0.31700188 -0.95275724 -1.41906488  0.47364843  0.01915696\n",
      "  -0.51684844  0.94405246]\n",
      " [ 1.76881492 -0.31700188 -0.95275724 -1.41906488  0.47364843  0.01915696\n",
      "  -0.51684844  0.94405246]]\n",
      "Batch number: 321\n",
      "     Training_mean_cross_entropy: 1.6148754358291626\n",
      "     Valid_mean_cross_entropy: 1.6868922710418701\n",
      "[[ 1.78911507 -0.32028991 -0.95500708 -1.41852558  0.46859032  0.01657823\n",
      "  -0.51229501  0.93183458]\n",
      " [ 1.78911507 -0.32028991 -0.95500708 -1.41852558  0.46859032  0.01657823\n",
      "  -0.51229501  0.93183458]]\n",
      "Batch number: 331\n",
      "     Training_mean_cross_entropy: 1.773815631866455\n",
      "     Valid_mean_cross_entropy: 1.6870476007461548\n",
      "[[ 1.79647541 -0.31942073 -0.95767343 -1.41551638  0.46575919  0.01439317\n",
      "  -0.50958759  0.92557132]\n",
      " [ 1.79647541 -0.31942073 -0.95767343 -1.41551638  0.46575919  0.01439317\n",
      "  -0.50958759  0.92557132]]\n",
      "Batch number: 341\n",
      "     Training_mean_cross_entropy: 1.5762373208999634\n",
      "     Valid_mean_cross_entropy: 1.6869325637817383\n",
      "[[ 1.79406643 -0.32142508 -0.9571836  -1.41385567  0.46491158  0.01156983\n",
      "  -0.50816667  0.93008405]\n",
      " [ 1.79406643 -0.32142508 -0.9571836  -1.41385567  0.46491158  0.01156983\n",
      "  -0.50816667  0.93008405]]\n",
      "Batch number: 351\n",
      "     Training_mean_cross_entropy: 1.6159532070159912\n",
      "     Valid_mean_cross_entropy: 1.686846137046814\n",
      "[[ 1.79196811 -0.32136512 -0.95676887 -1.41525972  0.46661609  0.01052665\n",
      "  -0.50838131  0.93266523]\n",
      " [ 1.79196811 -0.32136512 -0.95676887 -1.41525972  0.46661609  0.01052665\n",
      "  -0.50838131  0.93266523]]\n",
      "Batch number: 361\n",
      "     Training_mean_cross_entropy: 1.6397576332092285\n",
      "     Valid_mean_cross_entropy: 1.6867862939834595\n",
      "[[ 1.79024196 -0.32046604 -0.95731527 -1.41625845  0.46664593  0.00969755\n",
      "  -0.50788254  0.93533808]\n",
      " [ 1.79024196 -0.32046604 -0.95731527 -1.41625845  0.46664593  0.00969755\n",
      "  -0.50788254  0.93533808]]\n",
      "Batch number: 371\n",
      "     Training_mean_cross_entropy: 1.4984854459762573\n",
      "     Valid_mean_cross_entropy: 1.6867790222167969\n",
      "[[ 1.79004169 -0.32014698 -0.9575454  -1.41722512  0.46680006  0.01168108\n",
      "  -0.50758046  0.93397641]\n",
      " [ 1.79004169 -0.32014698 -0.9575454  -1.41722512  0.46680006  0.01168108\n",
      "  -0.50758046  0.93397641]]\n",
      "Batch number: 381\n",
      "     Training_mean_cross_entropy: 1.6398359537124634\n",
      "     Valid_mean_cross_entropy: 1.6867433786392212\n",
      "[[ 1.78929961 -0.32175305 -0.95698053 -1.4174664   0.46696711  0.01382676\n",
      "  -0.50729686  0.93340427]\n",
      " [ 1.78929961 -0.32175305 -0.95698053 -1.4174664   0.46696711  0.01382676\n",
      "  -0.50729686  0.93340427]]\n",
      "Batch number: 391\n",
      "     Training_mean_cross_entropy: 1.467535376548767\n",
      "     Valid_mean_cross_entropy: 1.6867221593856812\n",
      "[[ 1.78893363 -0.3225913  -0.95575613 -1.4161247   0.46789497  0.01347797\n",
      "  -0.506809    0.93097538]\n",
      " [ 1.78893363 -0.3225913  -0.95575613 -1.4161247   0.46789497  0.01347797\n",
      "  -0.506809    0.93097538]]\n",
      "Batch number: 401\n",
      "     Training_mean_cross_entropy: 1.4485937356948853\n",
      "     Valid_mean_cross_entropy: 1.6867951154708862\n",
      "[[ 1.78911257 -0.32399577 -0.95439517 -1.41492724  0.46645501  0.0143334\n",
      "  -0.50660175  0.93001956]\n",
      " [ 1.78911257 -0.32399577 -0.95439517 -1.41492724  0.46645501  0.0143334\n",
      "  -0.50660175  0.93001956]]\n",
      "Batch number: 411\n",
      "     Training_mean_cross_entropy: 1.6969668865203857\n",
      "     Valid_mean_cross_entropy: 1.6868480443954468\n",
      "[[ 1.79008913 -0.32470286 -0.95431507 -1.414644    0.46511588  0.01643406\n",
      "  -0.50663078  0.92865419]\n",
      " [ 1.79008913 -0.32470286 -0.95431507 -1.414644    0.46511588  0.01643406\n",
      "  -0.50663078  0.92865419]]\n",
      "Batch number: 421\n",
      "     Training_mean_cross_entropy: 1.2401922941207886\n",
      "     Valid_mean_cross_entropy: 1.6868892908096313\n",
      "[[ 1.79094684 -0.32505217 -0.95498222 -1.41450047  0.46593818  0.01613048\n",
      "  -0.50713241  0.92865241]\n",
      " [ 1.79094684 -0.32505217 -0.95498222 -1.41450047  0.46593818  0.01613048\n",
      "  -0.50713241  0.92865241]]\n",
      "Batch number: 431\n",
      "     Training_mean_cross_entropy: 1.7062188386917114\n",
      "     Valid_mean_cross_entropy: 1.6868939399719238\n",
      "[[ 1.79141378 -0.32536024 -0.95545346 -1.41459239  0.46611696  0.01640414\n",
      "  -0.50682116  0.92829257]\n",
      " [ 1.79141378 -0.32536024 -0.95545346 -1.41459239  0.46611696  0.01640414\n",
      "  -0.50682116  0.92829257]]\n",
      "Batch number: 441\n",
      "     Training_mean_cross_entropy: 1.5799847841262817\n",
      "     Valid_mean_cross_entropy: 1.686898112297058\n",
      "[[ 1.7915324  -0.32567635 -0.9556182  -1.41477084  0.46657795  0.01627064\n",
      "  -0.50667018  0.92835444]\n",
      " [ 1.7915324  -0.32567635 -0.9556182  -1.41477084  0.46657795  0.01627064\n",
      "  -0.50667018  0.92835444]]\n",
      "Batch number: 451\n",
      "     Training_mean_cross_entropy: 1.6806720495224\n",
      "     Valid_mean_cross_entropy: 1.686895489692688\n",
      "[[ 1.79139841 -0.32572109 -0.9559207  -1.41482067  0.46684986  0.01625355\n",
      "  -0.50658935  0.92854995]\n",
      " [ 1.79139841 -0.32572109 -0.9559207  -1.41482067  0.46684986  0.01625355\n",
      "  -0.50658935  0.92854995]]\n",
      "Batch number: 461\n",
      "     Training_mean_cross_entropy: 1.7766785621643066\n",
      "     Valid_mean_cross_entropy: 1.6868712902069092\n",
      "[[ 1.79079735 -0.32565588 -0.95612371 -1.41499197  0.46662685  0.01595774\n",
      "  -0.5062356   0.92962509]\n",
      " [ 1.79079735 -0.32565588 -0.95612371 -1.41499197  0.46662685  0.01595774\n",
      "  -0.5062356   0.92962509]]\n",
      "Batch number: 471\n",
      "     Training_mean_cross_entropy: 1.363593339920044\n",
      "     Valid_mean_cross_entropy: 1.6868164539337158\n",
      "[[ 1.78974533 -0.32565829 -0.95623565 -1.41516316  0.46700865  0.01617406\n",
      "  -0.50616866  0.93029773]\n",
      " [ 1.78974533 -0.32565829 -0.95623565 -1.41516316  0.46700865  0.01617406\n",
      "  -0.50616866  0.93029773]]\n",
      "Batch number: 481\n",
      "     Training_mean_cross_entropy: 1.5215210914611816\n",
      "     Valid_mean_cross_entropy: 1.6867974996566772\n",
      "[[ 1.78905869 -0.32566187 -0.95623952 -1.41525602  0.46758398  0.01656404\n",
      "  -0.50627208  0.93022299]\n",
      " [ 1.78905869 -0.32566187 -0.95623952 -1.41525602  0.46758398  0.01656404\n",
      "  -0.50627208  0.93022299]]\n",
      "Batch number: 491\n",
      "     Training_mean_cross_entropy: 1.2066010236740112\n",
      "     Valid_mean_cross_entropy: 1.6867932081222534\n",
      "[[ 1.78876758 -0.32554856 -0.95623016 -1.41536582  0.46761554  0.01669253\n",
      "  -0.50635415  0.9304235 ]\n",
      " [ 1.78876758 -0.32554856 -0.95623016 -1.41536582  0.46761554  0.01669253\n",
      "  -0.50635415  0.9304235 ]]\n",
      "Batch number: 501\n",
      "     Training_mean_cross_entropy: 1.6214778423309326\n",
      "     Valid_mean_cross_entropy: 1.6868122816085815\n",
      "[[ 1.78908718 -0.32549357 -0.95606124 -1.4155724   0.46757263  0.01655056\n",
      "  -0.50641751  0.93033475]\n",
      " [ 1.78908718 -0.32549357 -0.95606124 -1.4155724   0.46757263  0.01655056\n",
      "  -0.50641751  0.93033475]]\n",
      "Batch number: 511\n",
      "     Training_mean_cross_entropy: 1.5199044942855835\n",
      "     Valid_mean_cross_entropy: 1.6868358850479126\n",
      "[[ 1.78967488 -0.32560241 -0.95597398 -1.41570187  0.46738014  0.01621285\n",
      "  -0.50652283  0.93053371]\n",
      " [ 1.78967488 -0.32560241 -0.95597398 -1.41570187  0.46738014  0.01621285\n",
      "  -0.50652283  0.93053371]]\n",
      "Batch number: 521\n",
      "     Training_mean_cross_entropy: 1.5617797374725342\n",
      "     Valid_mean_cross_entropy: 1.6868551969528198\n",
      "[[ 1.79025972 -0.32570472 -0.9559176  -1.41574872  0.46708849  0.01607838\n",
      "  -0.50653881  0.93048382]\n",
      " [ 1.79025972 -0.32570472 -0.9559176  -1.41574872  0.46708849  0.01607838\n",
      "  -0.50653881  0.93048382]]\n",
      "Batch number: 531\n",
      "     Training_mean_cross_entropy: 2.012667179107666\n",
      "     Valid_mean_cross_entropy: 1.6868643760681152\n",
      "[[ 1.79051638 -0.32583952 -0.95583391 -1.415681    0.46692678  0.01600757\n",
      "  -0.50654906  0.93045342]\n",
      " [ 1.79051638 -0.32583952 -0.95583391 -1.415681    0.46692678  0.01600757\n",
      "  -0.50654906  0.93045342]]\n",
      "Batch number: 541\n",
      "     Training_mean_cross_entropy: 1.8014189004898071\n",
      "     Valid_mean_cross_entropy: 1.6868691444396973\n",
      "[[ 1.7906723  -0.32585406 -0.95588773 -1.41569316  0.46692693  0.01595501\n",
      "  -0.50662327  0.93050432]\n",
      " [ 1.7906723  -0.32585406 -0.95588773 -1.41569316  0.46692693  0.01595501\n",
      "  -0.50662327  0.93050432]]\n",
      "Batch number: 551\n",
      "     Training_mean_cross_entropy: 1.3761203289031982\n",
      "     Valid_mean_cross_entropy: 1.6868683099746704\n",
      "[[ 1.79066348 -0.32587481 -0.95594072 -1.41574585  0.46689391  0.01592038\n",
      "  -0.50656646  0.93065053]\n",
      " [ 1.79066348 -0.32587481 -0.95594072 -1.41574585  0.46689391  0.01592038\n",
      "  -0.50656646  0.93065053]]\n",
      "Batch number: 561\n",
      "     Training_mean_cross_entropy: 1.6094467639923096\n",
      "     Valid_mean_cross_entropy: 1.68686044216156\n",
      "[[ 1.79051554 -0.32591873 -0.95596045 -1.41578782  0.46691829  0.01587413\n",
      "  -0.50652856  0.93088824]\n",
      " [ 1.79051554 -0.32591873 -0.95596045 -1.41578782  0.46691829  0.01587413\n",
      "  -0.50652856  0.93088824]]\n"
     ]
    },
    {
     "ename": "KeyboardInterrupt",
     "evalue": "",
     "output_type": "error",
     "traceback": [
      "\u001b[0;31m---------------------------------------------------------------------------\u001b[0m",
      "\u001b[0;31mKeyboardInterrupt\u001b[0m                         Traceback (most recent call last)",
      "\u001b[0;32m/Users/ccthomps/Documents/Python Files/Kaggle Competitions/Nature Conservancy Fisheries/SESSION.py\u001b[0m in \u001b[0;36m<module>\u001b[0;34m()\u001b[0m\n\u001b[1;32m     15\u001b[0m     \u001b[0mbatch_num\u001b[0m \u001b[0;34m=\u001b[0m \u001b[0;36m0\u001b[0m\u001b[0;34m\u001b[0m\u001b[0m\n\u001b[1;32m     16\u001b[0m     \u001b[0;32mwhile\u001b[0m  \u001b[0mbatch_num\u001b[0m \u001b[0;34m<\u001b[0m \u001b[0;34m(\u001b[0m\u001b[0;34m(\u001b[0m\u001b[0mlen\u001b[0m\u001b[0;34m(\u001b[0m\u001b[0mfiles_train\u001b[0m\u001b[0;34m)\u001b[0m \u001b[0;34m//\u001b[0m \u001b[0mbatch_size\u001b[0m\u001b[0;34m)\u001b[0m \u001b[0;34m*\u001b[0m \u001b[0mnum_epochs\u001b[0m\u001b[0;34m)\u001b[0m \u001b[0;34m:\u001b[0m\u001b[0;34m\u001b[0m\u001b[0m\n\u001b[0;32m---> 17\u001b[0;31m         \u001b[0mc\u001b[0m\u001b[0;34m,\u001b[0m \u001b[0m_\u001b[0m \u001b[0;34m=\u001b[0m \u001b[0msession\u001b[0m\u001b[0;34m.\u001b[0m\u001b[0mrun\u001b[0m\u001b[0;34m(\u001b[0m\u001b[0;34m[\u001b[0m\u001b[0mtrain_cross_entropy\u001b[0m\u001b[0;34m,\u001b[0m \u001b[0mtraining_op\u001b[0m\u001b[0;34m]\u001b[0m\u001b[0;34m)\u001b[0m\u001b[0;34m\u001b[0m\u001b[0m\n\u001b[0m\u001b[1;32m     18\u001b[0m         \u001b[0;32mif\u001b[0m \u001b[0;34m(\u001b[0m\u001b[0mbatch_num\u001b[0m \u001b[0;34m<\u001b[0m \u001b[0;36m100\u001b[0m \u001b[0;32mand\u001b[0m \u001b[0;34m(\u001b[0m\u001b[0;34m(\u001b[0m\u001b[0mbatch_num\u001b[0m \u001b[0;34m%\u001b[0m \u001b[0;36m4\u001b[0m\u001b[0;34m)\u001b[0m \u001b[0;34m==\u001b[0m \u001b[0;36m0\u001b[0m\u001b[0;34m)\u001b[0m\u001b[0;34m)\u001b[0m \u001b[0;32mor\u001b[0m \u001b[0;34m(\u001b[0m\u001b[0;34m(\u001b[0m\u001b[0mbatch_num\u001b[0m \u001b[0;34m%\u001b[0m \u001b[0mvalidate_interval\u001b[0m\u001b[0;34m)\u001b[0m \u001b[0;34m==\u001b[0m \u001b[0;36m0\u001b[0m\u001b[0;34m)\u001b[0m \u001b[0;34m:\u001b[0m  \u001b[0;31m# run validation and summary writer every 4 batches in first 100, then decrease rate to the validate interval to preserve run time.\u001b[0m\u001b[0;34m\u001b[0m\u001b[0m\n\u001b[1;32m     19\u001b[0m             \u001b[0msummary\u001b[0m\u001b[0;34m,\u001b[0m \u001b[0mvce\u001b[0m\u001b[0;34m,\u001b[0m \u001b[0mvl\u001b[0m\u001b[0;34m,\u001b[0m \u001b[0mW\u001b[0m \u001b[0;34m=\u001b[0m \u001b[0msession\u001b[0m\u001b[0;34m.\u001b[0m\u001b[0mrun\u001b[0m\u001b[0;34m(\u001b[0m\u001b[0;34m[\u001b[0m\u001b[0msummaries\u001b[0m\u001b[0;34m,\u001b[0m \u001b[0mvalidation_cross_entropy\u001b[0m\u001b[0;34m,\u001b[0m \u001b[0mvalidation_logits\u001b[0m\u001b[0;34m,\u001b[0m \u001b[0mW_conv1\u001b[0m\u001b[0;34m]\u001b[0m\u001b[0;34m)\u001b[0m\u001b[0;34m\u001b[0m\u001b[0m\n",
      "\u001b[0;32m/Users/ccthomps/anaconda/lib/python3.5/site-packages/tensorflow/python/client/session.py\u001b[0m in \u001b[0;36mrun\u001b[0;34m(self, fetches, feed_dict, options, run_metadata)\u001b[0m\n\u001b[1;32m    764\u001b[0m     \u001b[0;32mtry\u001b[0m\u001b[0;34m:\u001b[0m\u001b[0;34m\u001b[0m\u001b[0m\n\u001b[1;32m    765\u001b[0m       result = self._run(None, fetches, feed_dict, options_ptr,\n\u001b[0;32m--> 766\u001b[0;31m                          run_metadata_ptr)\n\u001b[0m\u001b[1;32m    767\u001b[0m       \u001b[0;32mif\u001b[0m \u001b[0mrun_metadata\u001b[0m\u001b[0;34m:\u001b[0m\u001b[0;34m\u001b[0m\u001b[0m\n\u001b[1;32m    768\u001b[0m         \u001b[0mproto_data\u001b[0m \u001b[0;34m=\u001b[0m \u001b[0mtf_session\u001b[0m\u001b[0;34m.\u001b[0m\u001b[0mTF_GetBuffer\u001b[0m\u001b[0;34m(\u001b[0m\u001b[0mrun_metadata_ptr\u001b[0m\u001b[0;34m)\u001b[0m\u001b[0;34m\u001b[0m\u001b[0m\n",
      "\u001b[0;32m/Users/ccthomps/anaconda/lib/python3.5/site-packages/tensorflow/python/client/session.py\u001b[0m in \u001b[0;36m_run\u001b[0;34m(self, handle, fetches, feed_dict, options, run_metadata)\u001b[0m\n\u001b[1;32m    962\u001b[0m     \u001b[0;32mif\u001b[0m \u001b[0mfinal_fetches\u001b[0m \u001b[0;32mor\u001b[0m \u001b[0mfinal_targets\u001b[0m\u001b[0;34m:\u001b[0m\u001b[0;34m\u001b[0m\u001b[0m\n\u001b[1;32m    963\u001b[0m       results = self._do_run(handle, final_targets, final_fetches,\n\u001b[0;32m--> 964\u001b[0;31m                              feed_dict_string, options, run_metadata)\n\u001b[0m\u001b[1;32m    965\u001b[0m     \u001b[0;32melse\u001b[0m\u001b[0;34m:\u001b[0m\u001b[0;34m\u001b[0m\u001b[0m\n\u001b[1;32m    966\u001b[0m       \u001b[0mresults\u001b[0m \u001b[0;34m=\u001b[0m \u001b[0;34m[\u001b[0m\u001b[0;34m]\u001b[0m\u001b[0;34m\u001b[0m\u001b[0m\n",
      "\u001b[0;32m/Users/ccthomps/anaconda/lib/python3.5/site-packages/tensorflow/python/client/session.py\u001b[0m in \u001b[0;36m_do_run\u001b[0;34m(self, handle, target_list, fetch_list, feed_dict, options, run_metadata)\u001b[0m\n\u001b[1;32m   1012\u001b[0m     \u001b[0;32mif\u001b[0m \u001b[0mhandle\u001b[0m \u001b[0;32mis\u001b[0m \u001b[0;32mNone\u001b[0m\u001b[0;34m:\u001b[0m\u001b[0;34m\u001b[0m\u001b[0m\n\u001b[1;32m   1013\u001b[0m       return self._do_call(_run_fn, self._session, feed_dict, fetch_list,\n\u001b[0;32m-> 1014\u001b[0;31m                            target_list, options, run_metadata)\n\u001b[0m\u001b[1;32m   1015\u001b[0m     \u001b[0;32melse\u001b[0m\u001b[0;34m:\u001b[0m\u001b[0;34m\u001b[0m\u001b[0m\n\u001b[1;32m   1016\u001b[0m       return self._do_call(_prun_fn, self._session, handle, feed_dict,\n",
      "\u001b[0;32m/Users/ccthomps/anaconda/lib/python3.5/site-packages/tensorflow/python/client/session.py\u001b[0m in \u001b[0;36m_do_call\u001b[0;34m(self, fn, *args)\u001b[0m\n\u001b[1;32m   1019\u001b[0m   \u001b[0;32mdef\u001b[0m \u001b[0m_do_call\u001b[0m\u001b[0;34m(\u001b[0m\u001b[0mself\u001b[0m\u001b[0;34m,\u001b[0m \u001b[0mfn\u001b[0m\u001b[0;34m,\u001b[0m \u001b[0;34m*\u001b[0m\u001b[0margs\u001b[0m\u001b[0;34m)\u001b[0m\u001b[0;34m:\u001b[0m\u001b[0;34m\u001b[0m\u001b[0m\n\u001b[1;32m   1020\u001b[0m     \u001b[0;32mtry\u001b[0m\u001b[0;34m:\u001b[0m\u001b[0;34m\u001b[0m\u001b[0m\n\u001b[0;32m-> 1021\u001b[0;31m       \u001b[0;32mreturn\u001b[0m \u001b[0mfn\u001b[0m\u001b[0;34m(\u001b[0m\u001b[0;34m*\u001b[0m\u001b[0margs\u001b[0m\u001b[0;34m)\u001b[0m\u001b[0;34m\u001b[0m\u001b[0m\n\u001b[0m\u001b[1;32m   1022\u001b[0m     \u001b[0;32mexcept\u001b[0m \u001b[0merrors\u001b[0m\u001b[0;34m.\u001b[0m\u001b[0mOpError\u001b[0m \u001b[0;32mas\u001b[0m \u001b[0me\u001b[0m\u001b[0;34m:\u001b[0m\u001b[0;34m\u001b[0m\u001b[0m\n\u001b[1;32m   1023\u001b[0m       \u001b[0mmessage\u001b[0m \u001b[0;34m=\u001b[0m \u001b[0mcompat\u001b[0m\u001b[0;34m.\u001b[0m\u001b[0mas_text\u001b[0m\u001b[0;34m(\u001b[0m\u001b[0me\u001b[0m\u001b[0;34m.\u001b[0m\u001b[0mmessage\u001b[0m\u001b[0;34m)\u001b[0m\u001b[0;34m\u001b[0m\u001b[0m\n",
      "\u001b[0;32m/Users/ccthomps/anaconda/lib/python3.5/site-packages/tensorflow/python/client/session.py\u001b[0m in \u001b[0;36m_run_fn\u001b[0;34m(session, feed_dict, fetch_list, target_list, options, run_metadata)\u001b[0m\n\u001b[1;32m   1001\u001b[0m         return tf_session.TF_Run(session, options,\n\u001b[1;32m   1002\u001b[0m                                  \u001b[0mfeed_dict\u001b[0m\u001b[0;34m,\u001b[0m \u001b[0mfetch_list\u001b[0m\u001b[0;34m,\u001b[0m \u001b[0mtarget_list\u001b[0m\u001b[0;34m,\u001b[0m\u001b[0;34m\u001b[0m\u001b[0m\n\u001b[0;32m-> 1003\u001b[0;31m                                  status, run_metadata)\n\u001b[0m\u001b[1;32m   1004\u001b[0m \u001b[0;34m\u001b[0m\u001b[0m\n\u001b[1;32m   1005\u001b[0m     \u001b[0;32mdef\u001b[0m \u001b[0m_prun_fn\u001b[0m\u001b[0;34m(\u001b[0m\u001b[0msession\u001b[0m\u001b[0;34m,\u001b[0m \u001b[0mhandle\u001b[0m\u001b[0;34m,\u001b[0m \u001b[0mfeed_dict\u001b[0m\u001b[0;34m,\u001b[0m \u001b[0mfetch_list\u001b[0m\u001b[0;34m)\u001b[0m\u001b[0;34m:\u001b[0m\u001b[0;34m\u001b[0m\u001b[0m\n",
      "\u001b[0;31mKeyboardInterrupt\u001b[0m: "
     ]
    }
   ],
   "source": [
    "%run -i 'SESSION.py'"
   ]
  },
  {
   "cell_type": "markdown",
   "metadata": {
    "collapsed": true
   },
   "source": [
    "#### Notes during run \n"
   ]
  },
  {
   "cell_type": "markdown",
   "metadata": {},
   "source": []
  },
  {
   "cell_type": "code",
   "execution_count": 13,
   "metadata": {
    "collapsed": false
   },
   "outputs": [
    {
     "name": "stdout",
     "output_type": "stream",
     "text": [
      "INFO:tensorflow:Error reported to Coordinator: <class 'tensorflow.python.framework.errors_impl.CancelledError'>, Enqueue operation was cancelled\n",
      "\t [[Node: Test/Test_set_input/batch/fifo_queue_enqueue = QueueEnqueue[Tcomponents=[DT_FLOAT], _class=[\"loc:@Test/Test_set_input/batch/fifo_queue\"], timeout_ms=-1, _device=\"/job:localhost/replica:0/task:0/cpu:0\"](Test/Test_set_input/batch/fifo_queue, Test/Test_set_input/Sub_2)]]\n",
      "\n",
      "Caused by op 'Test/Test_set_input/batch/fifo_queue_enqueue', defined at:\n",
      "  File \"/Users/ccthomps/anaconda/lib/python3.5/runpy.py\", line 184, in _run_module_as_main\n",
      "    \"__main__\", mod_spec)\n",
      "  File \"/Users/ccthomps/anaconda/lib/python3.5/runpy.py\", line 85, in _run_code\n",
      "    exec(code, run_globals)\n",
      "  File \"/Users/ccthomps/anaconda/lib/python3.5/site-packages/ipykernel/__main__.py\", line 3, in <module>\n",
      "    app.launch_new_instance()\n",
      "  File \"/Users/ccthomps/anaconda/lib/python3.5/site-packages/traitlets/config/application.py\", line 658, in launch_instance\n",
      "    app.start()\n",
      "  File \"/Users/ccthomps/anaconda/lib/python3.5/site-packages/ipykernel/kernelapp.py\", line 474, in start\n",
      "    ioloop.IOLoop.instance().start()\n",
      "  File \"/Users/ccthomps/anaconda/lib/python3.5/site-packages/zmq/eventloop/ioloop.py\", line 177, in start\n",
      "    super(ZMQIOLoop, self).start()\n",
      "  File \"/Users/ccthomps/anaconda/lib/python3.5/site-packages/tornado/ioloop.py\", line 887, in start\n",
      "    handler_func(fd_obj, events)\n",
      "  File \"/Users/ccthomps/anaconda/lib/python3.5/site-packages/tornado/stack_context.py\", line 275, in null_wrapper\n",
      "    return fn(*args, **kwargs)\n",
      "  File \"/Users/ccthomps/anaconda/lib/python3.5/site-packages/zmq/eventloop/zmqstream.py\", line 440, in _handle_events\n",
      "    self._handle_recv()\n",
      "  File \"/Users/ccthomps/anaconda/lib/python3.5/site-packages/zmq/eventloop/zmqstream.py\", line 472, in _handle_recv\n",
      "    self._run_callback(callback, msg)\n",
      "  File \"/Users/ccthomps/anaconda/lib/python3.5/site-packages/zmq/eventloop/zmqstream.py\", line 414, in _run_callback\n",
      "    callback(*args, **kwargs)\n",
      "  File \"/Users/ccthomps/anaconda/lib/python3.5/site-packages/tornado/stack_context.py\", line 275, in null_wrapper\n",
      "    return fn(*args, **kwargs)\n",
      "  File \"/Users/ccthomps/anaconda/lib/python3.5/site-packages/ipykernel/kernelbase.py\", line 276, in dispatcher\n",
      "    return self.dispatch_shell(stream, msg)\n",
      "  File \"/Users/ccthomps/anaconda/lib/python3.5/site-packages/ipykernel/kernelbase.py\", line 228, in dispatch_shell\n",
      "    handler(stream, idents, msg)\n",
      "  File \"/Users/ccthomps/anaconda/lib/python3.5/site-packages/ipykernel/kernelbase.py\", line 390, in execute_request\n",
      "    user_expressions, allow_stdin)\n",
      "  File \"/Users/ccthomps/anaconda/lib/python3.5/site-packages/ipykernel/ipkernel.py\", line 196, in do_execute\n",
      "    res = shell.run_cell(code, store_history=store_history, silent=silent)\n",
      "  File \"/Users/ccthomps/anaconda/lib/python3.5/site-packages/ipykernel/zmqshell.py\", line 501, in run_cell\n",
      "    return super(ZMQInteractiveShell, self).run_cell(*args, **kwargs)\n",
      "  File \"/Users/ccthomps/anaconda/lib/python3.5/site-packages/IPython/core/interactiveshell.py\", line 2717, in run_cell\n",
      "    interactivity=interactivity, compiler=compiler, result=result)\n",
      "  File \"/Users/ccthomps/anaconda/lib/python3.5/site-packages/IPython/core/interactiveshell.py\", line 2827, in run_ast_nodes\n",
      "    if self.run_code(code, result):\n",
      "  File \"/Users/ccthomps/anaconda/lib/python3.5/site-packages/IPython/core/interactiveshell.py\", line 2881, in run_code\n",
      "    exec(code_obj, self.user_global_ns, self.user_ns)\n",
      "  File \"<ipython-input-11-2c40248c668b>\", line 1, in <module>\n",
      "    get_ipython().magic(\"run -i 'GRAPH.py'\")\n",
      "  File \"/Users/ccthomps/anaconda/lib/python3.5/site-packages/IPython/core/interactiveshell.py\", line 2158, in magic\n",
      "    return self.run_line_magic(magic_name, magic_arg_s)\n",
      "  File \"/Users/ccthomps/anaconda/lib/python3.5/site-packages/IPython/core/interactiveshell.py\", line 2079, in run_line_magic\n",
      "    result = fn(*args,**kwargs)\n",
      "  File \"<decorator-gen-57>\", line 2, in run\n",
      "  File \"/Users/ccthomps/anaconda/lib/python3.5/site-packages/IPython/core/magic.py\", line 188, in <lambda>\n",
      "    call = lambda f, *a, **k: f(*a, **k)\n",
      "  File \"/Users/ccthomps/anaconda/lib/python3.5/site-packages/IPython/core/magics/execution.py\", line 742, in run\n",
      "    run()\n",
      "  File \"/Users/ccthomps/anaconda/lib/python3.5/site-packages/IPython/core/magics/execution.py\", line 728, in run\n",
      "    exit_ignore=exit_ignore)\n",
      "  File \"/Users/ccthomps/anaconda/lib/python3.5/site-packages/IPython/core/pylabtools.py\", line 168, in mpl_execfile\n",
      "    safe_execfile(fname,*where,**kw)\n",
      "  File \"/Users/ccthomps/anaconda/lib/python3.5/site-packages/IPython/core/interactiveshell.py\", line 2481, in safe_execfile\n",
      "    self.compile if kw['shell_futures'] else None)\n",
      "  File \"/Users/ccthomps/anaconda/lib/python3.5/site-packages/IPython/utils/py3compat.py\", line 186, in execfile\n",
      "    exec(compiler(f.read(), fname, 'exec'), glob, loc)\n",
      "  File \"/Users/ccthomps/Documents/Python Files/Kaggle Competitions/Nature Conservancy Fisheries/GRAPH.py\", line 179, in <module>\n",
      "    test_images = tf.train.batch([test_image], batch_size = batch_size, capacity = batch_size * 2)\n",
      "  File \"/Users/ccthomps/anaconda/lib/python3.5/site-packages/tensorflow/python/training/input.py\", line 684, in batch\n",
      "    _enqueue(queue, tensor_list, num_threads, enqueue_many)\n",
      "  File \"/Users/ccthomps/anaconda/lib/python3.5/site-packages/tensorflow/python/training/input.py\", line 586, in _enqueue\n",
      "    enqueue_ops = [queue.enqueue(tensor_list)] * threads\n",
      "  File \"/Users/ccthomps/anaconda/lib/python3.5/site-packages/tensorflow/python/ops/data_flow_ops.py\", line 329, in enqueue\n",
      "    return gen_data_flow_ops._queue_enqueue(self._queue_ref, vals, name=scope)\n",
      "  File \"/Users/ccthomps/anaconda/lib/python3.5/site-packages/tensorflow/python/ops/gen_data_flow_ops.py\", line 1176, in _queue_enqueue\n",
      "    name=name)\n",
      "  File \"/Users/ccthomps/anaconda/lib/python3.5/site-packages/tensorflow/python/framework/op_def_library.py\", line 759, in apply_op\n",
      "    op_def=op_def)\n",
      "  File \"/Users/ccthomps/anaconda/lib/python3.5/site-packages/tensorflow/python/framework/ops.py\", line 2240, in create_op\n",
      "    original_op=self._default_original_op, op_def=op_def)\n",
      "  File \"/Users/ccthomps/anaconda/lib/python3.5/site-packages/tensorflow/python/framework/ops.py\", line 1128, in __init__\n",
      "    self._traceback = _extract_stack()\n",
      "\n",
      "CancelledError (see above for traceback): Enqueue operation was cancelled\n",
      "\t [[Node: Test/Test_set_input/batch/fifo_queue_enqueue = QueueEnqueue[Tcomponents=[DT_FLOAT], _class=[\"loc:@Test/Test_set_input/batch/fifo_queue\"], timeout_ms=-1, _device=\"/job:localhost/replica:0/task:0/cpu:0\"](Test/Test_set_input/batch/fifo_queue, Test/Test_set_input/Sub_2)]]\n",
      "\n"
     ]
    },
    {
     "ename": "NameError",
     "evalue": "name 'test_df' is not defined",
     "output_type": "error",
     "traceback": [
      "\u001b[0;31m---------------------------------------------------------------------------\u001b[0m",
      "\u001b[0;31mNameError\u001b[0m                                 Traceback (most recent call last)",
      "\u001b[0;32m/Users/ccthomps/Documents/Python Files/Kaggle Competitions/Nature Conservancy Fisheries/SESSION.py\u001b[0m in \u001b[0;36m<module>\u001b[0;34m()\u001b[0m\n\u001b[0;32m----> 1\u001b[0;31m \u001b[0mprint\u001b[0m\u001b[0;34m(\u001b[0m\u001b[0mtest_df\u001b[0m\u001b[0;34m)\u001b[0m\u001b[0;34m\u001b[0m\u001b[0m\n\u001b[0m",
      "\u001b[0;31mNameError\u001b[0m: name 'test_df' is not defined"
     ]
    }
   ],
   "source": [
    "print(test_df)"
   ]
  },
  {
   "cell_type": "code",
   "execution_count": 17,
   "metadata": {
    "collapsed": false
   },
   "outputs": [
    {
     "data": {
      "text/plain": [
       "(11, 11, 3, 96)"
      ]
     },
     "execution_count": 17,
     "metadata": {},
     "output_type": "execute_result"
    }
   ],
   "source": [
    "W.shape"
   ]
  },
  {
   "cell_type": "code",
   "execution_count": 20,
   "metadata": {
    "collapsed": false
   },
   "outputs": [
    {
     "name": "stdout",
     "output_type": "stream",
     "text": [
      "0\n"
     ]
    },
    {
     "data": {
      "image/png": "[encoded data removed]",
      "text/plain": [
       "<matplotlib.figure.Figure at 0x128176390>"
      ]
     },
     "metadata": {},
     "output_type": "display_data"
    },
    {
     "name": "stdout",
     "output_type": "stream",
     "text": [
      "1\n"
     ]
    },
    {
     "data": {
      "image/png": "[encoded data removed]",
      "text/plain": [
       "<matplotlib.figure.Figure at 0x127732c88>"
      ]
     },
     "metadata": {},
     "output_type": "display_data"
    },
    {
     "name": "stdout",
     "output_type": "stream",
     "text": [
      "2\n"
     ]
    },
    {
     "data": {
      "image/png": "[encoded data removed]",
      "text/plain": [
       "<matplotlib.figure.Figure at 0x128f7fcf8>"
      ]
     },
     "metadata": {},
     "output_type": "display_data"
    },
    {
     "name": "stdout",
     "output_type": "stream",
     "text": [
      "3\n"
     ]
    },
    {
     "data": {
      "image/png": "[encoded data removed]",
      "text/plain": [
       "<matplotlib.figure.Figure at 0x127732da0>"
      ]
     },
     "metadata": {},
     "output_type": "display_data"
    },
    {
     "name": "stdout",
     "output_type": "stream",
     "text": [
      "4\n"
     ]
    },
    {
     "data": {
      "image/png": "[encoded data removed]",
      "text/plain": [
       "<matplotlib.figure.Figure at 0x134e57908>"
      ]
     },
     "metadata": {},
     "output_type": "display_data"
    },
    {
     "name": "stdout",
     "output_type": "stream",
     "text": [
      "5\n"
     ]
    },
    {
     "data": {
      "image/png": "[encoded data removed]",
      "text/plain": [
       "<matplotlib.figure.Figure at 0x134ee1f98>"
      ]
     },
     "metadata": {},
     "output_type": "display_data"
    },
    {
     "name": "stdout",
     "output_type": "stream",
     "text": [
      "6\n"
     ]
    },
    {
     "data": {
      "image/png": "[encoded data removed]",
      "text/plain": [
       "<matplotlib.figure.Figure at 0x134f9d8d0>"
      ]
     },
     "metadata": {},
     "output_type": "display_data"
    },
    {
     "name": "stdout",
     "output_type": "stream",
     "text": [
      "7\n"
     ]
    },
    {
     "data": {
      "image/png": "[encoded data removed]",
      "text/plain": [
       "<matplotlib.figure.Figure at 0x137d97c50>"
      ]
     },
     "metadata": {},
     "output_type": "display_data"
    },
    {
     "name": "stdout",
     "output_type": "stream",
     "text": [
      "8\n"
     ]
    },
    {
     "data": {
      "image/png": "[encoded data removed]",
      "text/plain": [
       "<matplotlib.figure.Figure at 0x137db9b00>"
      ]
     },
     "metadata": {},
     "output_type": "display_data"
    },
    {
     "name": "stdout",
     "output_type": "stream",
     "text": [
      "9\n"
     ]
    },
    {
     "data": {
      "image/png": "[encoded data removed]",
      "text/plain": [
       "<matplotlib.figure.Figure at 0x138b6cbe0>"
      ]
     },
     "metadata": {},
     "output_type": "display_data"
    },
    {
     "name": "stdout",
     "output_type": "stream",
     "text": [
      "10\n"
     ]
    },
    {
     "data": {
      "image/png": "[encoded data removed]",
      "text/plain": [
       "<matplotlib.figure.Figure at 0x139055e80>"
      ]
     },
     "metadata": {},
     "output_type": "display_data"
    },
    {
     "name": "stdout",
     "output_type": "stream",
     "text": [
      "11\n"
     ]
    },
    {
     "data": {
      "image/png": "[encoded data removed]",
      "text/plain": [
       "<matplotlib.figure.Figure at 0x1391d8d30>"
      ]
     },
     "metadata": {},
     "output_type": "display_data"
    },
    {
     "name": "stdout",
     "output_type": "stream",
     "text": [
      "12\n"
     ]
    },
    {
     "data": {
      "image/png": "[encoded data removed]",
      "text/plain": [
       "<matplotlib.figure.Figure at 0x139028b00>"
      ]
     },
     "metadata": {},
     "output_type": "display_data"
    },
    {
     "name": "stdout",
     "output_type": "stream",
     "text": [
      "13\n"
     ]
    },
    {
     "data": {
      "image/png": "[encoded data removed]",
      "text/plain": [
       "<matplotlib.figure.Figure at 0x1386bee10>"
      ]
     },
     "metadata": {},
     "output_type": "display_data"
    },
    {
     "name": "stdout",
     "output_type": "stream",
     "text": [
      "14\n"
     ]
    },
    {
     "data": {
      "image/png": "[encoded data removed]",
      "text/plain": [
       "<matplotlib.figure.Figure at 0x11a92f278>"
      ]
     },
     "metadata": {},
     "output_type": "display_data"
    },
    {
     "name": "stdout",
     "output_type": "stream",
     "text": [
      "15\n"
     ]
    },
    {
     "data": {
      "image/png": "[encoded data removed]",
      "text/plain": [
       "<matplotlib.figure.Figure at 0x138b77e10>"
      ]
     },
     "metadata": {},
     "output_type": "display_data"
    },
    {
     "name": "stdout",
     "output_type": "stream",
     "text": [
      "16\n"
     ]
    },
    {
     "data": {
      "image/png": "[encoded data removed]",
      "text/plain": [
       "<matplotlib.figure.Figure at 0x13903dbe0>"
      ]
     },
     "metadata": {},
     "output_type": "display_data"
    },
    {
     "name": "stdout",
     "output_type": "stream",
     "text": [
      "17\n"
     ]
    },
    {
     "data": {
      "image/png": "[encoded data removed]",
      "text/plain": [
       "<matplotlib.figure.Figure at 0x13879d9e8>"
      ]
     },
     "metadata": {},
     "output_type": "display_data"
    },
    {
     "name": "stdout",
     "output_type": "stream",
     "text": [
      "18\n"
     ]
    },
    {
     "data": {
      "image/png": "[encoded data removed]",
      "text/plain": [
       "<matplotlib.figure.Figure at 0x137d809b0>"
      ]
     },
     "metadata": {},
     "output_type": "display_data"
    },
    {
     "name": "stdout",
     "output_type": "stream",
     "text": [
      "19\n"
     ]
    },
    {
     "data": {
      "image/png": "[encoded data removed]",
      "text/plain": [
       "<matplotlib.figure.Figure at 0x1277460f0>"
      ]
     },
     "metadata": {},
     "output_type": "display_data"
    },
    {
     "name": "stdout",
     "output_type": "stream",
     "text": [
      "20\n"
     ]
    },
    {
     "data": {
      "image/png": "[encoded data removed]",
      "text/plain": [
       "<matplotlib.figure.Figure at 0x134f01c50>"
      ]
     },
     "metadata": {},
     "output_type": "display_data"
    },
    {
     "name": "stdout",
     "output_type": "stream",
     "text": [
      "21\n"
     ]
    },
    {
     "data": {
      "image/png": "[encoded data removed]",
      "text/plain": [
       "<matplotlib.figure.Figure at 0x135a39978>"
      ]
     },
     "metadata": {},
     "output_type": "display_data"
    },
    {
     "name": "stdout",
     "output_type": "stream",
     "text": [
      "22\n"
     ]
    },
    {
     "data": {
      "image/png": "[encoded data removed]",
      "text/plain": [
       "<matplotlib.figure.Figure at 0x1288d8d68>"
      ]
     },
     "metadata": {},
     "output_type": "display_data"
    },
    {
     "name": "stdout",
     "output_type": "stream",
     "text": [
      "23\n"
     ]
    },
    {
     "data": {
      "image/png": "[encoded data removed]",
      "text/plain": [
       "<matplotlib.figure.Figure at 0x1281a9358>"
      ]
     },
     "metadata": {},
     "output_type": "display_data"
    },
    {
     "name": "stdout",
     "output_type": "stream",
     "text": [
      "24\n"
     ]
    },
    {
     "data": {
      "image/png": "[encoded data removed]",
      "text/plain": [
       "<matplotlib.figure.Figure at 0x134e7bb70>"
      ]
     },
     "metadata": {},
     "output_type": "display_data"
    },
    {
     "name": "stdout",
     "output_type": "stream",
     "text": [
      "25\n"
     ]
    },
    {
     "data": {
      "image/png": "[encoded data removed]",
      "text/plain": [
       "<matplotlib.figure.Figure at 0x128076cf8>"
      ]
     },
     "metadata": {},
     "output_type": "display_data"
    },
    {
     "name": "stdout",
     "output_type": "stream",
     "text": [
      "26\n"
     ]
    },
    {
     "data": {
      "image/png": "[encoded data removed]",
      "text/plain": [
       "<matplotlib.figure.Figure at 0x128f5fb70>"
      ]
     },
     "metadata": {},
     "output_type": "display_data"
    },
    {
     "name": "stdout",
     "output_type": "stream",
     "text": [
      "27\n"
     ]
    },
    {
     "data": {
      "image/png": "[encoded data removed]",
      "text/plain": [
       "<matplotlib.figure.Figure at 0x127798dd8>"
      ]
     },
     "metadata": {},
     "output_type": "display_data"
    },
    {
     "name": "stdout",
     "output_type": "stream",
     "text": [
      "28\n"
     ]
    },
    {
     "data": {
      "image/png": "[encoded data removed]",
      "text/plain": [
       "<matplotlib.figure.Figure at 0x10449d3c8>"
      ]
     },
     "metadata": {},
     "output_type": "display_data"
    },
    {
     "name": "stdout",
     "output_type": "stream",
     "text": [
      "29\n"
     ]
    },
    {
     "data": {
      "image/png": "[encoded data removed]",
      "text/plain": [
       "<matplotlib.figure.Figure at 0x128505cc0>"
      ]
     },
     "metadata": {},
     "output_type": "display_data"
    },
    {
     "name": "stdout",
     "output_type": "stream",
     "text": [
      "30\n"
     ]
    },
    {
     "data": {
      "image/png": "[encoded data removed]",
      "text/plain": [
       "<matplotlib.figure.Figure at 0x10449dc50>"
      ]
     },
     "metadata": {},
     "output_type": "display_data"
    },
    {
     "name": "stdout",
     "output_type": "stream",
     "text": [
      "31\n"
     ]
    },
    {
     "data": {
      "image/png": "[encoded data removed]",
      "text/plain": [
       "<matplotlib.figure.Figure at 0x13a6dda90>"
      ]
     },
     "metadata": {},
     "output_type": "display_data"
    },
    {
     "name": "stdout",
     "output_type": "stream",
     "text": [
      "32\n"
     ]
    },
    {
     "data": {
      "image/png": "[encoded data removed]",
      "text/plain": [
       "<matplotlib.figure.Figure at 0x10445e160>"
      ]
     },
     "metadata": {},
     "output_type": "display_data"
    },
    {
     "name": "stdout",
     "output_type": "stream",
     "text": [
      "33\n"
     ]
    },
    {
     "data": {
      "image/png": "[encoded data removed]",
      "text/plain": [
       "<matplotlib.figure.Figure at 0x13a455d30>"
      ]
     },
     "metadata": {},
     "output_type": "display_data"
    },
    {
     "name": "stdout",
     "output_type": "stream",
     "text": [
      "34\n"
     ]
    },
    {
     "data": {
      "image/png": "[encoded data removed]",
      "text/plain": [
       "<matplotlib.figure.Figure at 0x10453f470>"
      ]
     },
     "metadata": {},
     "output_type": "display_data"
    },
    {
     "name": "stdout",
     "output_type": "stream",
     "text": [
      "35\n"
     ]
    },
    {
     "data": {
      "image/png": "[encoded data removed]",
      "text/plain": [
       "<matplotlib.figure.Figure at 0x128633cf8>"
      ]
     },
     "metadata": {},
     "output_type": "display_data"
    },
    {
     "name": "stdout",
     "output_type": "stream",
     "text": [
      "36\n"
     ]
    },
    {
     "data": {
      "image/png": "[encoded data removed]",
      "text/plain": [
       "<matplotlib.figure.Figure at 0x128f62f98>"
      ]
     },
     "metadata": {},
     "output_type": "display_data"
    },
    {
     "name": "stdout",
     "output_type": "stream",
     "text": [
      "37\n"
     ]
    },
    {
     "data": {
      "image/png": "[encoded data removed]",
      "text/plain": [
       "<matplotlib.figure.Figure at 0x134e44e10>"
      ]
     },
     "metadata": {},
     "output_type": "display_data"
    },
    {
     "name": "stdout",
     "output_type": "stream",
     "text": [
      "38\n"
     ]
    },
    {
     "data": {
      "image/png": "[encoded data removed]",
      "text/plain": [
       "<matplotlib.figure.Figure at 0x128f74a90>"
      ]
     },
     "metadata": {},
     "output_type": "display_data"
    },
    {
     "name": "stdout",
     "output_type": "stream",
     "text": [
      "39\n"
     ]
    },
    {
     "data": {
      "image/png": "[encoded data removed]",
      "text/plain": [
       "<matplotlib.figure.Figure at 0x127d83d30>"
      ]
     },
     "metadata": {},
     "output_type": "display_data"
    },
    {
     "name": "stdout",
     "output_type": "stream",
     "text": [
      "40\n"
     ]
    },
    {
     "data": {
      "image/png": "[encoded data removed]",
      "text/plain": [
       "<matplotlib.figure.Figure at 0x128540c88>"
      ]
     },
     "metadata": {},
     "output_type": "display_data"
    },
    {
     "name": "stdout",
     "output_type": "stream",
     "text": [
      "41\n"
     ]
    },
    {
     "data": {
      "image/png": "[encoded data removed]",
      "text/plain": [
       "<matplotlib.figure.Figure at 0x137d96eb8>"
      ]
     },
     "metadata": {},
     "output_type": "display_data"
    },
    {
     "name": "stdout",
     "output_type": "stream",
     "text": [
      "42\n"
     ]
    },
    {
     "data": {
      "image/png": "[encoded data removed]",
      "text/plain": [
       "<matplotlib.figure.Figure at 0x1281c1b38>"
      ]
     },
     "metadata": {},
     "output_type": "display_data"
    },
    {
     "name": "stdout",
     "output_type": "stream",
     "text": [
      "43\n"
     ]
    },
    {
     "data": {
      "image/png": "[encoded data removed]",
      "text/plain": [
       "<matplotlib.figure.Figure at 0x137da1748>"
      ]
     },
     "metadata": {},
     "output_type": "display_data"
    },
    {
     "name": "stdout",
     "output_type": "stream",
     "text": [
      "44\n"
     ]
    },
    {
     "data": {
      "image/png": "[encoded data removed]",
      "text/plain": [
       "<matplotlib.figure.Figure at 0x1281aa7f0>"
      ]
     },
     "metadata": {},
     "output_type": "display_data"
    },
    {
     "name": "stdout",
     "output_type": "stream",
     "text": [
      "45\n"
     ]
    },
    {
     "data": {
      "image/png": "[encoded data removed]",
      "text/plain": [
       "<matplotlib.figure.Figure at 0x134ee6198>"
      ]
     },
     "metadata": {},
     "output_type": "display_data"
    },
    {
     "name": "stdout",
     "output_type": "stream",
     "text": [
      "46\n"
     ]
    },
    {
     "data": {
      "image/png": "[encoded data removed]",
      "text/plain": [
       "<matplotlib.figure.Figure at 0x139142c50>"
      ]
     },
     "metadata": {},
     "output_type": "display_data"
    },
    {
     "name": "stdout",
     "output_type": "stream",
     "text": [
      "47\n"
     ]
    },
    {
     "data": {
      "image/png": "[encoded data removed]",
      "text/plain": [
       "<matplotlib.figure.Figure at 0x1387c6eb8>"
      ]
     },
     "metadata": {},
     "output_type": "display_data"
    },
    {
     "name": "stdout",
     "output_type": "stream",
     "text": [
      "48\n"
     ]
    },
    {
     "data": {
      "image/png": "[encoded data removed]",
      "text/plain": [
       "<matplotlib.figure.Figure at 0x13916aac8>"
      ]
     },
     "metadata": {},
     "output_type": "display_data"
    },
    {
     "name": "stdout",
     "output_type": "stream",
     "text": [
      "49\n"
     ]
    },
    {
     "data": {
      "image/png": "[encoded data removed]",
      "text/plain": [
       "<matplotlib.figure.Figure at 0x138b80400>"
      ]
     },
     "metadata": {},
     "output_type": "display_data"
    },
    {
     "name": "stdout",
     "output_type": "stream",
     "text": [
      "50\n"
     ]
    },
    {
     "data": {
      "image/png": "[encoded data removed]",
      "text/plain": [
       "<matplotlib.figure.Figure at 0x10453aac8>"
      ]
     },
     "metadata": {},
     "output_type": "display_data"
    },
    {
     "name": "stdout",
     "output_type": "stream",
     "text": [
      "51\n"
     ]
    },
    {
     "data": {
      "image/png": "[encoded data removed]",
      "text/plain": [
       "<matplotlib.figure.Figure at 0x12774b470>"
      ]
     },
     "metadata": {},
     "output_type": "display_data"
    },
    {
     "name": "stdout",
     "output_type": "stream",
     "text": [
      "52\n"
     ]
    },
    {
     "data": {
      "image/png": "[encoded data removed]",
      "text/plain": [
       "<matplotlib.figure.Figure at 0x104507470>"
      ]
     },
     "metadata": {},
     "output_type": "display_data"
    },
    {
     "name": "stdout",
     "output_type": "stream",
     "text": [
      "53\n"
     ]
    },
    {
     "data": {
      "image/png": "[encoded data removed]",
      "text/plain": [
       "<matplotlib.figure.Figure at 0x134ef3f60>"
      ]
     },
     "metadata": {},
     "output_type": "display_data"
    },
    {
     "name": "stdout",
     "output_type": "stream",
     "text": [
      "54\n"
     ]
    },
    {
     "data": {
      "image/png": "[encoded data removed]",
      "text/plain": [
       "<matplotlib.figure.Figure at 0x138b58198>"
      ]
     },
     "metadata": {},
     "output_type": "display_data"
    },
    {
     "name": "stdout",
     "output_type": "stream",
     "text": [
      "55\n"
     ]
    },
    {
     "data": {
      "image/png": "[encoded data removed]",
      "text/plain": [
       "<matplotlib.figure.Figure at 0x127d717b8>"
      ]
     },
     "metadata": {},
     "output_type": "display_data"
    },
    {
     "name": "stdout",
     "output_type": "stream",
     "text": [
      "56\n"
     ]
    },
    {
     "data": {
      "image/png": "[encoded data removed]",
      "text/plain": [
       "<matplotlib.figure.Figure at 0x1277518d0>"
      ]
     },
     "metadata": {},
     "output_type": "display_data"
    },
    {
     "name": "stdout",
     "output_type": "stream",
     "text": [
      "57\n"
     ]
    },
    {
     "data": {
      "image/png": "[encoded data removed]",
      "text/plain": [
       "<matplotlib.figure.Figure at 0x13904fb00>"
      ]
     },
     "metadata": {},
     "output_type": "display_data"
    },
    {
     "name": "stdout",
     "output_type": "stream",
     "text": [
      "58\n"
     ]
    },
    {
     "data": {
      "image/png": "[encoded data removed]",
      "text/plain": [
       "<matplotlib.figure.Figure at 0x134f1c2b0>"
      ]
     },
     "metadata": {},
     "output_type": "display_data"
    },
    {
     "name": "stdout",
     "output_type": "stream",
     "text": [
      "59\n"
     ]
    },
    {
     "data": {
      "image/png": "[encoded data removed]",
      "text/plain": [
       "<matplotlib.figure.Figure at 0x137d90cf8>"
      ]
     },
     "metadata": {},
     "output_type": "display_data"
    },
    {
     "name": "stdout",
     "output_type": "stream",
     "text": [
      "60\n"
     ]
    },
    {
     "data": {
      "image/png": "[encoded data removed]",
      "text/plain": [
       "<matplotlib.figure.Figure at 0x12753cef0>"
      ]
     },
     "metadata": {},
     "output_type": "display_data"
    },
    {
     "name": "stdout",
     "output_type": "stream",
     "text": [
      "61\n"
     ]
    },
    {
     "data": {
      "image/png": "[encoded data removed]",
      "text/plain": [
       "<matplotlib.figure.Figure at 0x137d80f98>"
      ]
     },
     "metadata": {},
     "output_type": "display_data"
    },
    {
     "name": "stdout",
     "output_type": "stream",
     "text": [
      "62\n"
     ]
    },
    {
     "data": {
      "image/png": "[encoded data removed]",
      "text/plain": [
       "<matplotlib.figure.Figure at 0x128f57cf8>"
      ]
     },
     "metadata": {},
     "output_type": "display_data"
    },
    {
     "name": "stdout",
     "output_type": "stream",
     "text": [
      "63\n"
     ]
    },
    {
     "data": {
      "image/png": "[encoded data removed]",
      "text/plain": [
       "<matplotlib.figure.Figure at 0x1386b9160>"
      ]
     },
     "metadata": {},
     "output_type": "display_data"
    },
    {
     "name": "stdout",
     "output_type": "stream",
     "text": [
      "64\n"
     ]
    },
    {
     "data": {
      "image/png": "[encoded data removed]",
      "text/plain": [
       "<matplotlib.figure.Figure at 0x1386b96d8>"
      ]
     },
     "metadata": {},
     "output_type": "display_data"
    },
    {
     "name": "stdout",
     "output_type": "stream",
     "text": [
      "65\n"
     ]
    },
    {
     "data": {
      "image/png": "[encoded data removed]",
      "text/plain": [
       "<matplotlib.figure.Figure at 0x1284f2a58>"
      ]
     },
     "metadata": {},
     "output_type": "display_data"
    },
    {
     "name": "stdout",
     "output_type": "stream",
     "text": [
      "66\n"
     ]
    },
    {
     "data": {
      "image/png": "[encoded data removed]",
      "text/plain": [
       "<matplotlib.figure.Figure at 0x1386a76a0>"
      ]
     },
     "metadata": {},
     "output_type": "display_data"
    },
    {
     "name": "stdout",
     "output_type": "stream",
     "text": [
      "67\n"
     ]
    },
    {
     "data": {
      "image/png": "[encoded data removed]",
      "text/plain": [
       "<matplotlib.figure.Figure at 0x134e2e668>"
      ]
     },
     "metadata": {},
     "output_type": "display_data"
    },
    {
     "name": "stdout",
     "output_type": "stream",
     "text": [
      "68\n"
     ]
    },
    {
     "data": {
      "image/png": "[encoded data removed]",
      "text/plain": [
       "<matplotlib.figure.Figure at 0x1044d7940>"
      ]
     },
     "metadata": {},
     "output_type": "display_data"
    },
    {
     "name": "stdout",
     "output_type": "stream",
     "text": [
      "69\n"
     ]
    },
    {
     "data": {
      "image/png": "[encoded data removed]",
      "text/plain": [
       "<matplotlib.figure.Figure at 0x1284e7cc0>"
      ]
     },
     "metadata": {},
     "output_type": "display_data"
    },
    {
     "name": "stdout",
     "output_type": "stream",
     "text": [
      "70\n"
     ]
    },
    {
     "data": {
      "image/png": "[encoded data removed]",
      "text/plain": [
       "<matplotlib.figure.Figure at 0x13869bba8>"
      ]
     },
     "metadata": {},
     "output_type": "display_data"
    },
    {
     "name": "stdout",
     "output_type": "stream",
     "text": [
      "71\n"
     ]
    },
    {
     "data": {
      "image/png": "[encoded data removed]",
      "text/plain": [
       "<matplotlib.figure.Figure at 0x128f57eb8>"
      ]
     },
     "metadata": {},
     "output_type": "display_data"
    },
    {
     "name": "stdout",
     "output_type": "stream",
     "text": [
      "72\n"
     ]
    },
    {
     "data": {
      "image/png": "[encoded data removed]",
      "text/plain": [
       "<matplotlib.figure.Figure at 0x128f734a8>"
      ]
     },
     "metadata": {},
     "output_type": "display_data"
    },
    {
     "name": "stdout",
     "output_type": "stream",
     "text": [
      "73\n"
     ]
    },
    {
     "data": {
      "image/png": "[encoded data removed]",
      "text/plain": [
       "<matplotlib.figure.Figure at 0x128f73518>"
      ]
     },
     "metadata": {},
     "output_type": "display_data"
    },
    {
     "name": "stdout",
     "output_type": "stream",
     "text": [
      "74\n"
     ]
    },
    {
     "data": {
      "image/png": "[encoded data removed]",
      "text/plain": [
       "<matplotlib.figure.Figure at 0x1288cbda0>"
      ]
     },
     "metadata": {},
     "output_type": "display_data"
    },
    {
     "name": "stdout",
     "output_type": "stream",
     "text": [
      "75\n"
     ]
    },
    {
     "data": {
      "image/png": "[encoded data removed]",
      "text/plain": [
       "<matplotlib.figure.Figure at 0x12806f438>"
      ]
     },
     "metadata": {},
     "output_type": "display_data"
    },
    {
     "name": "stdout",
     "output_type": "stream",
     "text": [
      "76\n"
     ]
    },
    {
     "data": {
      "image/png": "[encoded data removed]",
      "text/plain": [
       "<matplotlib.figure.Figure at 0x127d68a90>"
      ]
     },
     "metadata": {},
     "output_type": "display_data"
    },
    {
     "name": "stdout",
     "output_type": "stream",
     "text": [
      "77\n"
     ]
    },
    {
     "data": {
      "image/png": "[encoded data removed]",
      "text/plain": [
       "<matplotlib.figure.Figure at 0x12852f198>"
      ]
     },
     "metadata": {},
     "output_type": "display_data"
    },
    {
     "name": "stdout",
     "output_type": "stream",
     "text": [
      "78\n"
     ]
    },
    {
     "data": {
      "image/png": "[encoded data removed]",
      "text/plain": [
       "<matplotlib.figure.Figure at 0x127775780>"
      ]
     },
     "metadata": {},
     "output_type": "display_data"
    },
    {
     "name": "stdout",
     "output_type": "stream",
     "text": [
      "79\n"
     ]
    },
    {
     "data": {
      "image/png": "[encoded data removed]",
      "text/plain": [
       "<matplotlib.figure.Figure at 0x1294acba8>"
      ]
     },
     "metadata": {},
     "output_type": "display_data"
    },
    {
     "name": "stdout",
     "output_type": "stream",
     "text": [
      "80\n"
     ]
    },
    {
     "data": {
      "image/png": "[encoded data removed]",
      "text/plain": [
       "<matplotlib.figure.Figure at 0x134ee7ef0>"
      ]
     },
     "metadata": {},
     "output_type": "display_data"
    },
    {
     "name": "stdout",
     "output_type": "stream",
     "text": [
      "81\n"
     ]
    },
    {
     "data": {
      "image/png": "[encoded data removed]",
      "text/plain": [
       "<matplotlib.figure.Figure at 0x1294acda0>"
      ]
     },
     "metadata": {},
     "output_type": "display_data"
    },
    {
     "name": "stdout",
     "output_type": "stream",
     "text": [
      "82\n"
     ]
    },
    {
     "data": {
      "image/png": "[encoded data removed]",
      "text/plain": [
       "<matplotlib.figure.Figure at 0x139175a90>"
      ]
     },
     "metadata": {},
     "output_type": "display_data"
    },
    {
     "name": "stdout",
     "output_type": "stream",
     "text": [
      "83\n"
     ]
    },
    {
     "data": {
      "image/png": "[encoded data removed]",
      "text/plain": [
       "<matplotlib.figure.Figure at 0x13913f3c8>"
      ]
     },
     "metadata": {},
     "output_type": "display_data"
    },
    {
     "name": "stdout",
     "output_type": "stream",
     "text": [
      "84\n"
     ]
    },
    {
     "data": {
      "image/png": "[encoded data removed]",
      "text/plain": [
       "<matplotlib.figure.Figure at 0x139151b38>"
      ]
     },
     "metadata": {},
     "output_type": "display_data"
    },
    {
     "name": "stdout",
     "output_type": "stream",
     "text": [
      "85\n"
     ]
    },
    {
     "data": {
      "image/png": "[encoded data removed]",
      "text/plain": [
       "<matplotlib.figure.Figure at 0x127d79cf8>"
      ]
     },
     "metadata": {},
     "output_type": "display_data"
    },
    {
     "name": "stdout",
     "output_type": "stream",
     "text": [
      "86\n"
     ]
    },
    {
     "data": {
      "image/png": "[encoded data removed]",
      "text/plain": [
       "<matplotlib.figure.Figure at 0x128044710>"
      ]
     },
     "metadata": {},
     "output_type": "display_data"
    },
    {
     "name": "stdout",
     "output_type": "stream",
     "text": [
      "87\n"
     ]
    },
    {
     "data": {
      "image/png": "[encoded data removed]",
      "text/plain": [
       "<matplotlib.figure.Figure at 0x129493940>"
      ]
     },
     "metadata": {},
     "output_type": "display_data"
    },
    {
     "name": "stdout",
     "output_type": "stream",
     "text": [
      "88\n"
     ]
    },
    {
     "data": {
      "image/png": "[encoded data removed]",
      "text/plain": [
       "<matplotlib.figure.Figure at 0x1387c8550>"
      ]
     },
     "metadata": {},
     "output_type": "display_data"
    },
    {
     "name": "stdout",
     "output_type": "stream",
     "text": [
      "89\n"
     ]
    },
    {
     "data": {
      "image/png": "[encoded data removed]",
      "text/plain": [
       "<matplotlib.figure.Figure at 0x138b7bd30>"
      ]
     },
     "metadata": {},
     "output_type": "display_data"
    },
    {
     "name": "stdout",
     "output_type": "stream",
     "text": [
      "90\n"
     ]
    },
    {
     "data": {
      "image/png": "[encoded data removed]",
      "text/plain": [
       "<matplotlib.figure.Figure at 0x12818b860>"
      ]
     },
     "metadata": {},
     "output_type": "display_data"
    },
    {
     "name": "stdout",
     "output_type": "stream",
     "text": [
      "91\n"
     ]
    },
    {
     "data": {
      "image/png": "[encoded data removed]",
      "text/plain": [
       "<matplotlib.figure.Figure at 0x127d8acf8>"
      ]
     },
     "metadata": {},
     "output_type": "display_data"
    },
    {
     "name": "stdout",
     "output_type": "stream",
     "text": [
      "92\n"
     ]
    },
    {
     "data": {
      "image/png": "[encoded data removed]",
      "text/plain": [
       "<matplotlib.figure.Figure at 0x127739d30>"
      ]
     },
     "metadata": {},
     "output_type": "display_data"
    },
    {
     "name": "stdout",
     "output_type": "stream",
     "text": [
      "93\n"
     ]
    },
    {
     "data": {
      "image/png": "[encoded data removed]",
      "text/plain": [
       "<matplotlib.figure.Figure at 0x1288ee2e8>"
      ]
     },
     "metadata": {},
     "output_type": "display_data"
    },
    {
     "name": "stdout",
     "output_type": "stream",
     "text": [
      "94\n"
     ]
    },
    {
     "data": {
      "image/png": "[encoded data removed]",
      "text/plain": [
       "<matplotlib.figure.Figure at 0x1390402b0>"
      ]
     },
     "metadata": {},
     "output_type": "display_data"
    },
    {
     "name": "stdout",
     "output_type": "stream",
     "text": [
      "95\n"
     ]
    },
    {
     "data": {
      "image/png": "[encoded data removed]",
      "text/plain": [
       "<matplotlib.figure.Figure at 0x127524dd8>"
      ]
     },
     "metadata": {},
     "output_type": "display_data"
    }
   ],
   "source": [
    "for i in range(W.shape[3]) :\n",
    "    print(i)\n",
    "    plt.imshow(W[:,:,:,i])\n",
    "    plt.show()"
   ]
  },
  {
   "cell_type": "code",
   "execution_count": null,
   "metadata": {
    "collapsed": true
   },
   "outputs": [],
   "source": []
  }
 ],
 "metadata": {
  "anaconda-cloud": {},
  "kernelspec": {
   "display_name": "Python [default]",
   "language": "python",
   "name": "python3"
  },
  "language_info": {
   "codemirror_mode": {
    "name": "ipython",
    "version": 3
   },
   "file_extension": ".py",
   "mimetype": "text/x-python",
   "name": "python",
   "nbconvert_exporter": "python",
   "pygments_lexer": "ipython3",
   "version": "3.5.2"
  }
 },
 "nbformat": 4,
 "nbformat_minor": 1
}
