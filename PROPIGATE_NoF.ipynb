{
 "cells": [
  {
   "cell_type": "markdown",
   "metadata": {},
   "source": [
    "# Nature Conservancy Fisheries Kaggle Competition\n",
    "## Propigate 'NoF' labels to fovea where KNN classifier is confident\n",
    "#### Dependencies"
   ]
  },
  {
   "cell_type": "code",
   "execution_count": 1,
   "metadata": {
    "collapsed": true
   },
   "outputs": [],
   "source": [
    "import numpy as np\n",
    "import matplotlib.pyplot as plt\n",
    "% matplotlib inline\n",
    "import fish_data as fd\n",
    "import pickle\n",
    "import os\n",
    "import pandas as pd\n",
    "from scipy import ndimage, misc\n",
    "from sklearn.neighbors import KNeighborsClassifier"
   ]
  },
  {
   "cell_type": "markdown",
   "metadata": {},
   "source": [
    "### Retrieve master dictionary"
   ]
  },
  {
   "cell_type": "code",
   "execution_count": 2,
   "metadata": {
    "collapsed": false
   },
   "outputs": [
    {
     "name": "stdout",
     "output_type": "stream",
     "text": [
      "Master dictionary loaded and contains correct number of filenames: True\n"
     ]
    }
   ],
   "source": [
    "with open('coordinates_dictionary.pickle', 'rb') as handle:\n",
    "    master_dict = pickle.load(handle)\n",
    "\n",
    "print(\"Master dictionary loaded and contains correct number of filenames: {}\".format(len(master_dict)==3777))"
   ]
  },
  {
   "cell_type": "markdown",
   "metadata": {},
   "source": [
    "### Retrieve checkpointed fovea_labels_checkpoint.csv"
   ]
  },
  {
   "cell_type": "code",
   "execution_count": 3,
   "metadata": {
    "collapsed": true
   },
   "outputs": [],
   "source": [
    "df = pd.read_csv('fovea_labels_checkpoint.csv', index_col = 0) # the writing of this file was accidentally covered up when I commited a file that had not been saved due to its size. "
   ]
  },
  {
   "cell_type": "markdown",
   "metadata": {},
   "source": [
    "### Generate table of embeddings that corresponds to df and master_dict order"
   ]
  },
  {
   "cell_type": "code",
   "execution_count": 4,
   "metadata": {
    "collapsed": true
   },
   "outputs": [],
   "source": [
    "embedding_arr = []\n",
    "\n",
    "for f in master_dict :\n",
    "    embedding_arr.append(master_dict.get(f).get('embedding_array'))\n",
    "\n",
    "X_df = pd.DataFrame(np.concatenate(embedding_arr, 0))"
   ]
  },
  {
   "cell_type": "markdown",
   "metadata": {},
   "source": [
    "### Tests"
   ]
  },
  {
   "cell_type": "code",
   "execution_count": 5,
   "metadata": {
    "collapsed": false
   },
   "outputs": [
    {
     "name": "stdout",
     "output_type": "stream",
     "text": [
      "Shape of fovea set information: (60432, 4)\n",
      "Shape of embedding dataframe: (60432, 5408)\n"
     ]
    }
   ],
   "source": [
    "print(\"Shape of fovea set information: {}\".format(df.shape))\n",
    "print(\"Shape of embedding dataframe: {}\".format(X_df.shape))"
   ]
  },
  {
   "cell_type": "code",
   "execution_count": 6,
   "metadata": {
    "collapsed": false
   },
   "outputs": [
    {
     "name": "stdout",
     "output_type": "stream",
     "text": [
      "Unknown    58800\n",
      "NoF         1358\n",
      "LAG           48\n",
      "ALB           47\n",
      "OTHER         39\n",
      "SHARK         36\n",
      "BET           35\n",
      "DOL           35\n",
      "YFT           34\n",
      "Name: fovea_label, dtype: int64\n"
     ]
    }
   ],
   "source": [
    "print(df['fovea_label'].value_counts())"
   ]
  },
  {
   "cell_type": "markdown",
   "metadata": {},
   "source": [
    "### Write function to assign 'NoF' when a KNN is confident of the fovea label"
   ]
  },
  {
   "cell_type": "code",
   "execution_count": 7,
   "metadata": {
    "collapsed": true
   },
   "outputs": [],
   "source": [
    "def knn_label_prop(threshold = 0.9) :\n",
    "    print(df['fovea_label'].value_counts())\n",
    "    for fish in df['image_label'].unique() :\n",
    "        print(\"=\"*40,fish,\"=\"*40)\n",
    "        temp_df = df.ix[ df['image_label'] == fish, :]\n",
    "        temp_bonafide = temp_df.ix[ temp_df['fovea_label'] != 'Unknown', : ]\n",
    "        temp_unk = temp_df.ix[ temp_df['fovea_label'] == 'Unknown', : ]\n",
    "        \n",
    "        ix, ix_bf, ix_unk = temp_df.index, temp_bonafide.index, temp_unk.index\n",
    "        \n",
    "        knn = KNeighborsClassifier(n_neighbors = 50, weights = 'distance')\n",
    "        knn.fit(X_df.iloc[ix_bf,:], temp_bonafide['fovea_label'].replace({fish: 1, 'NoF' : 0}))\n",
    "        \n",
    "        preds = knn.predict_proba(X_df.iloc[ix_unk, :])\n",
    "        plt.figure()\n",
    "        plt.hist(preds[:, 0], bins = 20)\n",
    "        plt.title(\"KNN probability of 'NoF' fovea label\")\n",
    "        plt.show()\n",
    "        \n",
    "        bool_pred = preds[:, 0] > threshold\n",
    "        temp_unk['Pred_NoF'] = bool_pred  #attach boolean predictions as to retrieve proper indices\n",
    "        \n",
    "        ix_prop = temp_unk.ix[ temp_unk['Pred_NoF'] == True, :].index\n",
    "        \n",
    "        df['fovea_label'].iloc[ix_prop] = 'NoF'\n",
    "        \n",
    "        print(df['fovea_label'].value_counts())\n",
    "        \n",
    "        "
   ]
  },
  {
   "cell_type": "code",
   "execution_count": 8,
   "metadata": {
    "collapsed": false,
    "scrolled": false
   },
   "outputs": [
    {
     "name": "stdout",
     "output_type": "stream",
     "text": [
      "Unknown    58800\n",
      "NoF         1358\n",
      "LAG           48\n",
      "ALB           47\n",
      "OTHER         39\n",
      "SHARK         36\n",
      "BET           35\n",
      "DOL           35\n",
      "YFT           34\n",
      "Name: fovea_label, dtype: int64\n",
      "======================================== ALB ========================================\n"
     ]
    },
    {
     "data": {
      "image/png": "[encoded data removed]",
      "text/plain": [
       "<matplotlib.figure.Figure at 0x1127dc8d0>"
      ]
     },
     "metadata": {},
     "output_type": "display_data"
    },
    {
     "name": "stderr",
     "output_type": "stream",
     "text": [
      "/Users/ccthomps/anaconda/lib/python3.5/site-packages/ipykernel/__main__.py:21: SettingWithCopyWarning: \n",
      "A value is trying to be set on a copy of a slice from a DataFrame.\n",
      "Try using .loc[row_indexer,col_indexer] = value instead\n",
      "\n",
      "See the caveats in the documentation: http://pandas.pydata.org/pandas-docs/stable/indexing.html#indexing-view-versus-copy\n"
     ]
    },
    {
     "name": "stdout",
     "output_type": "stream",
     "text": [
      "Unknown    55997\n",
      "NoF         4161\n",
      "LAG           48\n",
      "ALB           47\n",
      "OTHER         39\n",
      "SHARK         36\n",
      "BET           35\n",
      "DOL           35\n",
      "YFT           34\n",
      "Name: fovea_label, dtype: int64\n",
      "======================================== NoF ========================================\n"
     ]
    },
    {
     "data": {
      "image/png": "[encoded data removed]",
      "text/plain": [
       "<matplotlib.figure.Figure at 0x15807a550>"
      ]
     },
     "metadata": {},
     "output_type": "display_data"
    },
    {
     "name": "stdout",
     "output_type": "stream",
     "text": [
      "Unknown    48765\n",
      "NoF        11393\n",
      "LAG           48\n",
      "ALB           47\n",
      "OTHER         39\n",
      "SHARK         36\n",
      "BET           35\n",
      "DOL           35\n",
      "YFT           34\n",
      "Name: fovea_label, dtype: int64\n",
      "======================================== SHARK ========================================\n"
     ]
    },
    {
     "data": {
      "image/png": "[encoded data removed]",
      "text/plain": [
       "<matplotlib.figure.Figure at 0x116f80828>"
      ]
     },
     "metadata": {},
     "output_type": "display_data"
    },
    {
     "name": "stdout",
     "output_type": "stream",
     "text": [
      "Unknown    48016\n",
      "NoF        12142\n",
      "LAG           48\n",
      "ALB           47\n",
      "OTHER         39\n",
      "SHARK         36\n",
      "BET           35\n",
      "DOL           35\n",
      "YFT           34\n",
      "Name: fovea_label, dtype: int64\n",
      "======================================== YFT ========================================\n"
     ]
    },
    {
     "data": {
      "image/png": "[encoded data removed]",
      "text/plain": [
       "<matplotlib.figure.Figure at 0x13cacf8d0>"
      ]
     },
     "metadata": {},
     "output_type": "display_data"
    },
    {
     "name": "stdout",
     "output_type": "stream",
     "text": [
      "Unknown    47276\n",
      "NoF        12882\n",
      "LAG           48\n",
      "ALB           47\n",
      "OTHER         39\n",
      "SHARK         36\n",
      "BET           35\n",
      "DOL           35\n",
      "YFT           34\n",
      "Name: fovea_label, dtype: int64\n",
      "======================================== OTHER ========================================\n"
     ]
    },
    {
     "data": {
      "image/png": "[encoded data removed]",
      "text/plain": [
       "<matplotlib.figure.Figure at 0x15806b4e0>"
      ]
     },
     "metadata": {},
     "output_type": "display_data"
    },
    {
     "name": "stdout",
     "output_type": "stream",
     "text": [
      "Unknown    47246\n",
      "NoF        12912\n",
      "LAG           48\n",
      "ALB           47\n",
      "OTHER         39\n",
      "SHARK         36\n",
      "BET           35\n",
      "DOL           35\n",
      "YFT           34\n",
      "Name: fovea_label, dtype: int64\n",
      "======================================== BET ========================================\n"
     ]
    },
    {
     "data": {
      "image/png": "[encoded data removed]",
      "text/plain": [
       "<matplotlib.figure.Figure at 0x1236665c0>"
      ]
     },
     "metadata": {},
     "output_type": "display_data"
    },
    {
     "name": "stdout",
     "output_type": "stream",
     "text": [
      "Unknown    47148\n",
      "NoF        13010\n",
      "LAG           48\n",
      "ALB           47\n",
      "OTHER         39\n",
      "SHARK         36\n",
      "BET           35\n",
      "DOL           35\n",
      "YFT           34\n",
      "Name: fovea_label, dtype: int64\n",
      "======================================== DOL ========================================\n"
     ]
    },
    {
     "data": {
      "image/png": "[encoded data removed]",
      "text/plain": [
       "<matplotlib.figure.Figure at 0x1405f18d0>"
      ]
     },
     "metadata": {},
     "output_type": "display_data"
    },
    {
     "name": "stdout",
     "output_type": "stream",
     "text": [
      "Unknown    47064\n",
      "NoF        13094\n",
      "LAG           48\n",
      "ALB           47\n",
      "OTHER         39\n",
      "SHARK         36\n",
      "BET           35\n",
      "DOL           35\n",
      "YFT           34\n",
      "Name: fovea_label, dtype: int64\n",
      "======================================== LAG ========================================\n"
     ]
    },
    {
     "data": {
      "image/png": "[encoded data removed]",
      "text/plain": [
       "<matplotlib.figure.Figure at 0x155eae550>"
      ]
     },
     "metadata": {},
     "output_type": "display_data"
    },
    {
     "name": "stdout",
     "output_type": "stream",
     "text": [
      "Unknown    47062\n",
      "NoF        13096\n",
      "LAG           48\n",
      "ALB           47\n",
      "OTHER         39\n",
      "SHARK         36\n",
      "BET           35\n",
      "DOL           35\n",
      "YFT           34\n",
      "Name: fovea_label, dtype: int64\n"
     ]
    }
   ],
   "source": [
    "knn_label_prop()"
   ]
  },
  {
   "cell_type": "code",
   "execution_count": 9,
   "metadata": {
    "collapsed": true
   },
   "outputs": [],
   "source": [
    "df.to_csv('fovea_labels_NoF_prop.csv')"
   ]
  },
  {
   "cell_type": "code",
   "execution_count": null,
   "metadata": {
    "collapsed": true
   },
   "outputs": [],
   "source": []
  }
 ],
 "metadata": {
  "kernelspec": {
   "display_name": "Python [conda root]",
   "language": "python",
   "name": "conda-root-py"
  },
  "language_info": {
   "codemirror_mode": {
    "name": "ipython",
    "version": 3
   },
   "file_extension": ".py",
   "mimetype": "text/x-python",
   "name": "python",
   "nbconvert_exporter": "python",
   "pygments_lexer": "ipython3",
   "version": "3.5.2"
  }
 },
 "nbformat": 4,
 "nbformat_minor": 2
}
