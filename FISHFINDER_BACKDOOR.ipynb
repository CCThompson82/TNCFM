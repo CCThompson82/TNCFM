{
 "cells": [
  {
   "cell_type": "markdown",
   "metadata": {},
   "source": [
    "# Nature Conservancy Fisheries Kaggle Competition\n",
    "## Training Backdoor for manual additions to training set\n",
    "This script can be used in the background to FISH_FINDER_TRAINING to observe staged fovea and commit them to the training set manually.  \n",
    "#### Dependencies"
   ]
  },
  {
   "cell_type": "code",
   "execution_count": null,
   "metadata": {
    "collapsed": false
   },
   "outputs": [],
   "source": [
    "import tensorflow as tf\n",
    "import numpy as np\n",
    "import pandas as pd\n",
    "import pickle\n",
    "from scipy import misc\n",
    "import os\n",
    "import fish_data as fd\n",
    "import matplotlib.pyplot as plt\n",
    "% matplotlib inline"
   ]
  },
  {
   "cell_type": "markdown",
   "metadata": {},
   "source": [
    "#### Load Metadata for run"
   ]
  },
  {
   "cell_type": "code",
   "execution_count": null,
   "metadata": {
    "collapsed": true
   },
   "outputs": [],
   "source": [
    "version_ID = 'PILOT_RUN_v5'"
   ]
  },
  {
   "cell_type": "code",
   "execution_count": null,
   "metadata": {
    "collapsed": false
   },
   "outputs": [],
   "source": [
    "wd = os.getcwd()\n",
    "md = wd+'/FISHFINDER_MODELS/'+version_ID\n",
    "if not os.path.exists(md) :\n",
    "    os.makedirs(md)\n",
    "\n",
    "\n",
    "with open(md+'/meta_dictionary.pickle', 'rb') as  handle :\n",
    "    meta_dict = pickle.load(handle)\n"
   ]
  },
  {
   "cell_type": "markdown",
   "metadata": {},
   "source": [
    "### Graphical Analysis of Training Progress"
   ]
  },
  {
   "cell_type": "code",
   "execution_count": null,
   "metadata": {
    "collapsed": false
   },
   "outputs": [],
   "source": [
    "colors = ['red', 'darkred', 'orange', 'purple', 'blue', 'darkblue', 'green', 'darkgreen']\n",
    "fish = ['ALB', 'BET', 'DOL', 'LAG', 'NoF', 'OTHER', 'SHARK', 'YFT']\n",
    "\n",
    "epoch_completed, staged, training, keep_threshold, weights  = [], [], [], [], []\n",
    "for x in meta_dict :\n",
    "    if x != 0 :\n",
    "        epoch_completed.append(x)\n",
    "        staged.append(meta_dict.get(x).get('stage_set'))\n",
    "        keep_threshold.append(meta_dict.get(x).get('keep_threshold'))\n",
    "        training.append(meta_dict.get(x).get('training_set'))\n",
    "        weights.append(meta_dict.get(x).get('count_weights'))\n",
    "\n",
    "f, axarr = plt.subplots(3,2, figsize=(14,10))\n",
    "axarr[0,0].set_title('Number of staged fovea')\n",
    "axarr[0,0].plot(epoch_completed, staged, linestyle = '-')\n",
    "axarr[1,0].plot(epoch_completed, keep_threshold, linestyle = '-')\n",
    "axarr[1,0].set_title('\"Keep\" threshold for confidence of prediction')\n",
    "axarr[0,1].set_title(\"Number of training set fovea\")\n",
    "axarr[0,1].plot(epoch_completed, training, linestyle = '-')\n",
    "axarr[0,1].set_ylim(13300, 15500)\n",
    "axarr[0,0].set_xlabel('Epochs completed')\n",
    "axarr[1,0].set_xlabel('Epochs completed')\n",
    "axarr[0,1].set_xlabel('Epochs completed')\n",
    "axarr[2,0].bar(np.arange(8), np.squeeze(np.array(weights), 1)[np.argmax(epoch_completed),:])\n",
    "axarr[2,0].set_xticks(np.arange(8))\n",
    "axarr[2,0].set_xticklabels(fish)\n",
    "axarr[2,0].set_title('Cost Weights for Class Frequency')\n",
    "axarr[2,0].set_yscale('log')\n",
    "\n",
    "for i in range(8) :\n",
    "    axarr[2,1].plot(epoch_completed, np.squeeze(weights, 1)[:,i], c = colors[i], linestyle = '--', lw = 1, label = fish[i])\n",
    "axarr[2,1].set_title('Change in Cost Weights per fish class over training')\n",
    "axarr[2,1].set_xlabel('Epochs completed')\n",
    "axarr[2,1].legend(bbox_to_anchor=(1.05, 1), loc = 2)\n",
    "plt.tight_layout()\n",
    "plt.show()"
   ]
  },
  {
   "cell_type": "markdown",
   "metadata": {},
   "source": [
    "#### Load fovea dictionaries"
   ]
  },
  {
   "cell_type": "code",
   "execution_count": null,
   "metadata": {
    "collapsed": false
   },
   "outputs": [],
   "source": [
    "with open(md+'/staged_dictionary.pickle', 'rb') as handle :\n",
    "    staged_dictionary = pickle.load(handle)\n",
    "print(len(staged_dictionary))"
   ]
  },
  {
   "cell_type": "code",
   "execution_count": null,
   "metadata": {
    "collapsed": false
   },
   "outputs": [],
   "source": [
    "with open(md+'/training_dictionary.pickle', 'rb') as handle : \n",
    "    training_set_dictionary = pickle.load(handle)\n",
    "print(len(training_set_dictionary))\n"
   ]
  },
  {
   "cell_type": "markdown",
   "metadata": {},
   "source": [
    "#### Analyze fovea and commit fovea via manual inspection"
   ]
  },
  {
   "cell_type": "code",
   "execution_count": null,
   "metadata": {
    "collapsed": false,
    "scrolled": false
   },
   "outputs": [],
   "source": [
    "fd.manual_stage_manager(staged_dictionary, training_set_dictionary, 224, stage_step_threshold = 3, md = md)"
   ]
  },
  {
   "cell_type": "code",
   "execution_count": null,
   "metadata": {
    "collapsed": true
   },
   "outputs": [],
   "source": [
    "with open(md+'/staged_dictionary.pickle', 'wb') as fsd:\n",
    "    pickle.dump(staged_dictionary, fsd)\n",
    "with open(md+'/training_dictionary.pickle', 'wb') as ftd:\n",
    "    pickle.dump(training_set_dictionary, ftd)"
   ]
  },
  {
   "cell_type": "code",
   "execution_count": null,
   "metadata": {
    "collapsed": true
   },
   "outputs": [],
   "source": []
  },
  {
   "cell_type": "code",
   "execution_count": null,
   "metadata": {
    "collapsed": true
   },
   "outputs": [],
   "source": []
  },
  {
   "cell_type": "code",
   "execution_count": null,
   "metadata": {
    "collapsed": true
   },
   "outputs": [],
   "source": []
  },
  {
   "cell_type": "code",
   "execution_count": null,
   "metadata": {
    "collapsed": true
   },
   "outputs": [],
   "source": []
  },
  {
   "cell_type": "code",
   "execution_count": null,
   "metadata": {
    "collapsed": true
   },
   "outputs": [],
   "source": []
  },
  {
   "cell_type": "code",
   "execution_count": null,
   "metadata": {
    "collapsed": true
   },
   "outputs": [],
   "source": []
  },
  {
   "cell_type": "code",
   "execution_count": null,
   "metadata": {
    "collapsed": true
   },
   "outputs": [],
   "source": []
  },
  {
   "cell_type": "code",
   "execution_count": null,
   "metadata": {
    "collapsed": true
   },
   "outputs": [],
   "source": []
  },
  {
   "cell_type": "code",
   "execution_count": null,
   "metadata": {
    "collapsed": true
   },
   "outputs": [],
   "source": []
  },
  {
   "cell_type": "code",
   "execution_count": null,
   "metadata": {
    "collapsed": true
   },
   "outputs": [],
   "source": []
  },
  {
   "cell_type": "code",
   "execution_count": null,
   "metadata": {
    "collapsed": true
   },
   "outputs": [],
   "source": []
  }
 ],
 "metadata": {
  "kernelspec": {
   "display_name": "Python [conda root]",
   "language": "python",
   "name": "conda-root-py"
  },
  "language_info": {
   "codemirror_mode": {
    "name": "ipython",
    "version": 3
   },
   "file_extension": ".py",
   "mimetype": "text/x-python",
   "name": "python",
   "nbconvert_exporter": "python",
   "pygments_lexer": "ipython3",
   "version": "3.5.2"
  }
 },
 "nbformat": 4,
 "nbformat_minor": 2
}
