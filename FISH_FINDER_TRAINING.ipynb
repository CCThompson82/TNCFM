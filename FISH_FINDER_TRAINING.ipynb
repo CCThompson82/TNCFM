{
 "cells": [
  {
   "cell_type": "markdown",
   "metadata": {},
   "source": [
    "# Nature Conservancy Fisheries Kaggle Competition\n",
    "## Train fishfinder model \n",
    "\n",
    "\n",
    "#### Dependencies"
   ]
  },
  {
   "cell_type": "code",
   "execution_count": 1,
   "metadata": {
    "collapsed": false
   },
   "outputs": [],
   "source": [
    "import tensorflow as tf\n",
    "import numpy as np\n",
    "import pandas as pd\n",
    "import pickle\n",
    "from scipy import misc\n",
    "import os\n",
    "import fish_data as fd"
   ]
  },
  {
   "cell_type": "code",
   "execution_count": 2,
   "metadata": {
    "collapsed": false
   },
   "outputs": [],
   "source": [
    "%run -i 'FISH_FINDER_PARAMS.py'"
   ]
  },
  {
   "cell_type": "code",
   "execution_count": 3,
   "metadata": {
    "collapsed": false,
    "scrolled": false
   },
   "outputs": [],
   "source": [
    "%run -i 'FISH_FINDER_GRAPH.py'"
   ]
  },
  {
   "cell_type": "code",
   "execution_count": 4,
   "metadata": {
    "collapsed": true
   },
   "outputs": [],
   "source": [
    "version_ID = 'PILOT_RUN_v5'\n",
    "initiate_model = True"
   ]
  },
  {
   "cell_type": "code",
   "execution_count": 5,
   "metadata": {
    "collapsed": false,
    "scrolled": false
   },
   "outputs": [
    {
     "name": "stdout",
     "output_type": "stream",
     "text": [
      "Weight and bias variables initialized!\n",
      "\n",
      "Checkpoint saver initialized!\n",
      "\n",
      "Tensorboard initialized!\n",
      "To view your tensorboard dashboard summary, run the following on the command line:\n",
      "\n",
      "tensorboard --logdir='/Users/ccthomps/Documents/Python Files/Kaggle Competitions/Nature Conservancy Fisheries/FISHFINDER_MODELS/PILOT_RUN_v5/Tensorboard_logs'\n",
      "\n",
      "Loading high-resolution image dictionary...\n",
      "`image_dictionary` loaded!\n",
      "\n",
      "TRAINING FISHFINDER...\n",
      "Epoch 1 completed : 13312 fovea observed. Model checkpoint created!\n",
      "Epoch 2 completed : 26624 fovea observed. Model checkpoint created!\n",
      "Epoch 3 completed : 39936 fovea observed. Model checkpoint created!\n",
      "Epoch 4 completed : 53312 fovea observed. Model checkpoint created!\n",
      "Epoch 5 completed : 66688 fovea observed. Model checkpoint created!\n",
      "Epoch 6 completed : 80064 fovea observed. Model checkpoint created!\n",
      "Epoch 7 completed : 93440 fovea observed. Model checkpoint created!\n",
      "Epoch 8 completed : 106816 fovea observed. Model checkpoint created!\n",
      "Epoch 9 completed : 120256 fovea observed. Model checkpoint created!\n",
      "Epoch 10 completed : 133760 fovea observed. Model checkpoint created!\n",
      "Epoch 11 completed : 147264 fovea observed. Model checkpoint created!\n",
      "Epoch 12 completed : 160768 fovea observed. Model checkpoint created!\n",
      "Epoch 13 completed : 174336 fovea observed. Model checkpoint created!\n",
      "Epoch 14 completed : 187904 fovea observed. Model checkpoint created!\n",
      "Epoch 15 completed : 201536 fovea observed. Model checkpoint created!\n",
      "Epoch 16 completed : 215168 fovea observed. Model checkpoint created!\n",
      "Epoch 17 completed : 228800 fovea observed. Model checkpoint created!\n",
      "Epoch 18 completed : 242432 fovea observed. Model checkpoint created!\n",
      "Epoch 19 completed : 256064 fovea observed. Model checkpoint created!\n",
      "Epoch 20 completed : 269696 fovea observed. Model checkpoint created!\n",
      "Epoch 21 completed : 283392 fovea observed. Model checkpoint created!\n",
      "Epoch 22 completed : 297088 fovea observed. Model checkpoint created!\n",
      "Epoch 23 completed : 310784 fovea observed. Model checkpoint created!\n",
      "Epoch 24 completed : 324480 fovea observed. Model checkpoint created!\n",
      "Epoch 25 completed : 338176 fovea observed. Model checkpoint created!\n",
      "Epoch 26 completed : 351872 fovea observed. Model checkpoint created!\n",
      "Epoch 27 completed : 365568 fovea observed. Model checkpoint created!\n",
      "Epoch 28 completed : 379264 fovea observed. Model checkpoint created!\n",
      "Epoch 29 completed : 392960 fovea observed. Model checkpoint created!\n",
      "Epoch 30 completed : 406656 fovea observed. Model checkpoint created!\n",
      "Epoch 31 completed : 420352 fovea observed. Model checkpoint created!\n",
      "Epoch 32 completed : 434048 fovea observed. Model checkpoint created!\n",
      "Epoch 33 completed : 447744 fovea observed. Model checkpoint created!\n",
      "Epoch 34 completed : 461440 fovea observed. Model checkpoint created!\n",
      "Epoch 35 completed : 475264 fovea observed. Model checkpoint created!\n",
      "Epoch 36 completed : 489088 fovea observed. Model checkpoint created!\n",
      "Epoch 37 completed : 502976 fovea observed. Model checkpoint created!\n",
      "Epoch 38 completed : 516864 fovea observed. Model checkpoint created!\n",
      "Epoch 39 completed : 530752 fovea observed. Model checkpoint created!\n",
      "Epoch 40 completed : 544640 fovea observed. Model checkpoint created!\n",
      "Epoch 41 completed : 558528 fovea observed. Model checkpoint created!\n",
      "Epoch 42 completed : 572416 fovea observed. Model checkpoint created!\n",
      "Epoch 43 completed : 586304 fovea observed. Model checkpoint created!\n",
      "Epoch 44 completed : 600192 fovea observed. Model checkpoint created!\n",
      "Epoch 45 completed : 614080 fovea observed. Model checkpoint created!\n",
      "Epoch 46 completed : 627968 fovea observed. Model checkpoint created!\n",
      "Epoch 47 completed : 641856 fovea observed. Model checkpoint created!\n",
      "Epoch 48 completed : 655744 fovea observed. Model checkpoint created!\n",
      "Epoch 49 completed : 669632 fovea observed. Model checkpoint created!\n",
      "Epoch 50 completed : 683520 fovea observed. Model checkpoint created!\n",
      "Epoch 51 completed : 697408 fovea observed. Model checkpoint created!\n",
      "Epoch 52 completed : 711296 fovea observed. Model checkpoint created!\n",
      "Epoch 53 completed : 725184 fovea observed. Model checkpoint created!\n",
      "Epoch 54 completed : 739072 fovea observed. Model checkpoint created!\n",
      "Epoch 55 completed : 752960 fovea observed. Model checkpoint created!\n",
      "Epoch 56 completed : 766848 fovea observed. Model checkpoint created!\n",
      "Epoch 57 completed : 780736 fovea observed. Model checkpoint created!\n",
      "Epoch 58 completed : 794624 fovea observed. Model checkpoint created!\n",
      "Epoch 59 completed : 808512 fovea observed. Model checkpoint created!\n",
      "Epoch 60 completed : 822400 fovea observed. Model checkpoint created!\n",
      "Epoch 61 completed : 836288 fovea observed. Model checkpoint created!\n",
      "Epoch 62 completed : 850176 fovea observed. Model checkpoint created!\n",
      "Epoch 63 completed : 864064 fovea observed. Model checkpoint created!\n",
      "Epoch 64 completed : 877952 fovea observed. Model checkpoint created!\n",
      "Epoch 65 completed : 891840 fovea observed. Model checkpoint created!\n",
      "Epoch 66 completed : 905728 fovea observed. Model checkpoint created!\n",
      "Epoch 67 completed : 919616 fovea observed. Model checkpoint created!\n",
      "Epoch 68 completed : 933504 fovea observed. Model checkpoint created!\n",
      "Epoch 69 completed : 947392 fovea observed. Model checkpoint created!\n",
      "Epoch 70 completed : 961280 fovea observed. Model checkpoint created!\n",
      "Epoch 71 completed : 975168 fovea observed. Model checkpoint created!\n",
      "Epoch 72 completed : 989056 fovea observed. Model checkpoint created!\n",
      "Epoch 73 completed : 1002944 fovea observed. Model checkpoint created!\n",
      "Epoch 74 completed : 1016832 fovea observed. Model checkpoint created!\n",
      "Epoch 75 completed : 1030720 fovea observed. Model checkpoint created!\n",
      "Epoch 76 completed : 1044608 fovea observed. Model checkpoint created!\n",
      "Epoch 77 completed : 1058496 fovea observed. Model checkpoint created!\n"
     ]
    }
   ],
   "source": [
    "%run -i 'FISH_FINDER_SESSION.py'"
   ]
  },
  {
   "cell_type": "markdown",
   "metadata": {},
   "source": [
    "**Note [EPOCH 2]:**  After Epoch 2, almost all staged fovea have been kept above a threshold of 0.5.  However every prediction is 'NoF'.  I have increased the beta on the penalty weights by 10 to 1e-1.  Nevertheless I am commiting fovea by changing the labels as needed or commiting the correctly predicted 'NoF'."
   ]
  },
  {
   "cell_type": "markdown",
   "metadata": {},
   "source": [
    "**NOTE [EPOCH 7]:**  After increasing the penalty to correct for unbalanced data, there was a 2-4 epoch duration where no images remained in the stage set.  After decreasing the keep_probability threshold slightly, Epoch 6 and 7 saw many images retained.  Unlike the first couple of epochs, these images were generally correctly classified as 'NoF'.  There were a few fish images classified as 'NoF' but drastically reduced from the earlier epochs.  This indicates that the model is getting better at predicting 'NoF' fovea, but has a ways to go until fish are confidentally predicted.  Hopefully this will occur without further optimization though.  "
   ]
  },
  {
   "cell_type": "markdown",
   "metadata": {},
   "source": [
    "**NOTE [EPOCH 9]:** Most predictions were incorrectly labled as 'NoF' but actually depicted fish in this stage round."
   ]
  },
  {
   "cell_type": "markdown",
   "metadata": {},
   "source": [
    "**NOTE [EPOCH 10]:** All predictions correctly labeled as 'NoF'."
   ]
  },
  {
   "cell_type": "markdown",
   "metadata": {},
   "source": [
    "**NOTE [EPOCH 75]:** The first observation of a high confidence prediction of a fish!  A SHARK correctly predicted."
   ]
  },
  {
   "cell_type": "code",
   "execution_count": 6,
   "metadata": {
    "collapsed": true
   },
   "outputs": [],
   "source": [
    "from importlib import reload"
   ]
  },
  {
   "cell_type": "code",
   "execution_count": 7,
   "metadata": {
    "collapsed": false
   },
   "outputs": [
    {
     "data": {
      "text/plain": [
       "<module 'fish_data' from '/Users/ccthomps/Documents/Python Files/Kaggle Competitions/Nature Conservancy Fisheries/fish_data.py'>"
      ]
     },
     "execution_count": 7,
     "metadata": {},
     "output_type": "execute_result"
    }
   ],
   "source": [
    "reload(fd)"
   ]
  },
  {
   "cell_type": "code",
   "execution_count": 8,
   "metadata": {
    "collapsed": false,
    "scrolled": false
   },
   "outputs": [
    {
     "name": "stdout",
     "output_type": "stream",
     "text": [
      "Help on module fish_data:\n",
      "\n",
      "NAME\n",
      "    fish_data\n",
      "\n",
      "DESCRIPTION\n",
      "    fish_data module contains the helper functions for the model build of the\n",
      "    Nature Conservancy Fisheries Kaggle Competition.\n",
      "    \n",
      "    Dependencies:\n",
      "        * numpy as np\n",
      "        * os\n",
      "        * scipy.ndimage as ndimage\n",
      "        * scipy.misc as misc\n",
      "        * scipy.special as special\n",
      "        * matplotlib.pyplot as plt\n",
      "        * tensorflow as tf\n",
      "        * pickle\n",
      "\n",
      "FUNCTIONS\n",
      "    count_nodes(x, y, kernel, stride, conv_depth, pad='SAME')\n",
      "        Calculates the number of total nodes present in the next layer of a\n",
      "        convolution OR max_pooling event.\n",
      "    \n",
      "    decode_image(image_name, size, num_channels=3, mean_channel_vals=[155.0, 155.0, 155.0], mutate=False, crop='random', crop_size=224)\n",
      "        Converts a dequeued image read from filename to a single tensor array,\n",
      "        with modifications:\n",
      "            * smallest dimension resized to standard height and width supplied in size param\n",
      "            * each channel centered to mean near zero.  Deviation is not normalized.\n",
      "            * if mutate == True :\n",
      "                * random flip left right\n",
      "                * random flip up down\n",
      "                * TODO : random colour adjustment\n",
      "                * random crop from standard size to crop size (e.g. 256x256 to 224x224)\n",
      "    \n",
      "    fovea_generation(image_dictionary, num_fovea=100, fov_size=224)\n",
      "        Function for random sampling of high-resolution image files, followed by\n",
      "        random fovea generation.\n",
      "    \n",
      "    generate_balanced_filenames_epoch(f_list, labels, shuffle=True)\n",
      "        Returns a shuffled list of filenames, of which some will be duplicates, such\n",
      "        that each fish class is represented equally, along with corresponding one-hot\n",
      "        labels for the list.\n",
      "    \n",
      "    generate_filenames_list(subdirectory='data/train/', subfolders=True)\n",
      "        Iterates through the default 'data/train' folders of the working directory to\n",
      "        generate a list of filenames\n",
      "    \n",
      "    make_coordinates_dict(filename_list, resize_val=1.0, presize=256, bins=(4, 3), force=False, store=False)\n",
      "        Utilizes a nested dictionary to crop images into multiple fovea for generation of a naive (i.e. unlabeled)\n",
      "        image set.\n",
      "    \n",
      "    make_labels(filename_list, directory_string='train/', end_string='/img')\n",
      "        Receives a list of filenames and returns an ordered one-hot label\n",
      "        array by finding the fish species ID within the filename string.\n",
      "    \n",
      "    manual_stage_manager(staged_dictionary, training_set_dictionary, fovea_size, stage_step_threshold, md)\n",
      "        Convience function that prompts the user to verify fovea labels predicted by the FISHFINDER model for the\n",
      "        fovea that are currently staged.  The stage_step_threshold can be used to filter only those fovea where\n",
      "        predictions are stable, having passed the staging test `n` or more consecutive times.  The user may commit as\n",
      "        labeled, or may change the fovea label to the fish class when NoF has been incorrectly predicted.  Finally, the\n",
      "        user may also destage the fovea if the fovea prediction is incorrect or ambiguous.\n",
      "    \n",
      "    prepare_batch(dictionary, set_list, batch_size, fov_size, label_dictionary, return_label='onehot')\n",
      "        Retrieves fovea from a dictionary that contains filname, coordinates of\n",
      "        fovea, fovea_label, pre-scale float.  As fovea are added to the batch, they\n",
      "        are removed from training_set_list to avoid duplicate use.\n",
      "    \n",
      "    process_fovea(fovea, pixel_norm='standard', mutation=False)\n",
      "        Fn preprocesses a single fovea array.\n",
      "        \n",
      "        If mutation == True, modifications to input images will be made, each with 0.5\n",
      "        probability:\n",
      "        \n",
      "            * smallest dimension resized to standard height and width supplied in size param\n",
      "            * each channel centered to mean near zero.  Deviation is not normalized.\n",
      "            * if mutate == True :\n",
      "                * random flip left right\n",
      "                * random flip up down\n",
      "                * random rotation 90 degrees\n",
      "                * TODO : random colour adjustment\n",
      "        \n",
      "        Pixel value normalization is under development.\n",
      "    \n",
      "    show_panel(image)\n",
      "        Convenience function for showing an inline montage of the colour and merged channels\n",
      "    \n",
      "    stage_set_supervisor(stgd_lgts, staged_dictionary, training_set_dictionary, keys, label_dict, reverse_label_dict)\n",
      "        This function manages the dictionaries that contain the training and\n",
      "        staged sets of fovea.  After random fovea are added to the staged set, and run\n",
      "        through the current FISHFINDER model for label prediction, this fn will\n",
      "        destage, keep, or commit the fovea to the training_set_dictionary.\n",
      "        \n",
      "        Each high-resolution image that contains a fish is composed of fovea that\n",
      "        are either depict NoF or depict the fish. Because labels exist for all of the\n",
      "        training set of high-resolution images, this function will utilize the predicted\n",
      "        probabilities that the fovea either contains no fish, and thus the fovea label is\n",
      "        set to 'NoF', or contains some type of fish, in which case the image label would be\n",
      "        propigated to the fovea label.\n",
      "        \n",
      "        A series of conditions will ensure that fovea are not incorrectly labeled and\n",
      "        committed automatically to the growing training set.\n",
      "\n",
      "DATA\n",
      "    __warningregistry__ = {(\"unclosed file <_io.TextIOWrapper name='commit...\n",
      "\n",
      "FILE\n",
      "    /Users/ccthomps/Documents/Python Files/Kaggle Competitions/Nature Conservancy Fisheries/fish_data.py\n",
      "\n",
      "\n"
     ]
    }
   ],
   "source": [
    "help(fd)"
   ]
  },
  {
   "cell_type": "code",
   "execution_count": 9,
   "metadata": {
    "collapsed": true
   },
   "outputs": [],
   "source": [
    "initiate_model = False"
   ]
  },
  {
   "cell_type": "code",
   "execution_count": 11,
   "metadata": {
    "collapsed": false
   },
   "outputs": [
    {
     "name": "stdout",
     "output_type": "stream",
     "text": [
      "Loading FISHFINDER version PILOT_RUN_v5\n",
      "Metadata dictionary loaded!\n",
      "Initializing restorer...\n",
      "Weights and biases retrieved!  Picking up at 77 epochs completed : 1058496 training images observed\n",
      "Checkpoint saver initialized!\n",
      "\n",
      "Tensorboard initialized!\n",
      "To view your tensorboard dashboard summary, run the following on the command line:\n",
      "\n",
      "tensorboard --logdir='/Users/ccthomps/Documents/Python Files/Kaggle Competitions/Nature Conservancy Fisheries/FISHFINDER_MODELS/PILOT_RUN_v5/Tensorboard_logs'\n",
      "\n",
      "Loading high-resolution image dictionary...\n",
      "`image_dictionary` loaded!\n",
      "\n",
      "TRAINING FISHFINDER...\n",
      "Epoch 78 completed : 1072704 fovea observed. Model checkpoint created!\n",
      "Epoch 79 completed : 1086912 fovea observed. Model checkpoint created!\n",
      "Epoch 80 completed : 1101120 fovea observed. Model checkpoint created!\n",
      "Epoch 81 completed : 1115328 fovea observed. Model checkpoint created!\n",
      "Epoch 82 completed : 1129536 fovea observed. Model checkpoint created!\n",
      "Epoch 83 completed : 1143744 fovea observed. Model checkpoint created!\n",
      "Epoch 84 completed : 1157952 fovea observed. Model checkpoint created!\n",
      "Epoch 85 completed : 1172160 fovea observed. Model checkpoint created!\n",
      "Epoch 86 completed : 1186368 fovea observed. Model checkpoint created!\n",
      "Epoch 87 completed : 1200640 fovea observed. Model checkpoint created!\n",
      "Epoch 88 completed : 1214912 fovea observed. Model checkpoint created!\n",
      "Epoch 89 completed : 1229184 fovea observed. Model checkpoint created!\n",
      "Epoch 90 completed : 1243456 fovea observed. Model checkpoint created!\n",
      "Epoch 91 completed : 1257728 fovea observed. Model checkpoint created!\n",
      "Epoch 92 completed : 1272000 fovea observed. Model checkpoint created!\n",
      "Epoch 93 completed : 1286272 fovea observed. Model checkpoint created!\n",
      "Epoch 94 completed : 1300544 fovea observed. Model checkpoint created!\n",
      "Epoch 95 completed : 1314816 fovea observed. Model checkpoint created!\n"
     ]
    }
   ],
   "source": [
    "%run -i 'FISH_FINDER_SESSION.py'"
   ]
  },
  {
   "cell_type": "code",
   "execution_count": 12,
   "metadata": {
    "collapsed": false
   },
   "outputs": [
    {
     "data": {
      "text/plain": [
       "<module 'fish_data' from '/Users/ccthomps/Documents/Python Files/Kaggle Competitions/Nature Conservancy Fisheries/fish_data.py'>"
      ]
     },
     "execution_count": 12,
     "metadata": {},
     "output_type": "execute_result"
    }
   ],
   "source": [
    "reload(fd)"
   ]
  },
  {
   "cell_type": "code",
   "execution_count": 14,
   "metadata": {
    "collapsed": false
   },
   "outputs": [
    {
     "name": "stdout",
     "output_type": "stream",
     "text": [
      "Loading FISHFINDER version PILOT_RUN_v5\n",
      "Metadata dictionary loaded!\n",
      "Initializing restorer...\n",
      "Weights and biases retrieved!  Picking up at 95 epochs completed : 1314816 training images observed\n",
      "Checkpoint saver initialized!\n",
      "\n",
      "Tensorboard initialized!\n",
      "To view your tensorboard dashboard summary, run the following on the command line:\n",
      "\n",
      "tensorboard --logdir='/Users/ccthomps/Documents/Python Files/Kaggle Competitions/Nature Conservancy Fisheries/FISHFINDER_MODELS/PILOT_RUN_v5/Tensorboard_logs'\n",
      "\n",
      "Loading high-resolution image dictionary...\n",
      "`image_dictionary` loaded!\n",
      "\n",
      "TRAINING FISHFINDER...\n",
      "Epoch 96 completed : 1329088 fovea observed. Model checkpoint created!\n",
      "Epoch 97 completed : 1343360 fovea observed. Model checkpoint created!\n"
     ]
    }
   ],
   "source": [
    "%run -i 'FISH_FINDER_SESSION.py'"
   ]
  },
  {
   "cell_type": "code",
   "execution_count": 15,
   "metadata": {
    "collapsed": false
   },
   "outputs": [
    {
     "data": {
      "text/plain": [
       "<module 'fish_data' from '/Users/ccthomps/Documents/Python Files/Kaggle Competitions/Nature Conservancy Fisheries/fish_data.py'>"
      ]
     },
     "execution_count": 15,
     "metadata": {},
     "output_type": "execute_result"
    }
   ],
   "source": [
    "reload(fd)"
   ]
  },
  {
   "cell_type": "code",
   "execution_count": 16,
   "metadata": {
    "collapsed": false
   },
   "outputs": [
    {
     "name": "stdout",
     "output_type": "stream",
     "text": [
      "Loading FISHFINDER version PILOT_RUN_v5\n",
      "Metadata dictionary loaded!\n",
      "Initializing restorer...\n",
      "Weights and biases retrieved!  Picking up at 97 epochs completed : 1343360 training images observed\n",
      "Checkpoint saver initialized!\n",
      "\n",
      "Tensorboard initialized!\n",
      "To view your tensorboard dashboard summary, run the following on the command line:\n",
      "\n",
      "tensorboard --logdir='/Users/ccthomps/Documents/Python Files/Kaggle Competitions/Nature Conservancy Fisheries/FISHFINDER_MODELS/PILOT_RUN_v5/Tensorboard_logs'\n",
      "\n",
      "Loading high-resolution image dictionary...\n",
      "`image_dictionary` loaded!\n",
      "\n",
      "TRAINING FISHFINDER...\n",
      "Epoch 98 completed : 1357632 fovea observed. Model checkpoint created!\n",
      "Epoch 99 completed : 1371904 fovea observed. Model checkpoint created!\n",
      "Epoch 100 completed : 1386176 fovea observed. Model checkpoint created!\n",
      "Epoch 101 completed : 1400448 fovea observed. Model checkpoint created!\n",
      "Epoch 102 completed : 1414912 fovea observed. Model checkpoint created!\n",
      "Epoch 103 completed : 1429568 fovea observed. Model checkpoint created!\n",
      "Epoch 104 completed : 1444224 fovea observed. Model checkpoint created!\n",
      "Epoch 105 completed : 1458944 fovea observed. Model checkpoint created!\n",
      "Epoch 106 completed : 1473664 fovea observed. Model checkpoint created!\n",
      "Epoch 107 completed : 1488448 fovea observed. Model checkpoint created!\n",
      "Epoch 108 completed : 1503232 fovea observed. Model checkpoint created!\n",
      "Epoch 109 completed : 1518016 fovea observed. Model checkpoint created!\n",
      "Epoch 110 completed : 1532864 fovea observed. Model checkpoint created!\n",
      "Epoch 111 completed : 1547776 fovea observed. Model checkpoint created!\n",
      "Epoch 112 completed : 1562688 fovea observed. Model checkpoint created!\n",
      "Epoch 113 completed : 1577664 fovea observed. Model checkpoint created!\n",
      "Epoch 114 completed : 1592704 fovea observed. Model checkpoint created!\n",
      "Epoch 115 completed : 1607744 fovea observed. Model checkpoint created!\n",
      "Epoch 116 completed : 1622784 fovea observed. Model checkpoint created!\n",
      "Epoch 117 completed : 1637824 fovea observed. Model checkpoint created!\n",
      "Epoch 118 completed : 1652992 fovea observed. Model checkpoint created!\n",
      "Epoch 119 completed : 1668160 fovea observed. Model checkpoint created!\n",
      "Epoch 120 completed : 1683328 fovea observed. Model checkpoint created!\n",
      "Epoch 121 completed : 1698496 fovea observed. Model checkpoint created!\n",
      "Epoch 122 completed : 1713664 fovea observed. Model checkpoint created!\n",
      "Epoch 123 completed : 1728832 fovea observed. Model checkpoint created!\n",
      "Epoch 124 completed : 1744000 fovea observed. Model checkpoint created!\n",
      "Epoch 125 completed : 1759168 fovea observed. Model checkpoint created!\n",
      "Epoch 126 completed : 1774336 fovea observed. Model checkpoint created!\n",
      "Epoch 127 completed : 1789504 fovea observed. Model checkpoint created!\n"
     ]
    }
   ],
   "source": [
    "%run -i 'FISH_FINDER_SESSION.py'"
   ]
  },
  {
   "cell_type": "markdown",
   "metadata": {},
   "source": [
    "**NOTE [EPOCH 112]:** Increased Cost penalty 5-fold."
   ]
  },
  {
   "cell_type": "markdown",
   "metadata": {},
   "source": [
    "**NOTE [EPOCH 116]:** Very few NoF are currently predicted.  Sensitivity on Fish has gone up, precision down."
   ]
  },
  {
   "cell_type": "markdown",
   "metadata": {},
   "source": [
    "**NOTE [EPOCH 127]:** Training finished for now.  Model fails to predict 'NoF' except in the very certain cases due to the penalty for missing the low frequency fish examples (Thus if it doesn't know it is guessing fish).  In the TEST images, often a fish is predicted when a fish is present, however it is rarely the correct fish.  Nevertheless, this shows progress. Current training time stands at 3d 20 hours... and my laptop needs a rest.  "
   ]
  },
  {
   "cell_type": "code",
   "execution_count": null,
   "metadata": {
    "collapsed": true
   },
   "outputs": [],
   "source": []
  }
 ],
 "metadata": {
  "kernelspec": {
   "display_name": "Python [conda root]",
   "language": "python",
   "name": "conda-root-py"
  },
  "language_info": {
   "codemirror_mode": {
    "name": "ipython",
    "version": 3
   },
   "file_extension": ".py",
   "mimetype": "text/x-python",
   "name": "python",
   "nbconvert_exporter": "python",
   "pygments_lexer": "ipython3",
   "version": "3.5.2"
  }
 },
 "nbformat": 4,
 "nbformat_minor": 2
}
