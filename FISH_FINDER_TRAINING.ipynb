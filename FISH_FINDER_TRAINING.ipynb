{
 "cells": [
  {
   "cell_type": "markdown",
   "metadata": {},
   "source": [
    "# Nature Conservancy Fisheries Kaggle Competition\n",
    "## Train fishfinder model \n",
    "\n",
    "\n",
    "#### Dependencies"
   ]
  },
  {
   "cell_type": "code",
   "execution_count": 1,
   "metadata": {
    "collapsed": true
   },
   "outputs": [],
   "source": [
    "import tensorflow as tf\n",
    "import numpy as np\n",
    "import pandas as pd\n",
    "import pickle\n",
    "import matplotlib.pyplot as plt\n",
    "% matplotlib inline\n",
    "from scipy import misc\n",
    "import os\n",
    "import fish_data as fd"
   ]
  },
  {
   "cell_type": "code",
   "execution_count": 29,
   "metadata": {
    "collapsed": true
   },
   "outputs": [],
   "source": [
    "%run -i 'FISH_FINDER_PARAMS.py'"
   ]
  },
  {
   "cell_type": "code",
   "execution_count": 36,
   "metadata": {
    "collapsed": false,
    "scrolled": false
   },
   "outputs": [],
   "source": [
    "%run -i 'FISH_FINDER_GRAPH.py'"
   ]
  },
  {
   "cell_type": "code",
   "execution_count": 33,
   "metadata": {
    "collapsed": false
   },
   "outputs": [
    {
     "name": "stdout",
     "output_type": "stream",
     "text": [
      "Help on function softmax_cross_entropy_with_logits in module tensorflow.python.ops.nn_ops:\n",
      "\n",
      "softmax_cross_entropy_with_logits(logits, labels, dim=-1, name=None)\n",
      "    Computes softmax cross entropy between `logits` and `labels`.\n",
      "    \n",
      "    Measures the probability error in discrete classification tasks in which the\n",
      "    classes are mutually exclusive (each entry is in exactly one class).  For\n",
      "    example, each CIFAR-10 image is labeled with one and only one label: an image\n",
      "    can be a dog or a truck, but not both.\n",
      "    \n",
      "    **NOTE:**  While the classes are mutually exclusive, their probabilities\n",
      "    need not be.  All that is required is that each row of `labels` is\n",
      "    a valid probability distribution.  If they are not, the computation of the\n",
      "    gradient will be incorrect.\n",
      "    \n",
      "    If using exclusive `labels` (wherein one and only\n",
      "    one class is true at a time), see `sparse_softmax_cross_entropy_with_logits`.\n",
      "    \n",
      "    **WARNING:** This op expects unscaled logits, since it performs a `softmax`\n",
      "    on `logits` internally for efficiency.  Do not call this op with the\n",
      "    output of `softmax`, as it will produce incorrect results.\n",
      "    \n",
      "    `logits` and `labels` must have the same shape `[batch_size, num_classes]`\n",
      "    and the same dtype (either `float16`, `float32`, or `float64`).\n",
      "    \n",
      "    Args:\n",
      "      logits: Unscaled log probabilities.\n",
      "      labels: Each row `labels[i]` must be a valid probability distribution.\n",
      "      dim: The class dimension. Defaulted to -1 which is the last dimension.\n",
      "      name: A name for the operation (optional).\n",
      "    \n",
      "    Returns:\n",
      "      A 1-D `Tensor` of length `batch_size` of the same type as `logits` with the\n",
      "      softmax cross entropy loss.\n",
      "\n"
     ]
    }
   ],
   "source": [
    "help(tf.nn.softmax_cross_entropy_with_logits)"
   ]
  },
  {
   "cell_type": "code",
   "execution_count": null,
   "metadata": {
    "collapsed": true
   },
   "outputs": [],
   "source": []
  }
 ],
 "metadata": {
  "kernelspec": {
   "display_name": "Python [conda root]",
   "language": "python",
   "name": "conda-root-py"
  },
  "language_info": {
   "codemirror_mode": {
    "name": "ipython",
    "version": 3
   },
   "file_extension": ".py",
   "mimetype": "text/x-python",
   "name": "python",
   "nbconvert_exporter": "python",
   "pygments_lexer": "ipython3",
   "version": "3.5.2"
  }
 },
 "nbformat": 4,
 "nbformat_minor": 2
}
