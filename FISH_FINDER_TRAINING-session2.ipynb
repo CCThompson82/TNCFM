{
 "cells": [
  {
   "cell_type": "markdown",
   "metadata": {},
   "source": [
    "# Nature Conservancy Fisheries Kaggle Competition\n",
    "## Train fishfinder model \n",
    "\n",
    "This is the second training session which will be picked up from the model and storage dictionaries left from the training in `FISH_FINDER_TRAINING.ipynb`.  Training should pick up from Epoch 127.\n",
    "\n",
    "#### Dependencies"
   ]
  },
  {
   "cell_type": "code",
   "execution_count": 1,
   "metadata": {
    "collapsed": false
   },
   "outputs": [],
   "source": [
    "import tensorflow as tf\n",
    "import numpy as np\n",
    "import pandas as pd\n",
    "import pickle\n",
    "from scipy import misc\n",
    "import os\n",
    "import fish_data as fd"
   ]
  },
  {
   "cell_type": "code",
   "execution_count": 2,
   "metadata": {
    "collapsed": false
   },
   "outputs": [],
   "source": [
    "%run -i 'FISH_FINDER_PARAMS.py'"
   ]
  },
  {
   "cell_type": "code",
   "execution_count": 3,
   "metadata": {
    "collapsed": false,
    "scrolled": false
   },
   "outputs": [],
   "source": [
    "%run -i 'FISH_FINDER_GRAPH.py'"
   ]
  },
  {
   "cell_type": "code",
   "execution_count": 4,
   "metadata": {
    "collapsed": true
   },
   "outputs": [],
   "source": [
    "version_ID = 'PILOT_RUN_v5'\n",
    "initiate_model = False #  Important to change to False or old model will be saved over.  "
   ]
  },
  {
   "cell_type": "code",
   "execution_count": 5,
   "metadata": {
    "collapsed": false,
    "scrolled": false
   },
   "outputs": [
    {
     "name": "stdout",
     "output_type": "stream",
     "text": [
      "Loading FISHFINDER version PILOT_RUN_v5\n",
      "Metadata dictionary loaded!\n",
      "Initializing restorer...\n",
      "Weights and biases retrieved!  Picking up at 127 epochs completed : 1789504 training images observed\n",
      "Checkpoint saver initialized!\n",
      "\n",
      "Tensorboard initialized!\n",
      "To view your tensorboard dashboard summary, run the following on the command line:\n",
      "\n",
      "tensorboard --logdir='/Users/ccthomps/Documents/Python Files/Kaggle Competitions/Nature Conservancy Fisheries/FISHFINDER_MODELS/PILOT_RUN_v5/Tensorboard_logs'\n",
      "\n",
      "Loading high-resolution image dictionary...\n",
      "`image_dictionary` loaded!\n",
      "\n",
      "TRAINING FISHFINDER...\n",
      "Epoch 128 completed : 1804864 fovea observed. Model checkpoint created!\n",
      "Epoch 129 completed : 1820224 fovea observed. Model checkpoint created!\n",
      "Epoch 130 completed : 1835648 fovea observed. Model checkpoint created!\n",
      "Epoch 131 completed : 1851072 fovea observed. Model checkpoint created!\n",
      "Epoch 132 completed : 1866496 fovea observed. Model checkpoint created!\n",
      "Epoch 133 completed : 1881920 fovea observed. Model checkpoint created!\n",
      "Epoch 134 completed : 1897344 fovea observed. Model checkpoint created!\n",
      "Epoch 135 completed : 1912768 fovea observed. Model checkpoint created!\n",
      "Epoch 136 completed : 1928192 fovea observed. Model checkpoint created!\n",
      "Epoch 137 completed : 1943616 fovea observed. Model checkpoint created!\n",
      "Epoch 138 completed : 1959168 fovea observed. Model checkpoint created!\n",
      "Epoch 139 completed : 1974720 fovea observed. Model checkpoint created!\n",
      "Epoch 140 completed : 1990272 fovea observed. Model checkpoint created!\n",
      "Epoch 141 completed : 2005824 fovea observed. Model checkpoint created!\n",
      "Epoch 142 completed : 2021376 fovea observed. Model checkpoint created!\n",
      "Epoch 143 completed : 2036928 fovea observed. Model checkpoint created!\n",
      "Epoch 144 completed : 2052480 fovea observed. Model checkpoint created!\n",
      "Epoch 145 completed : 2068032 fovea observed. Model checkpoint created!\n",
      "Epoch 146 completed : 2083584 fovea observed. Model checkpoint created!\n",
      "Epoch 147 completed : 2099136 fovea observed. Model checkpoint created!\n",
      "Epoch 148 completed : 2114688 fovea observed. Model checkpoint created!\n",
      "Epoch 149 completed : 2130240 fovea observed. Model checkpoint created!\n",
      "Epoch 150 completed : 2145792 fovea observed. Model checkpoint created!\n",
      "Epoch 151 completed : 2161536 fovea observed. Model checkpoint created!\n",
      "Epoch 152 completed : 2177280 fovea observed. Model checkpoint created!\n"
     ]
    }
   ],
   "source": [
    "%run -i 'FISH_FINDER_SESSION.py'"
   ]
  },
  {
   "cell_type": "markdown",
   "metadata": {},
   "source": [
    "###  Refactored fish_data\n",
    "Fn `fovea_generation` was refactored to include control over the scaling size.  This was accidentally set to a range of 0.4 to 0.8 previously.  This resulted in many complicated fovea with lots of distinct objects that made for colinearity in features.  By adjusting the scaling range from 0.4 to 1.4 (uniform distribution), the fovea that are generated may have a better chance of capturing distinct features (fish head, fish tail, etc).  "
   ]
  },
  {
   "cell_type": "code",
   "execution_count": 6,
   "metadata": {
    "collapsed": true
   },
   "outputs": [],
   "source": [
    "from importlib import reload"
   ]
  },
  {
   "cell_type": "code",
   "execution_count": 7,
   "metadata": {
    "collapsed": false
   },
   "outputs": [
    {
     "data": {
      "text/plain": [
       "<module 'fish_data' from '/Users/ccthomps/Documents/Python Files/Kaggle Competitions/Nature Conservancy Fisheries/fish_data.py'>"
      ]
     },
     "execution_count": 7,
     "metadata": {},
     "output_type": "execute_result"
    }
   ],
   "source": [
    "reload(fd)"
   ]
  },
  {
   "cell_type": "code",
   "execution_count": 8,
   "metadata": {
    "collapsed": false
   },
   "outputs": [
    {
     "name": "stdout",
     "output_type": "stream",
     "text": [
      "Help on function fovea_generation in module fish_data:\n",
      "\n",
      "fovea_generation(image_dictionary, num_fovea=100, fov_size=224, scale_min=0.4, scale_max=1.0)\n",
      "    Function for random sampling of high-resolution image files, followed by\n",
      "    random fovea generation.\n",
      "\n"
     ]
    }
   ],
   "source": [
    "help(fd.fovea_generation)"
   ]
  },
  {
   "cell_type": "markdown",
   "metadata": {},
   "source": [
    "**NOTE:** Changed scale of image resizing to range of 0.4 to 1.4"
   ]
  },
  {
   "cell_type": "code",
   "execution_count": 11,
   "metadata": {
    "collapsed": false
   },
   "outputs": [
    {
     "name": "stdout",
     "output_type": "stream",
     "text": [
      "Loading FISHFINDER version PILOT_RUN_v5\n",
      "Metadata dictionary loaded!\n",
      "Initializing restorer...\n",
      "Weights and biases retrieved!  Picking up at 152 epochs completed : 2177280 training images observed\n",
      "Checkpoint saver initialized!\n",
      "\n",
      "Tensorboard initialized!\n",
      "To view your tensorboard dashboard summary, run the following on the command line:\n",
      "\n",
      "tensorboard --logdir='/Users/ccthomps/Documents/Python Files/Kaggle Competitions/Nature Conservancy Fisheries/FISHFINDER_MODELS/PILOT_RUN_v5/Tensorboard_logs'\n",
      "\n",
      "Loading high-resolution image dictionary...\n",
      "`image_dictionary` loaded!\n",
      "\n",
      "TRAINING FISHFINDER...\n",
      "Epoch 153 completed : 2193024 fovea observed. Model checkpoint created!\n",
      "Epoch 154 completed : 2208768 fovea observed. Model checkpoint created!\n",
      "Epoch 155 completed : 2224640 fovea observed. Model checkpoint created!\n",
      "Epoch 156 completed : 2240512 fovea observed. Model checkpoint created!\n",
      "Epoch 157 completed : 2256448 fovea observed. Model checkpoint created!\n",
      "Epoch 158 completed : 2272448 fovea observed. Model checkpoint created!\n",
      "Epoch 159 completed : 2288448 fovea observed. Model checkpoint created!\n",
      "Epoch 160 completed : 2304512 fovea observed. Model checkpoint created!\n",
      "Epoch 161 completed : 2320640 fovea observed. Model checkpoint created!\n",
      "Epoch 162 completed : 2336768 fovea observed. Model checkpoint created!\n",
      "Epoch 163 completed : 2352896 fovea observed. Model checkpoint created!\n",
      "Epoch 164 completed : 2369024 fovea observed. Model checkpoint created!\n",
      "Epoch 165 completed : 2385152 fovea observed. Model checkpoint created!\n",
      "Epoch 166 completed : 2401280 fovea observed. Model checkpoint created!\n",
      "Epoch 167 completed : 2417408 fovea observed. Model checkpoint created!\n",
      "Epoch 168 completed : 2433536 fovea observed. Model checkpoint created!\n",
      "Epoch 169 completed : 2449664 fovea observed. Model checkpoint created!\n",
      "Epoch 170 completed : 2465792 fovea observed. Model checkpoint created!\n",
      "Epoch 171 completed : 2481920 fovea observed. Model checkpoint created!\n",
      "Epoch 172 completed : 2498048 fovea observed. Model checkpoint created!\n",
      "Epoch 173 completed : 2514176 fovea observed. Model checkpoint created!\n",
      "Epoch 174 completed : 2530304 fovea observed. Model checkpoint created!\n",
      "Epoch 175 completed : 2546432 fovea observed. Model checkpoint created!\n",
      "Epoch 176 completed : 2562560 fovea observed. Model checkpoint created!\n",
      "Epoch 177 completed : 2578688 fovea observed. Model checkpoint created!\n",
      "Epoch 178 completed : 2594816 fovea observed. Model checkpoint created!\n",
      "Epoch 179 completed : 2610944 fovea observed. Model checkpoint created!\n",
      "Epoch 180 completed : 2627072 fovea observed. Model checkpoint created!\n",
      "Epoch 181 completed : 2643200 fovea observed. Model checkpoint created!\n",
      "Epoch 182 completed : 2659456 fovea observed. Model checkpoint created!\n",
      "Epoch 183 completed : 2675712 fovea observed. Model checkpoint created!\n",
      "Epoch 184 completed : 2692096 fovea observed. Model checkpoint created!\n",
      "Epoch 185 completed : 2708480 fovea observed. Model checkpoint created!\n",
      "Epoch 186 completed : 2724864 fovea observed. Model checkpoint created!\n",
      "Epoch 187 completed : 2741248 fovea observed. Model checkpoint created!\n",
      "Epoch 188 completed : 2757632 fovea observed. Model checkpoint created!\n",
      "Epoch 189 completed : 2774016 fovea observed. Model checkpoint created!\n",
      "Epoch 190 completed : 2790400 fovea observed. Model checkpoint created!\n",
      "Epoch 191 completed : 2806784 fovea observed. Model checkpoint created!\n",
      "Epoch 192 completed : 2823168 fovea observed. Model checkpoint created!\n",
      "Epoch 193 completed : 2839552 fovea observed. Model checkpoint created!\n",
      "Epoch 194 completed : 2855936 fovea observed. Model checkpoint created!\n",
      "Epoch 195 completed : 2872320 fovea observed. Model checkpoint created!\n",
      "Epoch 196 completed : 2888704 fovea observed. Model checkpoint created!\n",
      "Epoch 197 completed : 2905088 fovea observed. Model checkpoint created!\n",
      "Epoch 198 completed : 2921472 fovea observed. Model checkpoint created!\n",
      "Epoch 199 completed : 2937856 fovea observed. Model checkpoint created!\n",
      "Epoch 200 completed : 2954240 fovea observed. Model checkpoint created!\n",
      "Epoch 201 completed : 2970624 fovea observed. Model checkpoint created!\n",
      "Epoch 202 completed : 2987008 fovea observed. Model checkpoint created!\n",
      "Epoch 203 completed : 3003392 fovea observed. Model checkpoint created!\n",
      "Epoch 204 completed : 3019776 fovea observed. Model checkpoint created!\n",
      "Epoch 205 completed : 3036160 fovea observed. Model checkpoint created!\n",
      "Epoch 206 completed : 3052544 fovea observed. Model checkpoint created!\n",
      "Epoch 207 completed : 3068928 fovea observed. Model checkpoint created!\n",
      "Epoch 208 completed : 3085312 fovea observed. Model checkpoint created!\n",
      "Epoch 209 completed : 3101696 fovea observed. Model checkpoint created!\n",
      "Epoch 210 completed : 3118080 fovea observed. Model checkpoint created!\n",
      "Epoch 211 completed : 3134464 fovea observed. Model checkpoint created!\n",
      "Epoch 212 completed : 3150848 fovea observed. Model checkpoint created!\n",
      "Epoch 213 completed : 3167232 fovea observed. Model checkpoint created!\n",
      "Epoch 214 completed : 3183680 fovea observed. Model checkpoint created!\n",
      "Epoch 215 completed : 3200128 fovea observed. Model checkpoint created!\n",
      "Epoch 216 completed : 3216576 fovea observed. Model checkpoint created!\n",
      "Epoch 217 completed : 3233216 fovea observed. Model checkpoint created!\n",
      "Epoch 218 completed : 3249856 fovea observed. Model checkpoint created!\n"
     ]
    }
   ],
   "source": [
    "%run -i 'FISH_FINDER_SESSION.py'"
   ]
  },
  {
   "cell_type": "code",
   "execution_count": null,
   "metadata": {
    "collapsed": true
   },
   "outputs": [],
   "source": []
  }
 ],
 "metadata": {
  "kernelspec": {
   "display_name": "Python [conda root]",
   "language": "python",
   "name": "conda-root-py"
  },
  "language_info": {
   "codemirror_mode": {
    "name": "ipython",
    "version": 3
   },
   "file_extension": ".py",
   "mimetype": "text/x-python",
   "name": "python",
   "nbconvert_exporter": "python",
   "pygments_lexer": "ipython3",
   "version": "3.5.2"
  }
 },
 "nbformat": 4,
 "nbformat_minor": 2
}
